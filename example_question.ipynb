{
 "cells": [
  {
   "cell_type": "markdown",
   "id": "a616b8e6-5f6e-4441-a16a-92e2340755ea",
   "metadata": {},
   "source": [
    "<link rel=\"stylesheet\" type=\"text/css\" href=\"custom.css\">"
   ]
  },
  {
   "cell_type": "markdown",
   "id": "c4c85dd4-d3a8-4177-88b3-a5141befd3d9",
   "metadata": {},
   "source": [
    "<!-- ![Emeritus](logo.png) -->\n",
    "<a href=\"www.goemeritus.com\"><img src=\"emeritus_ai.png\" alt=\"Emeritus\" style=\"height: 50px; \"></a>\n",
    "<br>"
   ]
  },
  {
   "cell_type": "markdown",
   "id": "c5735f9b-23b1-4c0a-a151-525210f3c74b",
   "metadata": {},
   "source": [
    "<br>"
   ]
  },
  {
   "cell_type": "markdown",
   "id": "083361c0-09fc-4e7e-bcc9-4226c1a9b536",
   "metadata": {},
   "source": [
    "# Example questions\n",
    "This notebook contains code for creating different types of questions in `edsl`.\n",
    "\n",
    "<blockquote>\n",
    "<a href=\"#Multiple-Choice\" style=\"color:#4e4089\">Multiple choice</a><br>\n",
    "<a href=\"#Checkbox\" style=\"color:#4e4089\">Checkbox</a><br>\n",
    "<a href=\"#Linear-Scale\" style=\"color:#4e4089\">Linear Scale</a><br>\n",
    "<a href=\"#Yes-/-No\" style=\"color:#4e4089\">Yes / No</a><br>\n",
    "<a href=\"#Budget\" style=\"color:#4e4089\">Budget</a><br>\n",
    "<a href=\"#Free-Text\" style=\"color:#4e4089\">Free Text</a><br>\n",
    "<a href=\"#List\" style=\"color:#4e4089\">List</a><br>\n",
    "<a href=\"#Administering-questions\" style=\"color:#4e4089\">Administering questions</a><br>\n",
    "</blockquote>\n",
    "\n",
    "<br>\n",
    "<button style=\"padding: 10px 20px; font-size: 18px; font-weight:bold; spacing: 5px; color: white; border: 3px solid white; background-color:#4e4089; cursor: pointer;\"><a href=\"https://www.goemeritus.com/getting-started\" target=\"_blank\" style=\"color: white; text-decoration:none\">Back to examples</a></button>\n",
    "<button style=\"padding: 10px 20px; font-size: 18px; font-weight:bold; spacing: 5px; color: white; border: 3px solid white; background-color:#bbb; cursor: pointer;\"><a href=\"https://forms.gle/mge8M7TNadWpcJ2VA\" target=\"_blank\" style=\"color: white; text-decoration:none\">Send feedback</a></button>"
   ]
  },
  {
   "cell_type": "markdown",
   "id": "e4e3e4d0-2f49-48d0-a766-85b42e8c2dd9",
   "metadata": {},
   "source": [
    "<br>"
   ]
  },
  {
   "cell_type": "code",
   "execution_count": 1,
   "id": "e5740518",
   "metadata": {},
   "outputs": [],
   "source": [
    "from edsl.questions import QuestionMultipleChoice, QuestionCheckBox, QuestionFreeText, QuestionList, QuestionBudget\n",
    "from edsl.questions.derived.QuestionYesNo import QuestionYesNo\n",
    "from edsl.questions.derived.QuestionLinearScale import QuestionLinearScale"
   ]
  },
  {
   "cell_type": "markdown",
   "id": "f4dd2565-9f7d-4d87-a15b-cce3e3023847",
   "metadata": {},
   "source": [
    "# Multiple Choice\n",
    "A multiple choice question prompts the respondent to select a single option from a given set of options."
   ]
  },
  {
   "cell_type": "code",
   "execution_count": 2,
   "id": "68081c3a-c8e9-462b-ba8d-53b7cde5c277",
   "metadata": {},
   "outputs": [],
   "source": [
    "q_mc = QuestionMultipleChoice(\n",
    "    question_name = \"q_mc\",\n",
    "    question_text = \"How often do you shop for clothes?\",\n",
    "    question_options = [\n",
    "        \"Rarely or never\",\n",
    "        \"Annually\",\n",
    "        \"Seasonally\",\n",
    "        \"Monthly\",\n",
    "        \"Daily\"\n",
    "    ]\n",
    ")"
   ]
  },
  {
   "cell_type": "markdown",
   "id": "10bde5c3-c70c-4840-9e7d-1e7101b44884",
   "metadata": {},
   "source": [
    "# Checkbox\n",
    "A checkbox question prompts the respondent to select one or more of the given options, which are returned as a list."
   ]
  },
  {
   "cell_type": "code",
   "execution_count": 3,
   "id": "00ad8828-18bf-47db-a585-af43f89c93f8",
   "metadata": {},
   "outputs": [],
   "source": [
    "q_cb = QuestionCheckBox(\n",
    "    question_name = \"q_cb\",\n",
    "    question_text = \"Which of the following factors are important to you in making decisions about clothes shopping? Select all that apply.\",\n",
    "    question_options = [\n",
    "        \"Price\",\n",
    "        \"Quality\",\n",
    "        \"Brand Reputation\",\n",
    "        \"Style and Design\",\n",
    "        \"Fit and Comfort\",\n",
    "        \"Customer Reviews and Recommendations\",\n",
    "        \"Ethical and Sustainable Practices\",\n",
    "        \"Return Policy\",\n",
    "        \"Convenience\",\n",
    "        \"Other\"\n",
    "    ]\n",
    ")"
   ]
  },
  {
   "cell_type": "markdown",
   "id": "281d36e5-db36-473f-9610-c439c4cd35a2",
   "metadata": {},
   "source": [
    "# Linear Scale\n",
    "A linear scale question prompts the respondent to choose from a set of numerical options."
   ]
  },
  {
   "cell_type": "code",
   "execution_count": 4,
   "id": "8d68440f-3f39-4ab2-9ea7-b2626a2a074a",
   "metadata": {},
   "outputs": [],
   "source": [
    "q_ls = QuestionLinearScale(\n",
    "    question_name = \"q_ls\",\n",
    "    question_text = \"On a scale of 0-10, how much do you typically enjoy clothes shopping? (0 = Not at all, 10 = Very much)\",\n",
    "    question_options = [0,1,2,3,4,5,6,7,8,9,10]\n",
    ")"
   ]
  },
  {
   "cell_type": "markdown",
   "id": "2ea311f7-f05f-41ea-92db-6385494999de",
   "metadata": {},
   "source": [
    "# Yes / No\n",
    "A yes/no question requires the respondent to respond \"yes\" or \"no\". Response options are set by default and not modifiable. To include other options use a multiple choice question."
   ]
  },
  {
   "cell_type": "code",
   "execution_count": 5,
   "id": "71ebe7e4-4f65-4f60-a2aa-46e34e3e3b1a",
   "metadata": {},
   "outputs": [],
   "source": [
    "q_yn = QuestionYesNo(\n",
    "    question_name = \"q_yn\",\n",
    "    question_text = \"Have you ever felt excluded or frustrated by the standard sizes of the fashion industry?\", \n",
    ")"
   ]
  },
  {
   "cell_type": "markdown",
   "id": "37035924-836b-4014-95b2-2fae00ae38b8",
   "metadata": {},
   "source": [
    "# Budget\n",
    "A budget question prompts the respondent to allocation a specified sum among a set of options."
   ]
  },
  {
   "cell_type": "code",
   "execution_count": 6,
   "id": "76a8e8f8-ed3e-4d08-98da-ed0c94411d37",
   "metadata": {},
   "outputs": [],
   "source": [
    "q_bg = QuestionBudget(\n",
    "    question_name = \"q_bg\",\n",
    "    question_text = \"Estimate the percentage of your total time spent shopping for clothes in each of the following modes.\",\n",
    "    question_options=[\n",
    "        \"Online\",\n",
    "        \"Malls\",\n",
    "        \"Freestanding stores\",\n",
    "        \"Mail order catalogs\",\n",
    "        \"Other\"\n",
    "    ],\n",
    "    budget_sum = 100,\n",
    ")"
   ]
  },
  {
   "cell_type": "markdown",
   "id": "675a05ab-ff61-4f23-827e-2e4b9ee3c126",
   "metadata": {},
   "source": [
    "# Free Text\n",
    "A free text question prompts the respondent to provide a short unstructured response."
   ]
  },
  {
   "cell_type": "code",
   "execution_count": 7,
   "id": "0595bf5f-157b-4da1-815a-1d525d7f36aa",
   "metadata": {},
   "outputs": [],
   "source": [
    "q_ft = QuestionFreeText(\n",
    "    question_name = \"q_ft\",\n",
    "    question_text = \"What improvements would you like to see in clothing options for tall women?\",\n",
    "    allow_nonresponse = False,\n",
    ")"
   ]
  },
  {
   "cell_type": "markdown",
   "id": "1b397a90-c551-4985-b610-3e304d4d7c82",
   "metadata": {},
   "source": [
    "# List\n",
    "A list question prompts the respondent to provide a response in the form of a list. This can be a convenient way to reformat free text questions."
   ]
  },
  {
   "cell_type": "code",
   "execution_count": 8,
   "id": "f24a39b1-7747-4aec-9005-5026be54f402",
   "metadata": {},
   "outputs": [],
   "source": [
    "q_li = QuestionList(\n",
    "    question_name = \"q_li\",\n",
    "    question_text = \"What improvements would you like to see in clothing options for tall women?\"\n",
    ")"
   ]
  },
  {
   "cell_type": "markdown",
   "id": "7b647ba2-23f7-4617-be10-20c71b756d37",
   "metadata": {},
   "source": [
    "# Administering questions\n",
    "Here we administer each question to the default LLM. We do this by simply appending the `run()` method to a question. (See how to administer questions and surveys to specific agent personas and LLMs in example <a href=\"https://examples.goemeritus.com/example_agent/\">Agents</a> and <a href=\"https://examples.goemeritus.com/example_survey/\">Surveys</a>.)"
   ]
  },
  {
   "cell_type": "code",
   "execution_count": 9,
   "id": "6fd5324b-479a-415b-93ba-cb0602c42d95",
   "metadata": {},
   "outputs": [
    {
     "name": "stderr",
     "output_type": "stream",
     "text": [
      "Running surveys: 100%|████████████████████████████████████████████████| 1/1 [00:00<00:00, 93.43it/s]\n",
      "Running surveys: 100%|███████████████████████████████████████████████| 1/1 [00:00<00:00, 251.70it/s]\n",
      "Running surveys: 100%|███████████████████████████████████████████████| 1/1 [00:00<00:00, 337.27it/s]\n",
      "Running surveys: 100%|███████████████████████████████████████████████| 1/1 [00:00<00:00, 509.70it/s]\n",
      "Running surveys: 100%|███████████████████████████████████████████████| 1/1 [00:00<00:00, 705.16it/s]\n",
      "Running surveys: 100%|███████████████████████████████████████████████| 1/1 [00:00<00:00, 623.87it/s]\n",
      "Running surveys: 100%|███████████████████████████████████████████████| 1/1 [00:00<00:00, 488.96it/s]\n"
     ]
    },
    {
     "data": {
      "text/plain": [
       "<Figure size 640x480 with 0 Axes>"
      ]
     },
     "metadata": {},
     "output_type": "display_data"
    }
   ],
   "source": [
    "result_mc = q_mc.run()\n",
    "result_cb = q_cb.run()\n",
    "result_ls = q_ls.run()\n",
    "result_yn = q_yn.run()\n",
    "result_bg = q_bg.run()\n",
    "result_ft = q_ft.run()\n",
    "result_li = q_li.run()"
   ]
  },
  {
   "cell_type": "markdown",
   "id": "a7bf6f2c-f1fd-4aca-8ddb-6b63b0aca8e2",
   "metadata": {},
   "source": [
    "<br>\n",
    "<p>Here we inspect the results&mdash;more on how to do this in <a href=\"https://examples.goemeritus.com/example_visualization/\"><i>visualization examples</i></a>.</p>"
   ]
  },
  {
   "cell_type": "code",
   "execution_count": 10,
   "id": "f5bbc84d-c702-4842-a44e-cd7798cd6239",
   "metadata": {},
   "outputs": [
    {
     "data": {
      "text/html": [
       "<h1>Results Report</h1>\n",
       "\n",
       "<h2>Overview</h2>\n",
       "\n",
       "<ul>\n",
       "<li>Observations: 1</li>\n",
       "<li>Survey questions: 1</li>\n",
       "</ul>\n",
       "\n",
       "<h2>Keys</h2>\n",
       "\n",
       "<ul>\n",
       "<li>Answer keys: <code>{'survey_questions': {'q_mc_comment', 'q_mc'}, 'created': []}</code></li>\n",
       "<li>Agent trait keys: <code>set()</code></li>\n",
       "<li>Scenario keys: <code>set()</code></li>\n",
       "<li>Model keys: <code>{'use_cache', 'model', 'max_tokens', 'temperature', 'top_p', 'frequency_penalty', 'presence_penalty'}</code></li>\n",
       "<li>Created columns: <code>[]</code></li>\n",
       "</ul>\n",
       "\n",
       "<h2>Survey questions</h2>\n",
       "\n",
       "<ol>\n",
       "<li><p>(<code>q_mc</code>) How often do you shop for clothes?</p>\n",
       "\n",
       "<p>Type: multiple_choice</p>\n",
       "\n",
       "<pre><code>- Rarely or never\n",
       "\n",
       "- Annually\n",
       "\n",
       "- Seasonally\n",
       "\n",
       "- Monthly\n",
       "\n",
       "- Daily\n",
       "</code></pre></li>\n",
       "</ol>\n"
      ],
      "text/plain": [
       "# Results Report\n",
       "## Overview\n",
       "- Observations: 1\n",
       "- Survey questions: 1\n",
       "\n",
       "## Keys\n",
       "- Answer keys: `{'survey_questions': {'q_mc_comment', 'q_mc'}, 'created': []}`\n",
       "- Agent trait keys: `set()`\n",
       "- Scenario keys: `set()`\n",
       "- Model keys: `{'use_cache', 'model', 'max_tokens', 'temperature', 'top_p', 'frequency_penalty', 'presence_penalty'}`\n",
       "- Created columns: `[]`\n",
       "\n",
       "## Survey questions\n",
       "\n",
       "1. (`q_mc`) How often do you shop for clothes?\n",
       "\n",
       "    Type: multiple_choice\n",
       "\n",
       "        - Rarely or never\n",
       "\n",
       "        - Annually\n",
       "\n",
       "        - Seasonally\n",
       "\n",
       "        - Monthly\n",
       "\n",
       "        - Daily\n",
       "\n"
      ]
     },
     "execution_count": 10,
     "metadata": {},
     "output_type": "execute_result"
    }
   ],
   "source": [
    "result_mc"
   ]
  },
  {
   "cell_type": "markdown",
   "id": "50286ed6-998b-4270-9bce-c63412cbc294",
   "metadata": {},
   "source": [
    "<br>\n",
    "<p>We can select the fields to inspect (e.g., just the response):</p>"
   ]
  },
  {
   "cell_type": "code",
   "execution_count": 11,
   "id": "4c722d8a-4d27-48f7-98b3-3b7320b32d16",
   "metadata": {},
   "outputs": [
    {
     "data": {
      "text/html": [
       "<pre style=\"white-space:pre;overflow-x:auto;line-height:normal;font-family:Menlo,'DejaVu Sans Mono',consolas,'Courier New',monospace\">┏━━━━━━━━━━━━┓\n",
       "┃<span style=\"color: #800080; text-decoration-color: #800080; font-weight: bold\"> answer     </span>┃\n",
       "┃<span style=\"color: #800080; text-decoration-color: #800080; font-weight: bold\"> .q_mc      </span>┃\n",
       "┡━━━━━━━━━━━━┩\n",
       "│<span style=\"color: #7f7f7f; text-decoration-color: #7f7f7f\"> Seasonally </span>│\n",
       "└────────────┘\n",
       "</pre>\n"
      ],
      "text/plain": [
       "┏━━━━━━━━━━━━┓\n",
       "┃\u001b[1;35m \u001b[0m\u001b[1;35manswer    \u001b[0m\u001b[1;35m \u001b[0m┃\n",
       "┃\u001b[1;35m \u001b[0m\u001b[1;35m.q_mc     \u001b[0m\u001b[1;35m \u001b[0m┃\n",
       "┡━━━━━━━━━━━━┩\n",
       "│\u001b[2m \u001b[0m\u001b[2mSeasonally\u001b[0m\u001b[2m \u001b[0m│\n",
       "└────────────┘\n"
      ]
     },
     "metadata": {},
     "output_type": "display_data"
    },
    {
     "data": {
      "text/html": [
       "<pre style=\"white-space:pre;overflow-x:auto;line-height:normal;font-family:Menlo,'DejaVu Sans Mono',consolas,'Courier New',monospace\">┏━━━━━━━━━━━━━━━━━━━━━━━━━━━━━━━━━━━━━━━━━━━━━━━━━━━━━━━━━━━━━━━━━━━━━━━━━━━━━━━━━━━━━━━━━━━━━━━━━━━━━━━━━━━━━━━━━┓\n",
       "┃<span style=\"color: #800080; text-decoration-color: #800080; font-weight: bold\"> answer                                                                                                          </span>┃\n",
       "┃<span style=\"color: #800080; text-decoration-color: #800080; font-weight: bold\"> .q_cb                                                                                                           </span>┃\n",
       "┡━━━━━━━━━━━━━━━━━━━━━━━━━━━━━━━━━━━━━━━━━━━━━━━━━━━━━━━━━━━━━━━━━━━━━━━━━━━━━━━━━━━━━━━━━━━━━━━━━━━━━━━━━━━━━━━━━┩\n",
       "│<span style=\"color: #7f7f7f; text-decoration-color: #7f7f7f\"> ['Price', 'Quality', 'Style and Design', 'Fit and Comfort', 'Customer Reviews and Recommendations', 'Ethical    </span>│\n",
       "│<span style=\"color: #7f7f7f; text-decoration-color: #7f7f7f\"> and Sustainable Practices', 'Return Policy', 'Convenience']                                                     </span>│\n",
       "└─────────────────────────────────────────────────────────────────────────────────────────────────────────────────┘\n",
       "</pre>\n"
      ],
      "text/plain": [
       "┏━━━━━━━━━━━━━━━━━━━━━━━━━━━━━━━━━━━━━━━━━━━━━━━━━━━━━━━━━━━━━━━━━━━━━━━━━━━━━━━━━━━━━━━━━━━━━━━━━━━━━━━━━━━━━━━━━┓\n",
       "┃\u001b[1;35m \u001b[0m\u001b[1;35manswer                                                                                                         \u001b[0m\u001b[1;35m \u001b[0m┃\n",
       "┃\u001b[1;35m \u001b[0m\u001b[1;35m.q_cb                                                                                                          \u001b[0m\u001b[1;35m \u001b[0m┃\n",
       "┡━━━━━━━━━━━━━━━━━━━━━━━━━━━━━━━━━━━━━━━━━━━━━━━━━━━━━━━━━━━━━━━━━━━━━━━━━━━━━━━━━━━━━━━━━━━━━━━━━━━━━━━━━━━━━━━━━┩\n",
       "│\u001b[2m \u001b[0m\u001b[2m['Price', 'Quality', 'Style and Design', 'Fit and Comfort', 'Customer Reviews and Recommendations', 'Ethical   \u001b[0m\u001b[2m \u001b[0m│\n",
       "│\u001b[2m \u001b[0m\u001b[2mand Sustainable Practices', 'Return Policy', 'Convenience']                                                    \u001b[0m\u001b[2m \u001b[0m│\n",
       "└─────────────────────────────────────────────────────────────────────────────────────────────────────────────────┘\n"
      ]
     },
     "metadata": {},
     "output_type": "display_data"
    },
    {
     "data": {
      "text/html": [
       "<pre style=\"white-space:pre;overflow-x:auto;line-height:normal;font-family:Menlo,'DejaVu Sans Mono',consolas,'Courier New',monospace\">┏━━━━━━━━┓\n",
       "┃<span style=\"color: #800080; text-decoration-color: #800080; font-weight: bold\"> answer </span>┃\n",
       "┃<span style=\"color: #800080; text-decoration-color: #800080; font-weight: bold\"> .q_ls  </span>┃\n",
       "┡━━━━━━━━┩\n",
       "│<span style=\"color: #7f7f7f; text-decoration-color: #7f7f7f\"> 6      </span>│\n",
       "└────────┘\n",
       "</pre>\n"
      ],
      "text/plain": [
       "┏━━━━━━━━┓\n",
       "┃\u001b[1;35m \u001b[0m\u001b[1;35manswer\u001b[0m\u001b[1;35m \u001b[0m┃\n",
       "┃\u001b[1;35m \u001b[0m\u001b[1;35m.q_ls \u001b[0m\u001b[1;35m \u001b[0m┃\n",
       "┡━━━━━━━━┩\n",
       "│\u001b[2m \u001b[0m\u001b[2m6     \u001b[0m\u001b[2m \u001b[0m│\n",
       "└────────┘\n"
      ]
     },
     "metadata": {},
     "output_type": "display_data"
    },
    {
     "data": {
      "text/html": [
       "<pre style=\"white-space:pre;overflow-x:auto;line-height:normal;font-family:Menlo,'DejaVu Sans Mono',consolas,'Courier New',monospace\">┏━━━━━━━━┓\n",
       "┃<span style=\"color: #800080; text-decoration-color: #800080; font-weight: bold\"> answer </span>┃\n",
       "┃<span style=\"color: #800080; text-decoration-color: #800080; font-weight: bold\"> .q_yn  </span>┃\n",
       "┡━━━━━━━━┩\n",
       "│<span style=\"color: #7f7f7f; text-decoration-color: #7f7f7f\"> Yes    </span>│\n",
       "└────────┘\n",
       "</pre>\n"
      ],
      "text/plain": [
       "┏━━━━━━━━┓\n",
       "┃\u001b[1;35m \u001b[0m\u001b[1;35manswer\u001b[0m\u001b[1;35m \u001b[0m┃\n",
       "┃\u001b[1;35m \u001b[0m\u001b[1;35m.q_yn \u001b[0m\u001b[1;35m \u001b[0m┃\n",
       "┡━━━━━━━━┩\n",
       "│\u001b[2m \u001b[0m\u001b[2mYes   \u001b[0m\u001b[2m \u001b[0m│\n",
       "└────────┘\n"
      ]
     },
     "metadata": {},
     "output_type": "display_data"
    },
    {
     "data": {
      "text/html": [
       "<pre style=\"white-space:pre;overflow-x:auto;line-height:normal;font-family:Menlo,'DejaVu Sans Mono',consolas,'Courier New',monospace\">┏━━━━━━━━━━━━━━━━━━━━━━━━━━━━━━━━━━━━━━━━━━━━━━━━━━━━━━━━━━━━━━━━━━━━━━━━━━━━━━━━━━━━━━━━━━━━━━━━━━━━━━━━┓\n",
       "┃<span style=\"color: #800080; text-decoration-color: #800080; font-weight: bold\"> answer                                                                                                 </span>┃\n",
       "┃<span style=\"color: #800080; text-decoration-color: #800080; font-weight: bold\"> .q_bg                                                                                                  </span>┃\n",
       "┡━━━━━━━━━━━━━━━━━━━━━━━━━━━━━━━━━━━━━━━━━━━━━━━━━━━━━━━━━━━━━━━━━━━━━━━━━━━━━━━━━━━━━━━━━━━━━━━━━━━━━━━━┩\n",
       "│<span style=\"color: #7f7f7f; text-decoration-color: #7f7f7f\"> [{'Online': 40}, {'Malls': 30}, {'Freestanding stores': 20}, {'Mail order catalogs': 5}, {'Other': 5}] </span>│\n",
       "└────────────────────────────────────────────────────────────────────────────────────────────────────────┘\n",
       "</pre>\n"
      ],
      "text/plain": [
       "┏━━━━━━━━━━━━━━━━━━━━━━━━━━━━━━━━━━━━━━━━━━━━━━━━━━━━━━━━━━━━━━━━━━━━━━━━━━━━━━━━━━━━━━━━━━━━━━━━━━━━━━━━┓\n",
       "┃\u001b[1;35m \u001b[0m\u001b[1;35manswer                                                                                                \u001b[0m\u001b[1;35m \u001b[0m┃\n",
       "┃\u001b[1;35m \u001b[0m\u001b[1;35m.q_bg                                                                                                 \u001b[0m\u001b[1;35m \u001b[0m┃\n",
       "┡━━━━━━━━━━━━━━━━━━━━━━━━━━━━━━━━━━━━━━━━━━━━━━━━━━━━━━━━━━━━━━━━━━━━━━━━━━━━━━━━━━━━━━━━━━━━━━━━━━━━━━━━┩\n",
       "│\u001b[2m \u001b[0m\u001b[2m[{'Online': 40}, {'Malls': 30}, {'Freestanding stores': 20}, {'Mail order catalogs': 5}, {'Other': 5}]\u001b[0m\u001b[2m \u001b[0m│\n",
       "└────────────────────────────────────────────────────────────────────────────────────────────────────────┘\n"
      ]
     },
     "metadata": {},
     "output_type": "display_data"
    },
    {
     "data": {
      "text/html": [
       "<pre style=\"white-space:pre;overflow-x:auto;line-height:normal;font-family:Menlo,'DejaVu Sans Mono',consolas,'Courier New',monospace\">┏━━━━━━━━━━━━━━━━━━━━━━━━━━━━━━━━━━━━━━━━━━━━━━━━━━━━━━━━━━━━━━━━━━━━━━━━━━━━━━━━━━━━━━━━━━━━━━━━━━━━━━━━━━━━━━━━━┓\n",
       "┃<span style=\"color: #800080; text-decoration-color: #800080; font-weight: bold\"> answer                                                                                                          </span>┃\n",
       "┃<span style=\"color: #800080; text-decoration-color: #800080; font-weight: bold\"> .q_ft                                                                                                           </span>┃\n",
       "┡━━━━━━━━━━━━━━━━━━━━━━━━━━━━━━━━━━━━━━━━━━━━━━━━━━━━━━━━━━━━━━━━━━━━━━━━━━━━━━━━━━━━━━━━━━━━━━━━━━━━━━━━━━━━━━━━━┩\n",
       "│<span style=\"color: #7f7f7f; text-decoration-color: #7f7f7f\"> As a tall woman myself, I would love to see more clothing options that cater specifically to our needs. It      </span>│\n",
       "│<span style=\"color: #7f7f7f; text-decoration-color: #7f7f7f\"> would be great to have more choices in terms of length, such as longer inseams for pants and longer sleeves for </span>│\n",
       "│<span style=\"color: #7f7f7f; text-decoration-color: #7f7f7f\"> tops. Additionally, it would be wonderful to see a wider range of styles and designs available in extended      </span>│\n",
       "│<span style=\"color: #7f7f7f; text-decoration-color: #7f7f7f\"> sizes for tall women. Overall, more inclusivity and diversity in the fashion industry would be a welcome        </span>│\n",
       "│<span style=\"color: #7f7f7f; text-decoration-color: #7f7f7f\"> improvement for tall women like me.                                                                             </span>│\n",
       "└─────────────────────────────────────────────────────────────────────────────────────────────────────────────────┘\n",
       "</pre>\n"
      ],
      "text/plain": [
       "┏━━━━━━━━━━━━━━━━━━━━━━━━━━━━━━━━━━━━━━━━━━━━━━━━━━━━━━━━━━━━━━━━━━━━━━━━━━━━━━━━━━━━━━━━━━━━━━━━━━━━━━━━━━━━━━━━━┓\n",
       "┃\u001b[1;35m \u001b[0m\u001b[1;35manswer                                                                                                         \u001b[0m\u001b[1;35m \u001b[0m┃\n",
       "┃\u001b[1;35m \u001b[0m\u001b[1;35m.q_ft                                                                                                          \u001b[0m\u001b[1;35m \u001b[0m┃\n",
       "┡━━━━━━━━━━━━━━━━━━━━━━━━━━━━━━━━━━━━━━━━━━━━━━━━━━━━━━━━━━━━━━━━━━━━━━━━━━━━━━━━━━━━━━━━━━━━━━━━━━━━━━━━━━━━━━━━━┩\n",
       "│\u001b[2m \u001b[0m\u001b[2mAs a tall woman myself, I would love to see more clothing options that cater specifically to our needs. It     \u001b[0m\u001b[2m \u001b[0m│\n",
       "│\u001b[2m \u001b[0m\u001b[2mwould be great to have more choices in terms of length, such as longer inseams for pants and longer sleeves for\u001b[0m\u001b[2m \u001b[0m│\n",
       "│\u001b[2m \u001b[0m\u001b[2mtops. Additionally, it would be wonderful to see a wider range of styles and designs available in extended     \u001b[0m\u001b[2m \u001b[0m│\n",
       "│\u001b[2m \u001b[0m\u001b[2msizes for tall women. Overall, more inclusivity and diversity in the fashion industry would be a welcome       \u001b[0m\u001b[2m \u001b[0m│\n",
       "│\u001b[2m \u001b[0m\u001b[2mimprovement for tall women like me.                                                                            \u001b[0m\u001b[2m \u001b[0m│\n",
       "└─────────────────────────────────────────────────────────────────────────────────────────────────────────────────┘\n"
      ]
     },
     "metadata": {},
     "output_type": "display_data"
    },
    {
     "data": {
      "text/html": [
       "<pre style=\"white-space:pre;overflow-x:auto;line-height:normal;font-family:Menlo,'DejaVu Sans Mono',consolas,'Courier New',monospace\">┏━━━━━━━━━━━━━━━━━━━━━━━━━━━━━━━━━━━━━━━━━━━━━━━━━━━━━━━━━━━━━━━━━━━━━━━━━━━━━━━━━━━━━┓\n",
       "┃<span style=\"color: #800080; text-decoration-color: #800080; font-weight: bold\"> answer                                                                              </span>┃\n",
       "┃<span style=\"color: #800080; text-decoration-color: #800080; font-weight: bold\"> .q_li                                                                               </span>┃\n",
       "┡━━━━━━━━━━━━━━━━━━━━━━━━━━━━━━━━━━━━━━━━━━━━━━━━━━━━━━━━━━━━━━━━━━━━━━━━━━━━━━━━━━━━━┩\n",
       "│<span style=\"color: #7f7f7f; text-decoration-color: #7f7f7f\"> ['Longer inseams', 'Taller sizes', 'Extended torso lengths', 'Proportional sizing'] </span>│\n",
       "└─────────────────────────────────────────────────────────────────────────────────────┘\n",
       "</pre>\n"
      ],
      "text/plain": [
       "┏━━━━━━━━━━━━━━━━━━━━━━━━━━━━━━━━━━━━━━━━━━━━━━━━━━━━━━━━━━━━━━━━━━━━━━━━━━━━━━━━━━━━━┓\n",
       "┃\u001b[1;35m \u001b[0m\u001b[1;35manswer                                                                             \u001b[0m\u001b[1;35m \u001b[0m┃\n",
       "┃\u001b[1;35m \u001b[0m\u001b[1;35m.q_li                                                                              \u001b[0m\u001b[1;35m \u001b[0m┃\n",
       "┡━━━━━━━━━━━━━━━━━━━━━━━━━━━━━━━━━━━━━━━━━━━━━━━━━━━━━━━━━━━━━━━━━━━━━━━━━━━━━━━━━━━━━┩\n",
       "│\u001b[2m \u001b[0m\u001b[2m['Longer inseams', 'Taller sizes', 'Extended torso lengths', 'Proportional sizing']\u001b[0m\u001b[2m \u001b[0m│\n",
       "└─────────────────────────────────────────────────────────────────────────────────────┘\n"
      ]
     },
     "metadata": {},
     "output_type": "display_data"
    }
   ],
   "source": [
    "result_mc.select(\"q_mc\").print()\n",
    "result_cb.select(\"q_cb\").print()\n",
    "result_ls.select(\"q_ls\").print()\n",
    "result_yn.select(\"q_yn\").print()\n",
    "result_bg.select(\"q_bg\").print()\n",
    "result_ft.select(\"q_ft\").print()\n",
    "result_li.select(\"q_li\").print()"
   ]
  },
  {
   "cell_type": "markdown",
   "id": "618186ae-0539-499c-b154-276f120c4a59",
   "metadata": {},
   "source": [
    "<br>\n",
    "<p>We can add some pretty labels to our tables:</p>"
   ]
  },
  {
   "cell_type": "code",
   "execution_count": 12,
   "id": "09dd4331-e0b7-4631-b20a-5c990e32d242",
   "metadata": {},
   "outputs": [
    {
     "data": {
      "text/html": [
       "<pre style=\"white-space:pre;overflow-x:auto;line-height:normal;font-family:Menlo,'DejaVu Sans Mono',consolas,'Courier New',monospace\">┏━━━━━━━━━━━━━━━━━━━━━━━━━━━━━━━━━━━━┓\n",
       "┃<span style=\"color: #800080; text-decoration-color: #800080; font-weight: bold\"> How often do you shop for clothes? </span>┃\n",
       "┡━━━━━━━━━━━━━━━━━━━━━━━━━━━━━━━━━━━━┩\n",
       "│<span style=\"color: #7f7f7f; text-decoration-color: #7f7f7f\"> Seasonally                         </span>│\n",
       "└────────────────────────────────────┘\n",
       "</pre>\n"
      ],
      "text/plain": [
       "┏━━━━━━━━━━━━━━━━━━━━━━━━━━━━━━━━━━━━┓\n",
       "┃\u001b[1;35m \u001b[0m\u001b[1;35mHow often do you shop for clothes?\u001b[0m\u001b[1;35m \u001b[0m┃\n",
       "┡━━━━━━━━━━━━━━━━━━━━━━━━━━━━━━━━━━━━┩\n",
       "│\u001b[2m \u001b[0m\u001b[2mSeasonally                        \u001b[0m\u001b[2m \u001b[0m│\n",
       "└────────────────────────────────────┘\n"
      ]
     },
     "metadata": {},
     "output_type": "display_data"
    },
    {
     "data": {
      "text/html": [
       "<pre style=\"white-space:pre;overflow-x:auto;line-height:normal;font-family:Menlo,'DejaVu Sans Mono',consolas,'Courier New',monospace\">┏━━━━━━━━━━━━━━━━━━━━━━━━━━━━━━━━━━━━━━━━━━━━━━━━━━━━━━━━━━━━━━━━━━━━━━━━━━━━━━━━━━━━━━━━━━━━━━━━━━━━━━━━━━━━━━━━━┓\n",
       "┃<span style=\"color: #800080; text-decoration-color: #800080; font-weight: bold\"> Which of the following factors are important to you in making decisions about clothes shopping? Select all that </span>┃\n",
       "┃<span style=\"color: #800080; text-decoration-color: #800080; font-weight: bold\"> apply                                                                                                           </span>┃\n",
       "┃<span style=\"color: #800080; text-decoration-color: #800080; font-weight: bold\"> .                                                                                                               </span>┃\n",
       "┡━━━━━━━━━━━━━━━━━━━━━━━━━━━━━━━━━━━━━━━━━━━━━━━━━━━━━━━━━━━━━━━━━━━━━━━━━━━━━━━━━━━━━━━━━━━━━━━━━━━━━━━━━━━━━━━━━┩\n",
       "│<span style=\"color: #7f7f7f; text-decoration-color: #7f7f7f\"> ['Price', 'Quality', 'Style and Design', 'Fit and Comfort', 'Customer Reviews and Recommendations', 'Ethical    </span>│\n",
       "│<span style=\"color: #7f7f7f; text-decoration-color: #7f7f7f\"> and Sustainable Practices', 'Return Policy', 'Convenience']                                                     </span>│\n",
       "└─────────────────────────────────────────────────────────────────────────────────────────────────────────────────┘\n",
       "</pre>\n"
      ],
      "text/plain": [
       "┏━━━━━━━━━━━━━━━━━━━━━━━━━━━━━━━━━━━━━━━━━━━━━━━━━━━━━━━━━━━━━━━━━━━━━━━━━━━━━━━━━━━━━━━━━━━━━━━━━━━━━━━━━━━━━━━━━┓\n",
       "┃\u001b[1;35m \u001b[0m\u001b[1;35mWhich of the following factors are important to you in making decisions about clothes shopping? Select all that\u001b[0m\u001b[1;35m \u001b[0m┃\n",
       "┃\u001b[1;35m \u001b[0m\u001b[1;35mapply                                                                                                          \u001b[0m\u001b[1;35m \u001b[0m┃\n",
       "┃\u001b[1;35m \u001b[0m\u001b[1;35m.                                                                                                              \u001b[0m\u001b[1;35m \u001b[0m┃\n",
       "┡━━━━━━━━━━━━━━━━━━━━━━━━━━━━━━━━━━━━━━━━━━━━━━━━━━━━━━━━━━━━━━━━━━━━━━━━━━━━━━━━━━━━━━━━━━━━━━━━━━━━━━━━━━━━━━━━━┩\n",
       "│\u001b[2m \u001b[0m\u001b[2m['Price', 'Quality', 'Style and Design', 'Fit and Comfort', 'Customer Reviews and Recommendations', 'Ethical   \u001b[0m\u001b[2m \u001b[0m│\n",
       "│\u001b[2m \u001b[0m\u001b[2mand Sustainable Practices', 'Return Policy', 'Convenience']                                                    \u001b[0m\u001b[2m \u001b[0m│\n",
       "└─────────────────────────────────────────────────────────────────────────────────────────────────────────────────┘\n"
      ]
     },
     "metadata": {},
     "output_type": "display_data"
    },
    {
     "data": {
      "text/html": [
       "<pre style=\"white-space:pre;overflow-x:auto;line-height:normal;font-family:Menlo,'DejaVu Sans Mono',consolas,'Courier New',monospace\">┏━━━━━━━━━━━━━━━━━━━━━━━━━━━━━━━━━━━━━━━━━━━━━━━━━━━━━━━━━━━━━━━━━━━━━━━━━━━━━━━━━━━━━━━━━━━━━━━━━━━━━━━━┓\n",
       "┃<span style=\"color: #800080; text-decoration-color: #800080; font-weight: bold\"> On a scale of 0-10, how much do you typically enjoy clothes shopping? (0 = Not at all, 10 = Very much) </span>┃\n",
       "┡━━━━━━━━━━━━━━━━━━━━━━━━━━━━━━━━━━━━━━━━━━━━━━━━━━━━━━━━━━━━━━━━━━━━━━━━━━━━━━━━━━━━━━━━━━━━━━━━━━━━━━━━┩\n",
       "│<span style=\"color: #7f7f7f; text-decoration-color: #7f7f7f\"> 6                                                                                                      </span>│\n",
       "└────────────────────────────────────────────────────────────────────────────────────────────────────────┘\n",
       "</pre>\n"
      ],
      "text/plain": [
       "┏━━━━━━━━━━━━━━━━━━━━━━━━━━━━━━━━━━━━━━━━━━━━━━━━━━━━━━━━━━━━━━━━━━━━━━━━━━━━━━━━━━━━━━━━━━━━━━━━━━━━━━━━┓\n",
       "┃\u001b[1;35m \u001b[0m\u001b[1;35mOn a scale of 0-10, how much do you typically enjoy clothes shopping? (0 = Not at all, 10 = Very much)\u001b[0m\u001b[1;35m \u001b[0m┃\n",
       "┡━━━━━━━━━━━━━━━━━━━━━━━━━━━━━━━━━━━━━━━━━━━━━━━━━━━━━━━━━━━━━━━━━━━━━━━━━━━━━━━━━━━━━━━━━━━━━━━━━━━━━━━━┩\n",
       "│\u001b[2m \u001b[0m\u001b[2m6                                                                                                     \u001b[0m\u001b[2m \u001b[0m│\n",
       "└────────────────────────────────────────────────────────────────────────────────────────────────────────┘\n"
      ]
     },
     "metadata": {},
     "output_type": "display_data"
    },
    {
     "data": {
      "text/html": [
       "<pre style=\"white-space:pre;overflow-x:auto;line-height:normal;font-family:Menlo,'DejaVu Sans Mono',consolas,'Courier New',monospace\">┏━━━━━━━━━━━━━━━━━━━━━━━━━━━━━━━━━━━━━━━━━━━━━━━━━━━━━━━━━━━━━━━━━━━━━━━━━━━━━━━━━━━━━━━━━━┓\n",
       "┃<span style=\"color: #800080; text-decoration-color: #800080; font-weight: bold\"> Have you ever felt excluded or frustrated by the standard sizes of the fashion industry? </span>┃\n",
       "┡━━━━━━━━━━━━━━━━━━━━━━━━━━━━━━━━━━━━━━━━━━━━━━━━━━━━━━━━━━━━━━━━━━━━━━━━━━━━━━━━━━━━━━━━━━┩\n",
       "│<span style=\"color: #7f7f7f; text-decoration-color: #7f7f7f\"> Yes                                                                                      </span>│\n",
       "└──────────────────────────────────────────────────────────────────────────────────────────┘\n",
       "</pre>\n"
      ],
      "text/plain": [
       "┏━━━━━━━━━━━━━━━━━━━━━━━━━━━━━━━━━━━━━━━━━━━━━━━━━━━━━━━━━━━━━━━━━━━━━━━━━━━━━━━━━━━━━━━━━━┓\n",
       "┃\u001b[1;35m \u001b[0m\u001b[1;35mHave you ever felt excluded or frustrated by the standard sizes of the fashion industry?\u001b[0m\u001b[1;35m \u001b[0m┃\n",
       "┡━━━━━━━━━━━━━━━━━━━━━━━━━━━━━━━━━━━━━━━━━━━━━━━━━━━━━━━━━━━━━━━━━━━━━━━━━━━━━━━━━━━━━━━━━━┩\n",
       "│\u001b[2m \u001b[0m\u001b[2mYes                                                                                     \u001b[0m\u001b[2m \u001b[0m│\n",
       "└──────────────────────────────────────────────────────────────────────────────────────────┘\n"
      ]
     },
     "metadata": {},
     "output_type": "display_data"
    },
    {
     "data": {
      "text/html": [
       "<pre style=\"white-space:pre;overflow-x:auto;line-height:normal;font-family:Menlo,'DejaVu Sans Mono',consolas,'Courier New',monospace\">┏━━━━━━━━━━━━━━━━━━━━━━━━━━━━━━━━━━━━━━━━━━━━━━━━━━━━━━━━━━━━━━━━━━━━━━━━━━━━━━━━━━━━━━━━━━━━━━━━━━━━━━━━┓\n",
       "┃<span style=\"color: #800080; text-decoration-color: #800080; font-weight: bold\"> Estimate the percentage of your total time spent shopping for clothes in each of the following modes   </span>┃\n",
       "┃<span style=\"color: #800080; text-decoration-color: #800080; font-weight: bold\"> .                                                                                                      </span>┃\n",
       "┡━━━━━━━━━━━━━━━━━━━━━━━━━━━━━━━━━━━━━━━━━━━━━━━━━━━━━━━━━━━━━━━━━━━━━━━━━━━━━━━━━━━━━━━━━━━━━━━━━━━━━━━━┩\n",
       "│<span style=\"color: #7f7f7f; text-decoration-color: #7f7f7f\"> [{'Online': 40}, {'Malls': 30}, {'Freestanding stores': 20}, {'Mail order catalogs': 5}, {'Other': 5}] </span>│\n",
       "└────────────────────────────────────────────────────────────────────────────────────────────────────────┘\n",
       "</pre>\n"
      ],
      "text/plain": [
       "┏━━━━━━━━━━━━━━━━━━━━━━━━━━━━━━━━━━━━━━━━━━━━━━━━━━━━━━━━━━━━━━━━━━━━━━━━━━━━━━━━━━━━━━━━━━━━━━━━━━━━━━━━┓\n",
       "┃\u001b[1;35m \u001b[0m\u001b[1;35mEstimate the percentage of your total time spent shopping for clothes in each of the following modes  \u001b[0m\u001b[1;35m \u001b[0m┃\n",
       "┃\u001b[1;35m \u001b[0m\u001b[1;35m.                                                                                                     \u001b[0m\u001b[1;35m \u001b[0m┃\n",
       "┡━━━━━━━━━━━━━━━━━━━━━━━━━━━━━━━━━━━━━━━━━━━━━━━━━━━━━━━━━━━━━━━━━━━━━━━━━━━━━━━━━━━━━━━━━━━━━━━━━━━━━━━━┩\n",
       "│\u001b[2m \u001b[0m\u001b[2m[{'Online': 40}, {'Malls': 30}, {'Freestanding stores': 20}, {'Mail order catalogs': 5}, {'Other': 5}]\u001b[0m\u001b[2m \u001b[0m│\n",
       "└────────────────────────────────────────────────────────────────────────────────────────────────────────┘\n"
      ]
     },
     "metadata": {},
     "output_type": "display_data"
    },
    {
     "data": {
      "text/html": [
       "<pre style=\"white-space:pre;overflow-x:auto;line-height:normal;font-family:Menlo,'DejaVu Sans Mono',consolas,'Courier New',monospace\">┏━━━━━━━━━━━━━━━━━━━━━━━━━━━━━━━━━━━━━━━━━━━━━━━━━━━━━━━━━━━━━━━━━━━━━━━━━━━━━━━━━━━━━━━━━━━━━━━━━━━━━━━━━━━━━━━━━┓\n",
       "┃<span style=\"color: #800080; text-decoration-color: #800080; font-weight: bold\"> What improvements would you like to see in clothing options for tall women?                                     </span>┃\n",
       "┡━━━━━━━━━━━━━━━━━━━━━━━━━━━━━━━━━━━━━━━━━━━━━━━━━━━━━━━━━━━━━━━━━━━━━━━━━━━━━━━━━━━━━━━━━━━━━━━━━━━━━━━━━━━━━━━━━┩\n",
       "│<span style=\"color: #7f7f7f; text-decoration-color: #7f7f7f\"> As a tall woman myself, I would love to see more clothing options that cater specifically to our needs. It      </span>│\n",
       "│<span style=\"color: #7f7f7f; text-decoration-color: #7f7f7f\"> would be great to have more choices in terms of length, such as longer inseams for pants and longer sleeves for </span>│\n",
       "│<span style=\"color: #7f7f7f; text-decoration-color: #7f7f7f\"> tops. Additionally, it would be wonderful to see a wider range of styles and designs available in extended      </span>│\n",
       "│<span style=\"color: #7f7f7f; text-decoration-color: #7f7f7f\"> sizes for tall women. Overall, more inclusivity and diversity in the fashion industry would be a welcome        </span>│\n",
       "│<span style=\"color: #7f7f7f; text-decoration-color: #7f7f7f\"> improvement for tall women like me.                                                                             </span>│\n",
       "└─────────────────────────────────────────────────────────────────────────────────────────────────────────────────┘\n",
       "</pre>\n"
      ],
      "text/plain": [
       "┏━━━━━━━━━━━━━━━━━━━━━━━━━━━━━━━━━━━━━━━━━━━━━━━━━━━━━━━━━━━━━━━━━━━━━━━━━━━━━━━━━━━━━━━━━━━━━━━━━━━━━━━━━━━━━━━━━┓\n",
       "┃\u001b[1;35m \u001b[0m\u001b[1;35mWhat improvements would you like to see in clothing options for tall women?                                    \u001b[0m\u001b[1;35m \u001b[0m┃\n",
       "┡━━━━━━━━━━━━━━━━━━━━━━━━━━━━━━━━━━━━━━━━━━━━━━━━━━━━━━━━━━━━━━━━━━━━━━━━━━━━━━━━━━━━━━━━━━━━━━━━━━━━━━━━━━━━━━━━━┩\n",
       "│\u001b[2m \u001b[0m\u001b[2mAs a tall woman myself, I would love to see more clothing options that cater specifically to our needs. It     \u001b[0m\u001b[2m \u001b[0m│\n",
       "│\u001b[2m \u001b[0m\u001b[2mwould be great to have more choices in terms of length, such as longer inseams for pants and longer sleeves for\u001b[0m\u001b[2m \u001b[0m│\n",
       "│\u001b[2m \u001b[0m\u001b[2mtops. Additionally, it would be wonderful to see a wider range of styles and designs available in extended     \u001b[0m\u001b[2m \u001b[0m│\n",
       "│\u001b[2m \u001b[0m\u001b[2msizes for tall women. Overall, more inclusivity and diversity in the fashion industry would be a welcome       \u001b[0m\u001b[2m \u001b[0m│\n",
       "│\u001b[2m \u001b[0m\u001b[2mimprovement for tall women like me.                                                                            \u001b[0m\u001b[2m \u001b[0m│\n",
       "└─────────────────────────────────────────────────────────────────────────────────────────────────────────────────┘\n"
      ]
     },
     "metadata": {},
     "output_type": "display_data"
    },
    {
     "data": {
      "text/html": [
       "<pre style=\"white-space:pre;overflow-x:auto;line-height:normal;font-family:Menlo,'DejaVu Sans Mono',consolas,'Courier New',monospace\">┏━━━━━━━━━━━━━━━━━━━━━━━━━━━━━━━━━━━━━━━━━━━━━━━━━━━━━━━━━━━━━━━━━━━━━━━━━━━━━━━━━━━━━┓\n",
       "┃<span style=\"color: #800080; text-decoration-color: #800080; font-weight: bold\"> What improvements would you like to see in clothing options for tall women?         </span>┃\n",
       "┡━━━━━━━━━━━━━━━━━━━━━━━━━━━━━━━━━━━━━━━━━━━━━━━━━━━━━━━━━━━━━━━━━━━━━━━━━━━━━━━━━━━━━┩\n",
       "│<span style=\"color: #7f7f7f; text-decoration-color: #7f7f7f\"> ['Longer inseams', 'Taller sizes', 'Extended torso lengths', 'Proportional sizing'] </span>│\n",
       "└─────────────────────────────────────────────────────────────────────────────────────┘\n",
       "</pre>\n"
      ],
      "text/plain": [
       "┏━━━━━━━━━━━━━━━━━━━━━━━━━━━━━━━━━━━━━━━━━━━━━━━━━━━━━━━━━━━━━━━━━━━━━━━━━━━━━━━━━━━━━┓\n",
       "┃\u001b[1;35m \u001b[0m\u001b[1;35mWhat improvements would you like to see in clothing options for tall women?        \u001b[0m\u001b[1;35m \u001b[0m┃\n",
       "┡━━━━━━━━━━━━━━━━━━━━━━━━━━━━━━━━━━━━━━━━━━━━━━━━━━━━━━━━━━━━━━━━━━━━━━━━━━━━━━━━━━━━━┩\n",
       "│\u001b[2m \u001b[0m\u001b[2m['Longer inseams', 'Taller sizes', 'Extended torso lengths', 'Proportional sizing']\u001b[0m\u001b[2m \u001b[0m│\n",
       "└─────────────────────────────────────────────────────────────────────────────────────┘\n"
      ]
     },
     "metadata": {},
     "output_type": "display_data"
    }
   ],
   "source": [
    "result_mc.select(\"q_mc\").print(pretty_labels={\"answer.q_mc\":q_mc.question_text})\n",
    "result_cb.select(\"q_cb\").print(pretty_labels={\"answer.q_cb\":q_cb.question_text})\n",
    "result_ls.select(\"q_ls\").print(pretty_labels={\"answer.q_ls\":q_ls.question_text})\n",
    "result_yn.select(\"q_yn\").print(pretty_labels={\"answer.q_yn\":q_yn.question_text})\n",
    "result_bg.select(\"q_bg\").print(pretty_labels={\"answer.q_bg\":q_bg.question_text})\n",
    "result_ft.select(\"q_ft\").print(pretty_labels={\"answer.q_ft\":q_ft.question_text})\n",
    "result_li.select(\"q_li\").print(pretty_labels={\"answer.q_li\":q_li.question_text})"
   ]
  },
  {
   "cell_type": "markdown",
   "id": "6e216a4b-c096-43a1-8805-7356343338ab",
   "metadata": {},
   "source": [
    "<br>"
   ]
  },
  {
   "cell_type": "markdown",
   "id": "c868b007-39c4-473f-931f-5ea0ad5a5450",
   "metadata": {},
   "source": [
    "---\n",
    "<h1 style=\"font-size: 14px;\">Copyright © 2023 Go Emeritus, Inc. All rights reserved.   <a href=\"www.goemeritus.com\" style=\"color:#130061\">www.goemeritus.com</a></h1>"
   ]
  }
 ],
 "metadata": {
  "kernelspec": {
   "display_name": "Python 3 (ipykernel)",
   "language": "python",
   "name": "python3"
  },
  "language_info": {
   "codemirror_mode": {
    "name": "ipython",
    "version": 3
   },
   "file_extension": ".py",
   "mimetype": "text/x-python",
   "name": "python",
   "nbconvert_exporter": "python",
   "pygments_lexer": "ipython3",
   "version": "3.11.5"
  }
 },
 "nbformat": 4,
 "nbformat_minor": 5
}
