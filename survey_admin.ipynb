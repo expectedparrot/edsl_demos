{
 "cells": [
  {
   "cell_type": "markdown",
   "id": "a616b8e6-5f6e-4441-a16a-92e2340755ea",
   "metadata": {},
   "source": [
    "<link rel=\"stylesheet\" type=\"text/css\" href=\"custom.css\">"
   ]
  },
  {
   "cell_type": "markdown",
   "id": "c4c85dd4-d3a8-4177-88b3-a5141befd3d9",
   "metadata": {},
   "source": [
    "<!-- ![Emeritus](logo.png) -->\n",
    "<a href=\"www.goemeritus.com\"><img src=\"emeritus_ai.png\" alt=\"Emeritus\" style=\"height: 50px; \"></a>\n",
    "<br>"
   ]
  },
  {
   "cell_type": "markdown",
   "id": "c5735f9b-23b1-4c0a-a151-525210f3c74b",
   "metadata": {},
   "source": [
    "<br>"
   ]
  },
  {
   "cell_type": "markdown",
   "id": "083361c0-09fc-4e7e-bcc9-4226c1a9b536",
   "metadata": {},
   "source": [
    "# Survey administration\n",
    "\n",
    "This notebook explores ways of specifying contexts in which an `edsl` survey is \"administered\" to agents in order to investigate potential impacts to simulated responses. \n",
    "\n",
    "<b>Thank you to <a href=\"https://sites.google.com/view/skazinnik\">Sophia Kazinnik</a> for this idea and suggestions!</b><br><br>\n",
    "\n",
    "<blockquote>\n",
    "<a href=\"#Adding-context-to-question-texts\" style=\"color:#4e4089\">Adding context to question texts</a><br>\n",
    "<a href=\"#Adding-context-to-agent-traits to add context\" style=\"color:#4e4089\">Adding context to agent traits</a><br>\n",
    "<a href=\"#Adding-context-to-question-texts-and-agent-traits\" style=\"color:#4e4089\">Adding context to question texts and agent traits</a><br>\n",
    "<a href=\"#Comparing-prompts\" style=\"color:#4e4089\">Comparing prompts</a><br>\n",
    "<a href=\"#Ideas-for-further-investigation\" style=\"color:#4e4089\">Ideas for further investigation</a><br>\n",
    "</blockquote>\n",
    "\n",
    "<br>\n",
    "<button style=\"padding: 10px 20px; font-size: 18px; font-weight:bold; spacing: 5px; color: white; border: 3px solid white; background-color:#4e4089; cursor: pointer;\"><a href=\"https://www.goemeritus.com/getting-started\" target=\"_blank\" style=\"color: white; text-decoration:none\">Back to examples</a></button>\n",
    "<button style=\"padding: 10px 20px; font-size: 18px; font-weight:bold; spacing: 5px; color: white; border: 3px solid white; background-color:#bbb; cursor: pointer;\"><a href=\"https://forms.gle/mge8M7TNadWpcJ2VA\" target=\"_blank\" style=\"color: white; text-decoration:none\">Send feedback</a></button>"
   ]
  },
  {
   "cell_type": "markdown",
   "id": "e4e3e4d0-2f49-48d0-a766-85b42e8c2dd9",
   "metadata": {},
   "source": [
    "<br>"
   ]
  },
  {
   "cell_type": "markdown",
   "id": "1c1ed4a5-ead4-4deb-b443-3db1b344ec33",
   "metadata": {},
   "source": [
    "Importing the tools:"
   ]
  },
  {
   "cell_type": "code",
   "execution_count": 1,
   "id": "e5740518",
   "metadata": {},
   "outputs": [],
   "source": [
    "from edsl.questions import QuestionLinearScale\n",
    "from edsl.agents import Agent\n",
    "from edsl.scenarios import Scenario\n",
    "from edsl.surveys import Survey\n",
    "from edsl.language_models import LanguageModelOpenAIFour, LanguageModelOpenAIThreeFiveTurbo\n",
    "m35 = LanguageModelOpenAIThreeFiveTur\n",
    "m4 = LanguageModelOpenAIFour()"
   ]
  },
  {
   "cell_type": "markdown",
   "id": "545eb9e6-ec2f-4a7e-805d-fe82c856aac8",
   "metadata": {},
   "source": [
    "<br>"
   ]
  },
  {
   "cell_type": "markdown",
   "id": "fca073d2-e79a-44c6-b00d-53db3777a839",
   "metadata": {},
   "source": [
    "Example agent traits and survey contexts:"
   ]
  },
  {
   "cell_type": "code",
   "execution_count": 2,
   "id": "dd86d8b0-8385-4b92-a663-c6a0e343215c",
   "metadata": {},
   "outputs": [],
   "source": [
    "ages = [\"You are a teenager (13-19 years old).\", \n",
    "        \"You are college age (20-24 years old).\", \n",
    "        \"You are a young adult (25-39 years old).\",\n",
    "        \"You are middle-aged (40-59 years old).\", \n",
    "        \"You are a senior citizen (60 or more years old).\"]\n",
    "\n",
    "contexts = [\"\",\n",
    "            \"You are answering an online survey.\",\n",
    "            \"You are being interviewed by a researcher.\",\n",
    "            \"You are participating in a focus group of peers.\",\n",
    "            \"You are participating in a focus group of people of all ages and backgrounds.\"]"
   ]
  },
  {
   "cell_type": "markdown",
   "id": "6ea77c2f-aa6e-4900-8cec-1766d75d6f1e",
   "metadata": {},
   "source": [
    "<br>"
   ]
  },
  {
   "cell_type": "markdown",
   "id": "f4dd2565-9f7d-4d87-a15b-cce3e3023847",
   "metadata": {},
   "source": [
    "# Adding context to question texts\n",
    "Here we specify agent traits and survey context directly in the question texts:"
   ]
  },
  {
   "cell_type": "code",
   "execution_count": 3,
   "id": "cac566b6-2d16-4bfc-88f7-f9fb6f9ebe54",
   "metadata": {},
   "outputs": [],
   "source": [
    "q_exercise = QuestionLinearScale(\n",
    "    question_name = \"exercise\",\n",
    "    question_text = \"How many times do you typically exercise each week? ({{age}} {{context}})\",\n",
    "    question_options = [0,1,2,3,4,5,6,7]\n",
    ")\n",
    "\n",
    "q_dessert = QuestionLinearScale(\n",
    "    question_name = \"dessert\",\n",
    "    question_text = \"How many times do you typically eat dessert each week?  ({{age}} {{context}})\",\n",
    "    question_options = [0,1,2,3,4,5,6,7]\n",
    ")\n",
    "\n",
    "survey = Survey([q_exercise, q_dessert])"
   ]
  },
  {
   "cell_type": "code",
   "execution_count": 4,
   "id": "707d9535-b238-4125-9a23-7109ca649e6f",
   "metadata": {},
   "outputs": [],
   "source": [
    "scenarios = [Scenario({\"age\":a, \"context\":c}) for a in ages for c in contexts]"
   ]
  },
  {
   "cell_type": "code",
   "execution_count": 5,
   "id": "297eee7f-566e-4d80-8586-b0746cc9177d",
   "metadata": {},
   "outputs": [
    {
     "name": "stderr",
     "output_type": "stream",
     "text": [
      "Running surveys: 100%|████████████████████████████| 25/25 [04:01<00:00,  9.66s/it]\n"
     ]
    },
    {
     "data": {
      "text/plain": [
       "<Figure size 640x480 with 0 Axes>"
      ]
     },
     "metadata": {},
     "output_type": "display_data"
    }
   ],
   "source": [
    "results = survey.by(scenarios).by(m4).run()"
   ]
  },
  {
   "cell_type": "code",
   "execution_count": 6,
   "id": "f67865b9-b454-4236-973c-cd7604397323",
   "metadata": {},
   "outputs": [
    {
     "data": {
      "text/html": [
       "<pre style=\"white-space:pre;overflow-x:auto;line-height:normal;font-family:Menlo,'DejaVu Sans Mono',consolas,'Courier New',monospace\">┏━━━━━━━━━━━━━━━━━━━━━━━━━━━━━━━━━━━━━━━━━━━━┳━━━━━━━━━━━━━━━━━━━━━━━━━━━━━━━━━━━━━━━━━━━━━┳━━━━━━━━━━━┳━━━━━━━━━━┓\n",
       "┃<span style=\"color: #800080; text-decoration-color: #800080; font-weight: bold\"> scenario                                   </span>┃<span style=\"color: #800080; text-decoration-color: #800080; font-weight: bold\"> scenario                                    </span>┃<span style=\"color: #800080; text-decoration-color: #800080; font-weight: bold\"> answer    </span>┃<span style=\"color: #800080; text-decoration-color: #800080; font-weight: bold\"> answer   </span>┃\n",
       "┃<span style=\"color: #800080; text-decoration-color: #800080; font-weight: bold\"> .age                                       </span>┃<span style=\"color: #800080; text-decoration-color: #800080; font-weight: bold\"> .context                                    </span>┃<span style=\"color: #800080; text-decoration-color: #800080; font-weight: bold\"> .exercise </span>┃<span style=\"color: #800080; text-decoration-color: #800080; font-weight: bold\"> .dessert </span>┃\n",
       "┡━━━━━━━━━━━━━━━━━━━━━━━━━━━━━━━━━━━━━━━━━━━━╇━━━━━━━━━━━━━━━━━━━━━━━━━━━━━━━━━━━━━━━━━━━━━╇━━━━━━━━━━━╇━━━━━━━━━━┩\n",
       "│<span style=\"color: #7f7f7f; text-decoration-color: #7f7f7f\"> You are a teenager (13-19 years old).      </span>│<span style=\"color: #7f7f7f; text-decoration-color: #7f7f7f\">                                             </span>│<span style=\"color: #7f7f7f; text-decoration-color: #7f7f7f\"> 3         </span>│<span style=\"color: #7f7f7f; text-decoration-color: #7f7f7f\"> 3        </span>│\n",
       "├────────────────────────────────────────────┼─────────────────────────────────────────────┼───────────┼──────────┤\n",
       "│<span style=\"color: #7f7f7f; text-decoration-color: #7f7f7f\"> You are a teenager (13-19 years old).      </span>│<span style=\"color: #7f7f7f; text-decoration-color: #7f7f7f\"> You are answering an online survey.         </span>│<span style=\"color: #7f7f7f; text-decoration-color: #7f7f7f\"> 3         </span>│<span style=\"color: #7f7f7f; text-decoration-color: #7f7f7f\"> 3        </span>│\n",
       "├────────────────────────────────────────────┼─────────────────────────────────────────────┼───────────┼──────────┤\n",
       "│<span style=\"color: #7f7f7f; text-decoration-color: #7f7f7f\"> You are a teenager (13-19 years old).      </span>│<span style=\"color: #7f7f7f; text-decoration-color: #7f7f7f\"> You are being interviewed by a researcher.  </span>│<span style=\"color: #7f7f7f; text-decoration-color: #7f7f7f\"> 4         </span>│<span style=\"color: #7f7f7f; text-decoration-color: #7f7f7f\"> 3        </span>│\n",
       "├────────────────────────────────────────────┼─────────────────────────────────────────────┼───────────┼──────────┤\n",
       "│<span style=\"color: #7f7f7f; text-decoration-color: #7f7f7f\"> You are a teenager (13-19 years old).      </span>│<span style=\"color: #7f7f7f; text-decoration-color: #7f7f7f\"> You are participating in a focus group of   </span>│<span style=\"color: #7f7f7f; text-decoration-color: #7f7f7f\"> 4         </span>│<span style=\"color: #7f7f7f; text-decoration-color: #7f7f7f\"> 3        </span>│\n",
       "│<span style=\"color: #7f7f7f; text-decoration-color: #7f7f7f\">                                            </span>│<span style=\"color: #7f7f7f; text-decoration-color: #7f7f7f\"> peers.                                      </span>│<span style=\"color: #7f7f7f; text-decoration-color: #7f7f7f\">           </span>│<span style=\"color: #7f7f7f; text-decoration-color: #7f7f7f\">          </span>│\n",
       "├────────────────────────────────────────────┼─────────────────────────────────────────────┼───────────┼──────────┤\n",
       "│<span style=\"color: #7f7f7f; text-decoration-color: #7f7f7f\"> You are a teenager (13-19 years old).      </span>│<span style=\"color: #7f7f7f; text-decoration-color: #7f7f7f\"> You are participating in a focus group of   </span>│<span style=\"color: #7f7f7f; text-decoration-color: #7f7f7f\"> 4         </span>│<span style=\"color: #7f7f7f; text-decoration-color: #7f7f7f\"> 3        </span>│\n",
       "│<span style=\"color: #7f7f7f; text-decoration-color: #7f7f7f\">                                            </span>│<span style=\"color: #7f7f7f; text-decoration-color: #7f7f7f\"> people of all ages and backgrounds.         </span>│<span style=\"color: #7f7f7f; text-decoration-color: #7f7f7f\">           </span>│<span style=\"color: #7f7f7f; text-decoration-color: #7f7f7f\">          </span>│\n",
       "├────────────────────────────────────────────┼─────────────────────────────────────────────┼───────────┼──────────┤\n",
       "│<span style=\"color: #7f7f7f; text-decoration-color: #7f7f7f\"> You are college age (20-24 years old).     </span>│<span style=\"color: #7f7f7f; text-decoration-color: #7f7f7f\">                                             </span>│<span style=\"color: #7f7f7f; text-decoration-color: #7f7f7f\"> 3         </span>│<span style=\"color: #7f7f7f; text-decoration-color: #7f7f7f\"> 2        </span>│\n",
       "├────────────────────────────────────────────┼─────────────────────────────────────────────┼───────────┼──────────┤\n",
       "│<span style=\"color: #7f7f7f; text-decoration-color: #7f7f7f\"> You are college age (20-24 years old).     </span>│<span style=\"color: #7f7f7f; text-decoration-color: #7f7f7f\"> You are answering an online survey.         </span>│<span style=\"color: #7f7f7f; text-decoration-color: #7f7f7f\"> 3         </span>│<span style=\"color: #7f7f7f; text-decoration-color: #7f7f7f\"> 2        </span>│\n",
       "├────────────────────────────────────────────┼─────────────────────────────────────────────┼───────────┼──────────┤\n",
       "│<span style=\"color: #7f7f7f; text-decoration-color: #7f7f7f\"> You are college age (20-24 years old).     </span>│<span style=\"color: #7f7f7f; text-decoration-color: #7f7f7f\"> You are being interviewed by a researcher.  </span>│<span style=\"color: #7f7f7f; text-decoration-color: #7f7f7f\"> 3         </span>│<span style=\"color: #7f7f7f; text-decoration-color: #7f7f7f\"> 2        </span>│\n",
       "├────────────────────────────────────────────┼─────────────────────────────────────────────┼───────────┼──────────┤\n",
       "│<span style=\"color: #7f7f7f; text-decoration-color: #7f7f7f\"> You are college age (20-24 years old).     </span>│<span style=\"color: #7f7f7f; text-decoration-color: #7f7f7f\"> You are participating in a focus group of   </span>│<span style=\"color: #7f7f7f; text-decoration-color: #7f7f7f\"> 3         </span>│<span style=\"color: #7f7f7f; text-decoration-color: #7f7f7f\"> 2        </span>│\n",
       "│<span style=\"color: #7f7f7f; text-decoration-color: #7f7f7f\">                                            </span>│<span style=\"color: #7f7f7f; text-decoration-color: #7f7f7f\"> peers.                                      </span>│<span style=\"color: #7f7f7f; text-decoration-color: #7f7f7f\">           </span>│<span style=\"color: #7f7f7f; text-decoration-color: #7f7f7f\">          </span>│\n",
       "├────────────────────────────────────────────┼─────────────────────────────────────────────┼───────────┼──────────┤\n",
       "│<span style=\"color: #7f7f7f; text-decoration-color: #7f7f7f\"> You are college age (20-24 years old).     </span>│<span style=\"color: #7f7f7f; text-decoration-color: #7f7f7f\"> You are participating in a focus group of   </span>│<span style=\"color: #7f7f7f; text-decoration-color: #7f7f7f\"> 3         </span>│<span style=\"color: #7f7f7f; text-decoration-color: #7f7f7f\"> 3        </span>│\n",
       "│<span style=\"color: #7f7f7f; text-decoration-color: #7f7f7f\">                                            </span>│<span style=\"color: #7f7f7f; text-decoration-color: #7f7f7f\"> people of all ages and backgrounds.         </span>│<span style=\"color: #7f7f7f; text-decoration-color: #7f7f7f\">           </span>│<span style=\"color: #7f7f7f; text-decoration-color: #7f7f7f\">          </span>│\n",
       "├────────────────────────────────────────────┼─────────────────────────────────────────────┼───────────┼──────────┤\n",
       "│<span style=\"color: #7f7f7f; text-decoration-color: #7f7f7f\"> You are a young adult (25-39 years old).   </span>│<span style=\"color: #7f7f7f; text-decoration-color: #7f7f7f\">                                             </span>│<span style=\"color: #7f7f7f; text-decoration-color: #7f7f7f\"> 3         </span>│<span style=\"color: #7f7f7f; text-decoration-color: #7f7f7f\"> 3        </span>│\n",
       "├────────────────────────────────────────────┼─────────────────────────────────────────────┼───────────┼──────────┤\n",
       "│<span style=\"color: #7f7f7f; text-decoration-color: #7f7f7f\"> You are a young adult (25-39 years old).   </span>│<span style=\"color: #7f7f7f; text-decoration-color: #7f7f7f\"> You are answering an online survey.         </span>│<span style=\"color: #7f7f7f; text-decoration-color: #7f7f7f\"> 3         </span>│<span style=\"color: #7f7f7f; text-decoration-color: #7f7f7f\"> 3        </span>│\n",
       "├────────────────────────────────────────────┼─────────────────────────────────────────────┼───────────┼──────────┤\n",
       "│<span style=\"color: #7f7f7f; text-decoration-color: #7f7f7f\"> You are a young adult (25-39 years old).   </span>│<span style=\"color: #7f7f7f; text-decoration-color: #7f7f7f\"> You are being interviewed by a researcher.  </span>│<span style=\"color: #7f7f7f; text-decoration-color: #7f7f7f\"> 3         </span>│<span style=\"color: #7f7f7f; text-decoration-color: #7f7f7f\"> 2        </span>│\n",
       "├────────────────────────────────────────────┼─────────────────────────────────────────────┼───────────┼──────────┤\n",
       "│<span style=\"color: #7f7f7f; text-decoration-color: #7f7f7f\"> You are a young adult (25-39 years old).   </span>│<span style=\"color: #7f7f7f; text-decoration-color: #7f7f7f\"> You are participating in a focus group of   </span>│<span style=\"color: #7f7f7f; text-decoration-color: #7f7f7f\"> 3         </span>│<span style=\"color: #7f7f7f; text-decoration-color: #7f7f7f\"> 2        </span>│\n",
       "│<span style=\"color: #7f7f7f; text-decoration-color: #7f7f7f\">                                            </span>│<span style=\"color: #7f7f7f; text-decoration-color: #7f7f7f\"> peers.                                      </span>│<span style=\"color: #7f7f7f; text-decoration-color: #7f7f7f\">           </span>│<span style=\"color: #7f7f7f; text-decoration-color: #7f7f7f\">          </span>│\n",
       "├────────────────────────────────────────────┼─────────────────────────────────────────────┼───────────┼──────────┤\n",
       "│<span style=\"color: #7f7f7f; text-decoration-color: #7f7f7f\"> You are a young adult (25-39 years old).   </span>│<span style=\"color: #7f7f7f; text-decoration-color: #7f7f7f\"> You are participating in a focus group of   </span>│<span style=\"color: #7f7f7f; text-decoration-color: #7f7f7f\"> 3         </span>│<span style=\"color: #7f7f7f; text-decoration-color: #7f7f7f\"> 2        </span>│\n",
       "│<span style=\"color: #7f7f7f; text-decoration-color: #7f7f7f\">                                            </span>│<span style=\"color: #7f7f7f; text-decoration-color: #7f7f7f\"> people of all ages and backgrounds.         </span>│<span style=\"color: #7f7f7f; text-decoration-color: #7f7f7f\">           </span>│<span style=\"color: #7f7f7f; text-decoration-color: #7f7f7f\">          </span>│\n",
       "├────────────────────────────────────────────┼─────────────────────────────────────────────┼───────────┼──────────┤\n",
       "│<span style=\"color: #7f7f7f; text-decoration-color: #7f7f7f\"> You are middle-aged (40-59 years old).     </span>│<span style=\"color: #7f7f7f; text-decoration-color: #7f7f7f\">                                             </span>│<span style=\"color: #7f7f7f; text-decoration-color: #7f7f7f\"> 3         </span>│<span style=\"color: #7f7f7f; text-decoration-color: #7f7f7f\"> 2        </span>│\n",
       "├────────────────────────────────────────────┼─────────────────────────────────────────────┼───────────┼──────────┤\n",
       "│<span style=\"color: #7f7f7f; text-decoration-color: #7f7f7f\"> You are middle-aged (40-59 years old).     </span>│<span style=\"color: #7f7f7f; text-decoration-color: #7f7f7f\"> You are answering an online survey.         </span>│<span style=\"color: #7f7f7f; text-decoration-color: #7f7f7f\"> 3         </span>│<span style=\"color: #7f7f7f; text-decoration-color: #7f7f7f\"> 2        </span>│\n",
       "├────────────────────────────────────────────┼─────────────────────────────────────────────┼───────────┼──────────┤\n",
       "│<span style=\"color: #7f7f7f; text-decoration-color: #7f7f7f\"> You are middle-aged (40-59 years old).     </span>│<span style=\"color: #7f7f7f; text-decoration-color: #7f7f7f\"> You are being interviewed by a researcher.  </span>│<span style=\"color: #7f7f7f; text-decoration-color: #7f7f7f\"> 3         </span>│<span style=\"color: #7f7f7f; text-decoration-color: #7f7f7f\"> 2        </span>│\n",
       "├────────────────────────────────────────────┼─────────────────────────────────────────────┼───────────┼──────────┤\n",
       "│<span style=\"color: #7f7f7f; text-decoration-color: #7f7f7f\"> You are middle-aged (40-59 years old).     </span>│<span style=\"color: #7f7f7f; text-decoration-color: #7f7f7f\"> You are participating in a focus group of   </span>│<span style=\"color: #7f7f7f; text-decoration-color: #7f7f7f\"> 3         </span>│<span style=\"color: #7f7f7f; text-decoration-color: #7f7f7f\"> 2        </span>│\n",
       "│<span style=\"color: #7f7f7f; text-decoration-color: #7f7f7f\">                                            </span>│<span style=\"color: #7f7f7f; text-decoration-color: #7f7f7f\"> peers.                                      </span>│<span style=\"color: #7f7f7f; text-decoration-color: #7f7f7f\">           </span>│<span style=\"color: #7f7f7f; text-decoration-color: #7f7f7f\">          </span>│\n",
       "├────────────────────────────────────────────┼─────────────────────────────────────────────┼───────────┼──────────┤\n",
       "│<span style=\"color: #7f7f7f; text-decoration-color: #7f7f7f\"> You are middle-aged (40-59 years old).     </span>│<span style=\"color: #7f7f7f; text-decoration-color: #7f7f7f\"> You are participating in a focus group of   </span>│<span style=\"color: #7f7f7f; text-decoration-color: #7f7f7f\"> 3         </span>│<span style=\"color: #7f7f7f; text-decoration-color: #7f7f7f\"> 2        </span>│\n",
       "│<span style=\"color: #7f7f7f; text-decoration-color: #7f7f7f\">                                            </span>│<span style=\"color: #7f7f7f; text-decoration-color: #7f7f7f\"> people of all ages and backgrounds.         </span>│<span style=\"color: #7f7f7f; text-decoration-color: #7f7f7f\">           </span>│<span style=\"color: #7f7f7f; text-decoration-color: #7f7f7f\">          </span>│\n",
       "├────────────────────────────────────────────┼─────────────────────────────────────────────┼───────────┼──────────┤\n",
       "│<span style=\"color: #7f7f7f; text-decoration-color: #7f7f7f\"> You are a senior citizen (60 or more years </span>│<span style=\"color: #7f7f7f; text-decoration-color: #7f7f7f\">                                             </span>│<span style=\"color: #7f7f7f; text-decoration-color: #7f7f7f\"> 3         </span>│<span style=\"color: #7f7f7f; text-decoration-color: #7f7f7f\"> 2        </span>│\n",
       "│<span style=\"color: #7f7f7f; text-decoration-color: #7f7f7f\"> old).                                      </span>│<span style=\"color: #7f7f7f; text-decoration-color: #7f7f7f\">                                             </span>│<span style=\"color: #7f7f7f; text-decoration-color: #7f7f7f\">           </span>│<span style=\"color: #7f7f7f; text-decoration-color: #7f7f7f\">          </span>│\n",
       "├────────────────────────────────────────────┼─────────────────────────────────────────────┼───────────┼──────────┤\n",
       "│<span style=\"color: #7f7f7f; text-decoration-color: #7f7f7f\"> You are a senior citizen (60 or more years </span>│<span style=\"color: #7f7f7f; text-decoration-color: #7f7f7f\"> You are answering an online survey.         </span>│<span style=\"color: #7f7f7f; text-decoration-color: #7f7f7f\"> 3         </span>│<span style=\"color: #7f7f7f; text-decoration-color: #7f7f7f\"> 2        </span>│\n",
       "│<span style=\"color: #7f7f7f; text-decoration-color: #7f7f7f\"> old).                                      </span>│<span style=\"color: #7f7f7f; text-decoration-color: #7f7f7f\">                                             </span>│<span style=\"color: #7f7f7f; text-decoration-color: #7f7f7f\">           </span>│<span style=\"color: #7f7f7f; text-decoration-color: #7f7f7f\">          </span>│\n",
       "├────────────────────────────────────────────┼─────────────────────────────────────────────┼───────────┼──────────┤\n",
       "│<span style=\"color: #7f7f7f; text-decoration-color: #7f7f7f\"> You are a senior citizen (60 or more years </span>│<span style=\"color: #7f7f7f; text-decoration-color: #7f7f7f\"> You are being interviewed by a researcher.  </span>│<span style=\"color: #7f7f7f; text-decoration-color: #7f7f7f\"> 3         </span>│<span style=\"color: #7f7f7f; text-decoration-color: #7f7f7f\"> 2        </span>│\n",
       "│<span style=\"color: #7f7f7f; text-decoration-color: #7f7f7f\"> old).                                      </span>│<span style=\"color: #7f7f7f; text-decoration-color: #7f7f7f\">                                             </span>│<span style=\"color: #7f7f7f; text-decoration-color: #7f7f7f\">           </span>│<span style=\"color: #7f7f7f; text-decoration-color: #7f7f7f\">          </span>│\n",
       "├────────────────────────────────────────────┼─────────────────────────────────────────────┼───────────┼──────────┤\n",
       "│<span style=\"color: #7f7f7f; text-decoration-color: #7f7f7f\"> You are a senior citizen (60 or more years </span>│<span style=\"color: #7f7f7f; text-decoration-color: #7f7f7f\"> You are participating in a focus group of   </span>│<span style=\"color: #7f7f7f; text-decoration-color: #7f7f7f\"> 3         </span>│<span style=\"color: #7f7f7f; text-decoration-color: #7f7f7f\"> 2        </span>│\n",
       "│<span style=\"color: #7f7f7f; text-decoration-color: #7f7f7f\"> old).                                      </span>│<span style=\"color: #7f7f7f; text-decoration-color: #7f7f7f\"> peers.                                      </span>│<span style=\"color: #7f7f7f; text-decoration-color: #7f7f7f\">           </span>│<span style=\"color: #7f7f7f; text-decoration-color: #7f7f7f\">          </span>│\n",
       "├────────────────────────────────────────────┼─────────────────────────────────────────────┼───────────┼──────────┤\n",
       "│<span style=\"color: #7f7f7f; text-decoration-color: #7f7f7f\"> You are a senior citizen (60 or more years </span>│<span style=\"color: #7f7f7f; text-decoration-color: #7f7f7f\"> You are participating in a focus group of   </span>│<span style=\"color: #7f7f7f; text-decoration-color: #7f7f7f\"> 3         </span>│<span style=\"color: #7f7f7f; text-decoration-color: #7f7f7f\"> 2        </span>│\n",
       "│<span style=\"color: #7f7f7f; text-decoration-color: #7f7f7f\"> old).                                      </span>│<span style=\"color: #7f7f7f; text-decoration-color: #7f7f7f\"> people of all ages and backgrounds.         </span>│<span style=\"color: #7f7f7f; text-decoration-color: #7f7f7f\">           </span>│<span style=\"color: #7f7f7f; text-decoration-color: #7f7f7f\">          </span>│\n",
       "└────────────────────────────────────────────┴─────────────────────────────────────────────┴───────────┴──────────┘\n",
       "</pre>\n"
      ],
      "text/plain": [
       "┏━━━━━━━━━━━━━━━━━━━━━━━━━━━━━━━━━━━━━━━━━━━━┳━━━━━━━━━━━━━━━━━━━━━━━━━━━━━━━━━━━━━━━━━━━━━┳━━━━━━━━━━━┳━━━━━━━━━━┓\n",
       "┃\u001b[1;35m \u001b[0m\u001b[1;35mscenario                                  \u001b[0m\u001b[1;35m \u001b[0m┃\u001b[1;35m \u001b[0m\u001b[1;35mscenario                                   \u001b[0m\u001b[1;35m \u001b[0m┃\u001b[1;35m \u001b[0m\u001b[1;35manswer   \u001b[0m\u001b[1;35m \u001b[0m┃\u001b[1;35m \u001b[0m\u001b[1;35manswer  \u001b[0m\u001b[1;35m \u001b[0m┃\n",
       "┃\u001b[1;35m \u001b[0m\u001b[1;35m.age                                      \u001b[0m\u001b[1;35m \u001b[0m┃\u001b[1;35m \u001b[0m\u001b[1;35m.context                                   \u001b[0m\u001b[1;35m \u001b[0m┃\u001b[1;35m \u001b[0m\u001b[1;35m.exercise\u001b[0m\u001b[1;35m \u001b[0m┃\u001b[1;35m \u001b[0m\u001b[1;35m.dessert\u001b[0m\u001b[1;35m \u001b[0m┃\n",
       "┡━━━━━━━━━━━━━━━━━━━━━━━━━━━━━━━━━━━━━━━━━━━━╇━━━━━━━━━━━━━━━━━━━━━━━━━━━━━━━━━━━━━━━━━━━━━╇━━━━━━━━━━━╇━━━━━━━━━━┩\n",
       "│\u001b[2m \u001b[0m\u001b[2mYou are a teenager (13-19 years old).     \u001b[0m\u001b[2m \u001b[0m│\u001b[2m \u001b[0m\u001b[2m                                           \u001b[0m\u001b[2m \u001b[0m│\u001b[2m \u001b[0m\u001b[2m3        \u001b[0m\u001b[2m \u001b[0m│\u001b[2m \u001b[0m\u001b[2m3       \u001b[0m\u001b[2m \u001b[0m│\n",
       "├────────────────────────────────────────────┼─────────────────────────────────────────────┼───────────┼──────────┤\n",
       "│\u001b[2m \u001b[0m\u001b[2mYou are a teenager (13-19 years old).     \u001b[0m\u001b[2m \u001b[0m│\u001b[2m \u001b[0m\u001b[2mYou are answering an online survey.        \u001b[0m\u001b[2m \u001b[0m│\u001b[2m \u001b[0m\u001b[2m3        \u001b[0m\u001b[2m \u001b[0m│\u001b[2m \u001b[0m\u001b[2m3       \u001b[0m\u001b[2m \u001b[0m│\n",
       "├────────────────────────────────────────────┼─────────────────────────────────────────────┼───────────┼──────────┤\n",
       "│\u001b[2m \u001b[0m\u001b[2mYou are a teenager (13-19 years old).     \u001b[0m\u001b[2m \u001b[0m│\u001b[2m \u001b[0m\u001b[2mYou are being interviewed by a researcher. \u001b[0m\u001b[2m \u001b[0m│\u001b[2m \u001b[0m\u001b[2m4        \u001b[0m\u001b[2m \u001b[0m│\u001b[2m \u001b[0m\u001b[2m3       \u001b[0m\u001b[2m \u001b[0m│\n",
       "├────────────────────────────────────────────┼─────────────────────────────────────────────┼───────────┼──────────┤\n",
       "│\u001b[2m \u001b[0m\u001b[2mYou are a teenager (13-19 years old).     \u001b[0m\u001b[2m \u001b[0m│\u001b[2m \u001b[0m\u001b[2mYou are participating in a focus group of  \u001b[0m\u001b[2m \u001b[0m│\u001b[2m \u001b[0m\u001b[2m4        \u001b[0m\u001b[2m \u001b[0m│\u001b[2m \u001b[0m\u001b[2m3       \u001b[0m\u001b[2m \u001b[0m│\n",
       "│\u001b[2m                                            \u001b[0m│\u001b[2m \u001b[0m\u001b[2mpeers.                                     \u001b[0m\u001b[2m \u001b[0m│\u001b[2m           \u001b[0m│\u001b[2m          \u001b[0m│\n",
       "├────────────────────────────────────────────┼─────────────────────────────────────────────┼───────────┼──────────┤\n",
       "│\u001b[2m \u001b[0m\u001b[2mYou are a teenager (13-19 years old).     \u001b[0m\u001b[2m \u001b[0m│\u001b[2m \u001b[0m\u001b[2mYou are participating in a focus group of  \u001b[0m\u001b[2m \u001b[0m│\u001b[2m \u001b[0m\u001b[2m4        \u001b[0m\u001b[2m \u001b[0m│\u001b[2m \u001b[0m\u001b[2m3       \u001b[0m\u001b[2m \u001b[0m│\n",
       "│\u001b[2m                                            \u001b[0m│\u001b[2m \u001b[0m\u001b[2mpeople of all ages and backgrounds.        \u001b[0m\u001b[2m \u001b[0m│\u001b[2m           \u001b[0m│\u001b[2m          \u001b[0m│\n",
       "├────────────────────────────────────────────┼─────────────────────────────────────────────┼───────────┼──────────┤\n",
       "│\u001b[2m \u001b[0m\u001b[2mYou are college age (20-24 years old).    \u001b[0m\u001b[2m \u001b[0m│\u001b[2m \u001b[0m\u001b[2m                                           \u001b[0m\u001b[2m \u001b[0m│\u001b[2m \u001b[0m\u001b[2m3        \u001b[0m\u001b[2m \u001b[0m│\u001b[2m \u001b[0m\u001b[2m2       \u001b[0m\u001b[2m \u001b[0m│\n",
       "├────────────────────────────────────────────┼─────────────────────────────────────────────┼───────────┼──────────┤\n",
       "│\u001b[2m \u001b[0m\u001b[2mYou are college age (20-24 years old).    \u001b[0m\u001b[2m \u001b[0m│\u001b[2m \u001b[0m\u001b[2mYou are answering an online survey.        \u001b[0m\u001b[2m \u001b[0m│\u001b[2m \u001b[0m\u001b[2m3        \u001b[0m\u001b[2m \u001b[0m│\u001b[2m \u001b[0m\u001b[2m2       \u001b[0m\u001b[2m \u001b[0m│\n",
       "├────────────────────────────────────────────┼─────────────────────────────────────────────┼───────────┼──────────┤\n",
       "│\u001b[2m \u001b[0m\u001b[2mYou are college age (20-24 years old).    \u001b[0m\u001b[2m \u001b[0m│\u001b[2m \u001b[0m\u001b[2mYou are being interviewed by a researcher. \u001b[0m\u001b[2m \u001b[0m│\u001b[2m \u001b[0m\u001b[2m3        \u001b[0m\u001b[2m \u001b[0m│\u001b[2m \u001b[0m\u001b[2m2       \u001b[0m\u001b[2m \u001b[0m│\n",
       "├────────────────────────────────────────────┼─────────────────────────────────────────────┼───────────┼──────────┤\n",
       "│\u001b[2m \u001b[0m\u001b[2mYou are college age (20-24 years old).    \u001b[0m\u001b[2m \u001b[0m│\u001b[2m \u001b[0m\u001b[2mYou are participating in a focus group of  \u001b[0m\u001b[2m \u001b[0m│\u001b[2m \u001b[0m\u001b[2m3        \u001b[0m\u001b[2m \u001b[0m│\u001b[2m \u001b[0m\u001b[2m2       \u001b[0m\u001b[2m \u001b[0m│\n",
       "│\u001b[2m                                            \u001b[0m│\u001b[2m \u001b[0m\u001b[2mpeers.                                     \u001b[0m\u001b[2m \u001b[0m│\u001b[2m           \u001b[0m│\u001b[2m          \u001b[0m│\n",
       "├────────────────────────────────────────────┼─────────────────────────────────────────────┼───────────┼──────────┤\n",
       "│\u001b[2m \u001b[0m\u001b[2mYou are college age (20-24 years old).    \u001b[0m\u001b[2m \u001b[0m│\u001b[2m \u001b[0m\u001b[2mYou are participating in a focus group of  \u001b[0m\u001b[2m \u001b[0m│\u001b[2m \u001b[0m\u001b[2m3        \u001b[0m\u001b[2m \u001b[0m│\u001b[2m \u001b[0m\u001b[2m3       \u001b[0m\u001b[2m \u001b[0m│\n",
       "│\u001b[2m                                            \u001b[0m│\u001b[2m \u001b[0m\u001b[2mpeople of all ages and backgrounds.        \u001b[0m\u001b[2m \u001b[0m│\u001b[2m           \u001b[0m│\u001b[2m          \u001b[0m│\n",
       "├────────────────────────────────────────────┼─────────────────────────────────────────────┼───────────┼──────────┤\n",
       "│\u001b[2m \u001b[0m\u001b[2mYou are a young adult (25-39 years old).  \u001b[0m\u001b[2m \u001b[0m│\u001b[2m \u001b[0m\u001b[2m                                           \u001b[0m\u001b[2m \u001b[0m│\u001b[2m \u001b[0m\u001b[2m3        \u001b[0m\u001b[2m \u001b[0m│\u001b[2m \u001b[0m\u001b[2m3       \u001b[0m\u001b[2m \u001b[0m│\n",
       "├────────────────────────────────────────────┼─────────────────────────────────────────────┼───────────┼──────────┤\n",
       "│\u001b[2m \u001b[0m\u001b[2mYou are a young adult (25-39 years old).  \u001b[0m\u001b[2m \u001b[0m│\u001b[2m \u001b[0m\u001b[2mYou are answering an online survey.        \u001b[0m\u001b[2m \u001b[0m│\u001b[2m \u001b[0m\u001b[2m3        \u001b[0m\u001b[2m \u001b[0m│\u001b[2m \u001b[0m\u001b[2m3       \u001b[0m\u001b[2m \u001b[0m│\n",
       "├────────────────────────────────────────────┼─────────────────────────────────────────────┼───────────┼──────────┤\n",
       "│\u001b[2m \u001b[0m\u001b[2mYou are a young adult (25-39 years old).  \u001b[0m\u001b[2m \u001b[0m│\u001b[2m \u001b[0m\u001b[2mYou are being interviewed by a researcher. \u001b[0m\u001b[2m \u001b[0m│\u001b[2m \u001b[0m\u001b[2m3        \u001b[0m\u001b[2m \u001b[0m│\u001b[2m \u001b[0m\u001b[2m2       \u001b[0m\u001b[2m \u001b[0m│\n",
       "├────────────────────────────────────────────┼─────────────────────────────────────────────┼───────────┼──────────┤\n",
       "│\u001b[2m \u001b[0m\u001b[2mYou are a young adult (25-39 years old).  \u001b[0m\u001b[2m \u001b[0m│\u001b[2m \u001b[0m\u001b[2mYou are participating in a focus group of  \u001b[0m\u001b[2m \u001b[0m│\u001b[2m \u001b[0m\u001b[2m3        \u001b[0m\u001b[2m \u001b[0m│\u001b[2m \u001b[0m\u001b[2m2       \u001b[0m\u001b[2m \u001b[0m│\n",
       "│\u001b[2m                                            \u001b[0m│\u001b[2m \u001b[0m\u001b[2mpeers.                                     \u001b[0m\u001b[2m \u001b[0m│\u001b[2m           \u001b[0m│\u001b[2m          \u001b[0m│\n",
       "├────────────────────────────────────────────┼─────────────────────────────────────────────┼───────────┼──────────┤\n",
       "│\u001b[2m \u001b[0m\u001b[2mYou are a young adult (25-39 years old).  \u001b[0m\u001b[2m \u001b[0m│\u001b[2m \u001b[0m\u001b[2mYou are participating in a focus group of  \u001b[0m\u001b[2m \u001b[0m│\u001b[2m \u001b[0m\u001b[2m3        \u001b[0m\u001b[2m \u001b[0m│\u001b[2m \u001b[0m\u001b[2m2       \u001b[0m\u001b[2m \u001b[0m│\n",
       "│\u001b[2m                                            \u001b[0m│\u001b[2m \u001b[0m\u001b[2mpeople of all ages and backgrounds.        \u001b[0m\u001b[2m \u001b[0m│\u001b[2m           \u001b[0m│\u001b[2m          \u001b[0m│\n",
       "├────────────────────────────────────────────┼─────────────────────────────────────────────┼───────────┼──────────┤\n",
       "│\u001b[2m \u001b[0m\u001b[2mYou are middle-aged (40-59 years old).    \u001b[0m\u001b[2m \u001b[0m│\u001b[2m \u001b[0m\u001b[2m                                           \u001b[0m\u001b[2m \u001b[0m│\u001b[2m \u001b[0m\u001b[2m3        \u001b[0m\u001b[2m \u001b[0m│\u001b[2m \u001b[0m\u001b[2m2       \u001b[0m\u001b[2m \u001b[0m│\n",
       "├────────────────────────────────────────────┼─────────────────────────────────────────────┼───────────┼──────────┤\n",
       "│\u001b[2m \u001b[0m\u001b[2mYou are middle-aged (40-59 years old).    \u001b[0m\u001b[2m \u001b[0m│\u001b[2m \u001b[0m\u001b[2mYou are answering an online survey.        \u001b[0m\u001b[2m \u001b[0m│\u001b[2m \u001b[0m\u001b[2m3        \u001b[0m\u001b[2m \u001b[0m│\u001b[2m \u001b[0m\u001b[2m2       \u001b[0m\u001b[2m \u001b[0m│\n",
       "├────────────────────────────────────────────┼─────────────────────────────────────────────┼───────────┼──────────┤\n",
       "│\u001b[2m \u001b[0m\u001b[2mYou are middle-aged (40-59 years old).    \u001b[0m\u001b[2m \u001b[0m│\u001b[2m \u001b[0m\u001b[2mYou are being interviewed by a researcher. \u001b[0m\u001b[2m \u001b[0m│\u001b[2m \u001b[0m\u001b[2m3        \u001b[0m\u001b[2m \u001b[0m│\u001b[2m \u001b[0m\u001b[2m2       \u001b[0m\u001b[2m \u001b[0m│\n",
       "├────────────────────────────────────────────┼─────────────────────────────────────────────┼───────────┼──────────┤\n",
       "│\u001b[2m \u001b[0m\u001b[2mYou are middle-aged (40-59 years old).    \u001b[0m\u001b[2m \u001b[0m│\u001b[2m \u001b[0m\u001b[2mYou are participating in a focus group of  \u001b[0m\u001b[2m \u001b[0m│\u001b[2m \u001b[0m\u001b[2m3        \u001b[0m\u001b[2m \u001b[0m│\u001b[2m \u001b[0m\u001b[2m2       \u001b[0m\u001b[2m \u001b[0m│\n",
       "│\u001b[2m                                            \u001b[0m│\u001b[2m \u001b[0m\u001b[2mpeers.                                     \u001b[0m\u001b[2m \u001b[0m│\u001b[2m           \u001b[0m│\u001b[2m          \u001b[0m│\n",
       "├────────────────────────────────────────────┼─────────────────────────────────────────────┼───────────┼──────────┤\n",
       "│\u001b[2m \u001b[0m\u001b[2mYou are middle-aged (40-59 years old).    \u001b[0m\u001b[2m \u001b[0m│\u001b[2m \u001b[0m\u001b[2mYou are participating in a focus group of  \u001b[0m\u001b[2m \u001b[0m│\u001b[2m \u001b[0m\u001b[2m3        \u001b[0m\u001b[2m \u001b[0m│\u001b[2m \u001b[0m\u001b[2m2       \u001b[0m\u001b[2m \u001b[0m│\n",
       "│\u001b[2m                                            \u001b[0m│\u001b[2m \u001b[0m\u001b[2mpeople of all ages and backgrounds.        \u001b[0m\u001b[2m \u001b[0m│\u001b[2m           \u001b[0m│\u001b[2m          \u001b[0m│\n",
       "├────────────────────────────────────────────┼─────────────────────────────────────────────┼───────────┼──────────┤\n",
       "│\u001b[2m \u001b[0m\u001b[2mYou are a senior citizen (60 or more years\u001b[0m\u001b[2m \u001b[0m│\u001b[2m \u001b[0m\u001b[2m                                           \u001b[0m\u001b[2m \u001b[0m│\u001b[2m \u001b[0m\u001b[2m3        \u001b[0m\u001b[2m \u001b[0m│\u001b[2m \u001b[0m\u001b[2m2       \u001b[0m\u001b[2m \u001b[0m│\n",
       "│\u001b[2m \u001b[0m\u001b[2mold).                                     \u001b[0m\u001b[2m \u001b[0m│\u001b[2m                                             \u001b[0m│\u001b[2m           \u001b[0m│\u001b[2m          \u001b[0m│\n",
       "├────────────────────────────────────────────┼─────────────────────────────────────────────┼───────────┼──────────┤\n",
       "│\u001b[2m \u001b[0m\u001b[2mYou are a senior citizen (60 or more years\u001b[0m\u001b[2m \u001b[0m│\u001b[2m \u001b[0m\u001b[2mYou are answering an online survey.        \u001b[0m\u001b[2m \u001b[0m│\u001b[2m \u001b[0m\u001b[2m3        \u001b[0m\u001b[2m \u001b[0m│\u001b[2m \u001b[0m\u001b[2m2       \u001b[0m\u001b[2m \u001b[0m│\n",
       "│\u001b[2m \u001b[0m\u001b[2mold).                                     \u001b[0m\u001b[2m \u001b[0m│\u001b[2m                                             \u001b[0m│\u001b[2m           \u001b[0m│\u001b[2m          \u001b[0m│\n",
       "├────────────────────────────────────────────┼─────────────────────────────────────────────┼───────────┼──────────┤\n",
       "│\u001b[2m \u001b[0m\u001b[2mYou are a senior citizen (60 or more years\u001b[0m\u001b[2m \u001b[0m│\u001b[2m \u001b[0m\u001b[2mYou are being interviewed by a researcher. \u001b[0m\u001b[2m \u001b[0m│\u001b[2m \u001b[0m\u001b[2m3        \u001b[0m\u001b[2m \u001b[0m│\u001b[2m \u001b[0m\u001b[2m2       \u001b[0m\u001b[2m \u001b[0m│\n",
       "│\u001b[2m \u001b[0m\u001b[2mold).                                     \u001b[0m\u001b[2m \u001b[0m│\u001b[2m                                             \u001b[0m│\u001b[2m           \u001b[0m│\u001b[2m          \u001b[0m│\n",
       "├────────────────────────────────────────────┼─────────────────────────────────────────────┼───────────┼──────────┤\n",
       "│\u001b[2m \u001b[0m\u001b[2mYou are a senior citizen (60 or more years\u001b[0m\u001b[2m \u001b[0m│\u001b[2m \u001b[0m\u001b[2mYou are participating in a focus group of  \u001b[0m\u001b[2m \u001b[0m│\u001b[2m \u001b[0m\u001b[2m3        \u001b[0m\u001b[2m \u001b[0m│\u001b[2m \u001b[0m\u001b[2m2       \u001b[0m\u001b[2m \u001b[0m│\n",
       "│\u001b[2m \u001b[0m\u001b[2mold).                                     \u001b[0m\u001b[2m \u001b[0m│\u001b[2m \u001b[0m\u001b[2mpeers.                                     \u001b[0m\u001b[2m \u001b[0m│\u001b[2m           \u001b[0m│\u001b[2m          \u001b[0m│\n",
       "├────────────────────────────────────────────┼─────────────────────────────────────────────┼───────────┼──────────┤\n",
       "│\u001b[2m \u001b[0m\u001b[2mYou are a senior citizen (60 or more years\u001b[0m\u001b[2m \u001b[0m│\u001b[2m \u001b[0m\u001b[2mYou are participating in a focus group of  \u001b[0m\u001b[2m \u001b[0m│\u001b[2m \u001b[0m\u001b[2m3        \u001b[0m\u001b[2m \u001b[0m│\u001b[2m \u001b[0m\u001b[2m2       \u001b[0m\u001b[2m \u001b[0m│\n",
       "│\u001b[2m \u001b[0m\u001b[2mold).                                     \u001b[0m\u001b[2m \u001b[0m│\u001b[2m \u001b[0m\u001b[2mpeople of all ages and backgrounds.        \u001b[0m\u001b[2m \u001b[0m│\u001b[2m           \u001b[0m│\u001b[2m          \u001b[0m│\n",
       "└────────────────────────────────────────────┴─────────────────────────────────────────────┴───────────┴──────────┘\n"
      ]
     },
     "metadata": {},
     "output_type": "display_data"
    }
   ],
   "source": [
    "results.select(\"age\", \"context\", \"exercise\", \"dessert\").print()"
   ]
  },
  {
   "cell_type": "markdown",
   "id": "437a6f24-40a3-440e-bc2a-188fa558ce56",
   "metadata": {},
   "source": [
    "<br>"
   ]
  },
  {
   "cell_type": "markdown",
   "id": "6a7e25e3-dc28-42da-a0bc-f3952071a148",
   "metadata": {},
   "source": [
    "# Adding context to agent traits\n",
    "Here we specify agent traits and survey context via agent traits only:"
   ]
  },
  {
   "cell_type": "code",
   "execution_count": 7,
   "id": "63a31e3c-20f8-4aa7-b95a-e4d49ca4cdfc",
   "metadata": {},
   "outputs": [],
   "source": [
    "q_exercise = QuestionLinearScale(\n",
    "    question_name = \"exercise\",\n",
    "    question_text = \"How many times do you exercise each week?\",\n",
    "    question_options = [0,1,2,3,4,5,6,7]\n",
    ")\n",
    "\n",
    "q_dessert = QuestionLinearScale(\n",
    "    question_name = \"dessert\",\n",
    "    question_text = \"How many times do you eat dessert each week?\",\n",
    "    question_options = [0,1,2,3,4,5,6,7]\n",
    ")\n",
    "\n",
    "survey = Survey([q_exercise, q_dessert])"
   ]
  },
  {
   "cell_type": "code",
   "execution_count": 8,
   "id": "68081c3a-c8e9-462b-ba8d-53b7cde5c277",
   "metadata": {},
   "outputs": [],
   "source": [
    "agents = [Agent({\"age\":a, \"context\":c}) for a in ages for c in contexts]"
   ]
  },
  {
   "cell_type": "code",
   "execution_count": 9,
   "id": "b8109238-c6c0-4e43-8eca-453a277ffefd",
   "metadata": {},
   "outputs": [
    {
     "name": "stderr",
     "output_type": "stream",
     "text": [
      "Running surveys: 100%|████████████████████████████| 25/25 [03:47<00:00,  9.09s/it]\n"
     ]
    }
   ],
   "source": [
    "results = survey.by(agents).by(m4).run()"
   ]
  },
  {
   "cell_type": "code",
   "execution_count": 10,
   "id": "4ee41251-ae27-49bc-9c2e-e6a1f20828b1",
   "metadata": {},
   "outputs": [
    {
     "data": {
      "text/html": [
       "<pre style=\"white-space:pre;overflow-x:auto;line-height:normal;font-family:Menlo,'DejaVu Sans Mono',consolas,'Courier New',monospace\">┏━━━━━━━━━━━━━━━━━━━━━━━━━━━━━━━━━━━━━━━━━━━━┳━━━━━━━━━━━━━━━━━━━━━━━━━━━━━━━━━━━━━━━━━━━━━┳━━━━━━━━━━━┳━━━━━━━━━━┓\n",
       "┃<span style=\"color: #800080; text-decoration-color: #800080; font-weight: bold\"> agent                                      </span>┃<span style=\"color: #800080; text-decoration-color: #800080; font-weight: bold\"> agent                                       </span>┃<span style=\"color: #800080; text-decoration-color: #800080; font-weight: bold\"> answer    </span>┃<span style=\"color: #800080; text-decoration-color: #800080; font-weight: bold\"> answer   </span>┃\n",
       "┃<span style=\"color: #800080; text-decoration-color: #800080; font-weight: bold\"> .age                                       </span>┃<span style=\"color: #800080; text-decoration-color: #800080; font-weight: bold\"> .context                                    </span>┃<span style=\"color: #800080; text-decoration-color: #800080; font-weight: bold\"> .exercise </span>┃<span style=\"color: #800080; text-decoration-color: #800080; font-weight: bold\"> .dessert </span>┃\n",
       "┡━━━━━━━━━━━━━━━━━━━━━━━━━━━━━━━━━━━━━━━━━━━━╇━━━━━━━━━━━━━━━━━━━━━━━━━━━━━━━━━━━━━━━━━━━━━╇━━━━━━━━━━━╇━━━━━━━━━━┩\n",
       "│<span style=\"color: #7f7f7f; text-decoration-color: #7f7f7f\"> You are a teenager (13-19 years old).      </span>│<span style=\"color: #7f7f7f; text-decoration-color: #7f7f7f\">                                             </span>│<span style=\"color: #7f7f7f; text-decoration-color: #7f7f7f\"> 4         </span>│<span style=\"color: #7f7f7f; text-decoration-color: #7f7f7f\"> 3        </span>│\n",
       "├────────────────────────────────────────────┼─────────────────────────────────────────────┼───────────┼──────────┤\n",
       "│<span style=\"color: #7f7f7f; text-decoration-color: #7f7f7f\"> You are a teenager (13-19 years old).      </span>│<span style=\"color: #7f7f7f; text-decoration-color: #7f7f7f\"> You are answering an online survey.         </span>│<span style=\"color: #7f7f7f; text-decoration-color: #7f7f7f\"> 3         </span>│<span style=\"color: #7f7f7f; text-decoration-color: #7f7f7f\"> 3        </span>│\n",
       "├────────────────────────────────────────────┼─────────────────────────────────────────────┼───────────┼──────────┤\n",
       "│<span style=\"color: #7f7f7f; text-decoration-color: #7f7f7f\"> You are a teenager (13-19 years old).      </span>│<span style=\"color: #7f7f7f; text-decoration-color: #7f7f7f\"> You are being interviewed by a researcher.  </span>│<span style=\"color: #7f7f7f; text-decoration-color: #7f7f7f\"> 3         </span>│<span style=\"color: #7f7f7f; text-decoration-color: #7f7f7f\"> 3        </span>│\n",
       "├────────────────────────────────────────────┼─────────────────────────────────────────────┼───────────┼──────────┤\n",
       "│<span style=\"color: #7f7f7f; text-decoration-color: #7f7f7f\"> You are a teenager (13-19 years old).      </span>│<span style=\"color: #7f7f7f; text-decoration-color: #7f7f7f\"> You are participating in a focus group of   </span>│<span style=\"color: #7f7f7f; text-decoration-color: #7f7f7f\"> 4         </span>│<span style=\"color: #7f7f7f; text-decoration-color: #7f7f7f\"> 3        </span>│\n",
       "│<span style=\"color: #7f7f7f; text-decoration-color: #7f7f7f\">                                            </span>│<span style=\"color: #7f7f7f; text-decoration-color: #7f7f7f\"> peers.                                      </span>│<span style=\"color: #7f7f7f; text-decoration-color: #7f7f7f\">           </span>│<span style=\"color: #7f7f7f; text-decoration-color: #7f7f7f\">          </span>│\n",
       "├────────────────────────────────────────────┼─────────────────────────────────────────────┼───────────┼──────────┤\n",
       "│<span style=\"color: #7f7f7f; text-decoration-color: #7f7f7f\"> You are a teenager (13-19 years old).      </span>│<span style=\"color: #7f7f7f; text-decoration-color: #7f7f7f\"> You are participating in a focus group of   </span>│<span style=\"color: #7f7f7f; text-decoration-color: #7f7f7f\"> 3         </span>│<span style=\"color: #7f7f7f; text-decoration-color: #7f7f7f\"> 3        </span>│\n",
       "│<span style=\"color: #7f7f7f; text-decoration-color: #7f7f7f\">                                            </span>│<span style=\"color: #7f7f7f; text-decoration-color: #7f7f7f\"> people of all ages and backgrounds.         </span>│<span style=\"color: #7f7f7f; text-decoration-color: #7f7f7f\">           </span>│<span style=\"color: #7f7f7f; text-decoration-color: #7f7f7f\">          </span>│\n",
       "├────────────────────────────────────────────┼─────────────────────────────────────────────┼───────────┼──────────┤\n",
       "│<span style=\"color: #7f7f7f; text-decoration-color: #7f7f7f\"> You are college age (20-24 years old).     </span>│<span style=\"color: #7f7f7f; text-decoration-color: #7f7f7f\">                                             </span>│<span style=\"color: #7f7f7f; text-decoration-color: #7f7f7f\"> 3         </span>│<span style=\"color: #7f7f7f; text-decoration-color: #7f7f7f\"> 2        </span>│\n",
       "├────────────────────────────────────────────┼─────────────────────────────────────────────┼───────────┼──────────┤\n",
       "│<span style=\"color: #7f7f7f; text-decoration-color: #7f7f7f\"> You are college age (20-24 years old).     </span>│<span style=\"color: #7f7f7f; text-decoration-color: #7f7f7f\"> You are answering an online survey.         </span>│<span style=\"color: #7f7f7f; text-decoration-color: #7f7f7f\"> 3         </span>│<span style=\"color: #7f7f7f; text-decoration-color: #7f7f7f\"> 3        </span>│\n",
       "├────────────────────────────────────────────┼─────────────────────────────────────────────┼───────────┼──────────┤\n",
       "│<span style=\"color: #7f7f7f; text-decoration-color: #7f7f7f\"> You are college age (20-24 years old).     </span>│<span style=\"color: #7f7f7f; text-decoration-color: #7f7f7f\"> You are being interviewed by a researcher.  </span>│<span style=\"color: #7f7f7f; text-decoration-color: #7f7f7f\"> 3         </span>│<span style=\"color: #7f7f7f; text-decoration-color: #7f7f7f\"> 2        </span>│\n",
       "├────────────────────────────────────────────┼─────────────────────────────────────────────┼───────────┼──────────┤\n",
       "│<span style=\"color: #7f7f7f; text-decoration-color: #7f7f7f\"> You are college age (20-24 years old).     </span>│<span style=\"color: #7f7f7f; text-decoration-color: #7f7f7f\"> You are participating in a focus group of   </span>│<span style=\"color: #7f7f7f; text-decoration-color: #7f7f7f\"> 3         </span>│<span style=\"color: #7f7f7f; text-decoration-color: #7f7f7f\"> 3        </span>│\n",
       "│<span style=\"color: #7f7f7f; text-decoration-color: #7f7f7f\">                                            </span>│<span style=\"color: #7f7f7f; text-decoration-color: #7f7f7f\"> peers.                                      </span>│<span style=\"color: #7f7f7f; text-decoration-color: #7f7f7f\">           </span>│<span style=\"color: #7f7f7f; text-decoration-color: #7f7f7f\">          </span>│\n",
       "├────────────────────────────────────────────┼─────────────────────────────────────────────┼───────────┼──────────┤\n",
       "│<span style=\"color: #7f7f7f; text-decoration-color: #7f7f7f\"> You are college age (20-24 years old).     </span>│<span style=\"color: #7f7f7f; text-decoration-color: #7f7f7f\"> You are participating in a focus group of   </span>│<span style=\"color: #7f7f7f; text-decoration-color: #7f7f7f\"> 3         </span>│<span style=\"color: #7f7f7f; text-decoration-color: #7f7f7f\"> 2        </span>│\n",
       "│<span style=\"color: #7f7f7f; text-decoration-color: #7f7f7f\">                                            </span>│<span style=\"color: #7f7f7f; text-decoration-color: #7f7f7f\"> people of all ages and backgrounds.         </span>│<span style=\"color: #7f7f7f; text-decoration-color: #7f7f7f\">           </span>│<span style=\"color: #7f7f7f; text-decoration-color: #7f7f7f\">          </span>│\n",
       "├────────────────────────────────────────────┼─────────────────────────────────────────────┼───────────┼──────────┤\n",
       "│<span style=\"color: #7f7f7f; text-decoration-color: #7f7f7f\"> You are a young adult (25-39 years old).   </span>│<span style=\"color: #7f7f7f; text-decoration-color: #7f7f7f\">                                             </span>│<span style=\"color: #7f7f7f; text-decoration-color: #7f7f7f\"> 3         </span>│<span style=\"color: #7f7f7f; text-decoration-color: #7f7f7f\"> 2        </span>│\n",
       "├────────────────────────────────────────────┼─────────────────────────────────────────────┼───────────┼──────────┤\n",
       "│<span style=\"color: #7f7f7f; text-decoration-color: #7f7f7f\"> You are a young adult (25-39 years old).   </span>│<span style=\"color: #7f7f7f; text-decoration-color: #7f7f7f\"> You are answering an online survey.         </span>│<span style=\"color: #7f7f7f; text-decoration-color: #7f7f7f\"> 3         </span>│<span style=\"color: #7f7f7f; text-decoration-color: #7f7f7f\"> 2        </span>│\n",
       "├────────────────────────────────────────────┼─────────────────────────────────────────────┼───────────┼──────────┤\n",
       "│<span style=\"color: #7f7f7f; text-decoration-color: #7f7f7f\"> You are a young adult (25-39 years old).   </span>│<span style=\"color: #7f7f7f; text-decoration-color: #7f7f7f\"> You are being interviewed by a researcher.  </span>│<span style=\"color: #7f7f7f; text-decoration-color: #7f7f7f\"> 4         </span>│<span style=\"color: #7f7f7f; text-decoration-color: #7f7f7f\"> 2        </span>│\n",
       "├────────────────────────────────────────────┼─────────────────────────────────────────────┼───────────┼──────────┤\n",
       "│<span style=\"color: #7f7f7f; text-decoration-color: #7f7f7f\"> You are a young adult (25-39 years old).   </span>│<span style=\"color: #7f7f7f; text-decoration-color: #7f7f7f\"> You are participating in a focus group of   </span>│<span style=\"color: #7f7f7f; text-decoration-color: #7f7f7f\"> 3         </span>│<span style=\"color: #7f7f7f; text-decoration-color: #7f7f7f\"> 2        </span>│\n",
       "│<span style=\"color: #7f7f7f; text-decoration-color: #7f7f7f\">                                            </span>│<span style=\"color: #7f7f7f; text-decoration-color: #7f7f7f\"> peers.                                      </span>│<span style=\"color: #7f7f7f; text-decoration-color: #7f7f7f\">           </span>│<span style=\"color: #7f7f7f; text-decoration-color: #7f7f7f\">          </span>│\n",
       "├────────────────────────────────────────────┼─────────────────────────────────────────────┼───────────┼──────────┤\n",
       "│<span style=\"color: #7f7f7f; text-decoration-color: #7f7f7f\"> You are a young adult (25-39 years old).   </span>│<span style=\"color: #7f7f7f; text-decoration-color: #7f7f7f\"> You are participating in a focus group of   </span>│<span style=\"color: #7f7f7f; text-decoration-color: #7f7f7f\"> 3         </span>│<span style=\"color: #7f7f7f; text-decoration-color: #7f7f7f\"> 2        </span>│\n",
       "│<span style=\"color: #7f7f7f; text-decoration-color: #7f7f7f\">                                            </span>│<span style=\"color: #7f7f7f; text-decoration-color: #7f7f7f\"> people of all ages and backgrounds.         </span>│<span style=\"color: #7f7f7f; text-decoration-color: #7f7f7f\">           </span>│<span style=\"color: #7f7f7f; text-decoration-color: #7f7f7f\">          </span>│\n",
       "├────────────────────────────────────────────┼─────────────────────────────────────────────┼───────────┼──────────┤\n",
       "│<span style=\"color: #7f7f7f; text-decoration-color: #7f7f7f\"> You are middle-aged (40-59 years old).     </span>│<span style=\"color: #7f7f7f; text-decoration-color: #7f7f7f\">                                             </span>│<span style=\"color: #7f7f7f; text-decoration-color: #7f7f7f\"> 3         </span>│<span style=\"color: #7f7f7f; text-decoration-color: #7f7f7f\"> 2        </span>│\n",
       "├────────────────────────────────────────────┼─────────────────────────────────────────────┼───────────┼──────────┤\n",
       "│<span style=\"color: #7f7f7f; text-decoration-color: #7f7f7f\"> You are middle-aged (40-59 years old).     </span>│<span style=\"color: #7f7f7f; text-decoration-color: #7f7f7f\"> You are answering an online survey.         </span>│<span style=\"color: #7f7f7f; text-decoration-color: #7f7f7f\"> 3         </span>│<span style=\"color: #7f7f7f; text-decoration-color: #7f7f7f\"> 2        </span>│\n",
       "├────────────────────────────────────────────┼─────────────────────────────────────────────┼───────────┼──────────┤\n",
       "│<span style=\"color: #7f7f7f; text-decoration-color: #7f7f7f\"> You are middle-aged (40-59 years old).     </span>│<span style=\"color: #7f7f7f; text-decoration-color: #7f7f7f\"> You are being interviewed by a researcher.  </span>│<span style=\"color: #7f7f7f; text-decoration-color: #7f7f7f\"> 3         </span>│<span style=\"color: #7f7f7f; text-decoration-color: #7f7f7f\"> 2        </span>│\n",
       "├────────────────────────────────────────────┼─────────────────────────────────────────────┼───────────┼──────────┤\n",
       "│<span style=\"color: #7f7f7f; text-decoration-color: #7f7f7f\"> You are middle-aged (40-59 years old).     </span>│<span style=\"color: #7f7f7f; text-decoration-color: #7f7f7f\"> You are participating in a focus group of   </span>│<span style=\"color: #7f7f7f; text-decoration-color: #7f7f7f\"> 3         </span>│<span style=\"color: #7f7f7f; text-decoration-color: #7f7f7f\"> 2        </span>│\n",
       "│<span style=\"color: #7f7f7f; text-decoration-color: #7f7f7f\">                                            </span>│<span style=\"color: #7f7f7f; text-decoration-color: #7f7f7f\"> peers.                                      </span>│<span style=\"color: #7f7f7f; text-decoration-color: #7f7f7f\">           </span>│<span style=\"color: #7f7f7f; text-decoration-color: #7f7f7f\">          </span>│\n",
       "├────────────────────────────────────────────┼─────────────────────────────────────────────┼───────────┼──────────┤\n",
       "│<span style=\"color: #7f7f7f; text-decoration-color: #7f7f7f\"> You are middle-aged (40-59 years old).     </span>│<span style=\"color: #7f7f7f; text-decoration-color: #7f7f7f\"> You are participating in a focus group of   </span>│<span style=\"color: #7f7f7f; text-decoration-color: #7f7f7f\"> 3         </span>│<span style=\"color: #7f7f7f; text-decoration-color: #7f7f7f\"> 3        </span>│\n",
       "│<span style=\"color: #7f7f7f; text-decoration-color: #7f7f7f\">                                            </span>│<span style=\"color: #7f7f7f; text-decoration-color: #7f7f7f\"> people of all ages and backgrounds.         </span>│<span style=\"color: #7f7f7f; text-decoration-color: #7f7f7f\">           </span>│<span style=\"color: #7f7f7f; text-decoration-color: #7f7f7f\">          </span>│\n",
       "├────────────────────────────────────────────┼─────────────────────────────────────────────┼───────────┼──────────┤\n",
       "│<span style=\"color: #7f7f7f; text-decoration-color: #7f7f7f\"> You are a senior citizen (60 or more years </span>│<span style=\"color: #7f7f7f; text-decoration-color: #7f7f7f\">                                             </span>│<span style=\"color: #7f7f7f; text-decoration-color: #7f7f7f\"> 3         </span>│<span style=\"color: #7f7f7f; text-decoration-color: #7f7f7f\"> 2        </span>│\n",
       "│<span style=\"color: #7f7f7f; text-decoration-color: #7f7f7f\"> old).                                      </span>│<span style=\"color: #7f7f7f; text-decoration-color: #7f7f7f\">                                             </span>│<span style=\"color: #7f7f7f; text-decoration-color: #7f7f7f\">           </span>│<span style=\"color: #7f7f7f; text-decoration-color: #7f7f7f\">          </span>│\n",
       "├────────────────────────────────────────────┼─────────────────────────────────────────────┼───────────┼──────────┤\n",
       "│<span style=\"color: #7f7f7f; text-decoration-color: #7f7f7f\"> You are a senior citizen (60 or more years </span>│<span style=\"color: #7f7f7f; text-decoration-color: #7f7f7f\"> You are answering an online survey.         </span>│<span style=\"color: #7f7f7f; text-decoration-color: #7f7f7f\"> 3         </span>│<span style=\"color: #7f7f7f; text-decoration-color: #7f7f7f\"> 2        </span>│\n",
       "│<span style=\"color: #7f7f7f; text-decoration-color: #7f7f7f\"> old).                                      </span>│<span style=\"color: #7f7f7f; text-decoration-color: #7f7f7f\">                                             </span>│<span style=\"color: #7f7f7f; text-decoration-color: #7f7f7f\">           </span>│<span style=\"color: #7f7f7f; text-decoration-color: #7f7f7f\">          </span>│\n",
       "├────────────────────────────────────────────┼─────────────────────────────────────────────┼───────────┼──────────┤\n",
       "│<span style=\"color: #7f7f7f; text-decoration-color: #7f7f7f\"> You are a senior citizen (60 or more years </span>│<span style=\"color: #7f7f7f; text-decoration-color: #7f7f7f\"> You are being interviewed by a researcher.  </span>│<span style=\"color: #7f7f7f; text-decoration-color: #7f7f7f\"> 3         </span>│<span style=\"color: #7f7f7f; text-decoration-color: #7f7f7f\"> 2        </span>│\n",
       "│<span style=\"color: #7f7f7f; text-decoration-color: #7f7f7f\"> old).                                      </span>│<span style=\"color: #7f7f7f; text-decoration-color: #7f7f7f\">                                             </span>│<span style=\"color: #7f7f7f; text-decoration-color: #7f7f7f\">           </span>│<span style=\"color: #7f7f7f; text-decoration-color: #7f7f7f\">          </span>│\n",
       "├────────────────────────────────────────────┼─────────────────────────────────────────────┼───────────┼──────────┤\n",
       "│<span style=\"color: #7f7f7f; text-decoration-color: #7f7f7f\"> You are a senior citizen (60 or more years </span>│<span style=\"color: #7f7f7f; text-decoration-color: #7f7f7f\"> You are participating in a focus group of   </span>│<span style=\"color: #7f7f7f; text-decoration-color: #7f7f7f\"> 3         </span>│<span style=\"color: #7f7f7f; text-decoration-color: #7f7f7f\"> 3        </span>│\n",
       "│<span style=\"color: #7f7f7f; text-decoration-color: #7f7f7f\"> old).                                      </span>│<span style=\"color: #7f7f7f; text-decoration-color: #7f7f7f\"> peers.                                      </span>│<span style=\"color: #7f7f7f; text-decoration-color: #7f7f7f\">           </span>│<span style=\"color: #7f7f7f; text-decoration-color: #7f7f7f\">          </span>│\n",
       "├────────────────────────────────────────────┼─────────────────────────────────────────────┼───────────┼──────────┤\n",
       "│<span style=\"color: #7f7f7f; text-decoration-color: #7f7f7f\"> You are a senior citizen (60 or more years </span>│<span style=\"color: #7f7f7f; text-decoration-color: #7f7f7f\"> You are participating in a focus group of   </span>│<span style=\"color: #7f7f7f; text-decoration-color: #7f7f7f\"> 3         </span>│<span style=\"color: #7f7f7f; text-decoration-color: #7f7f7f\"> 2        </span>│\n",
       "│<span style=\"color: #7f7f7f; text-decoration-color: #7f7f7f\"> old).                                      </span>│<span style=\"color: #7f7f7f; text-decoration-color: #7f7f7f\"> people of all ages and backgrounds.         </span>│<span style=\"color: #7f7f7f; text-decoration-color: #7f7f7f\">           </span>│<span style=\"color: #7f7f7f; text-decoration-color: #7f7f7f\">          </span>│\n",
       "└────────────────────────────────────────────┴─────────────────────────────────────────────┴───────────┴──────────┘\n",
       "</pre>\n"
      ],
      "text/plain": [
       "┏━━━━━━━━━━━━━━━━━━━━━━━━━━━━━━━━━━━━━━━━━━━━┳━━━━━━━━━━━━━━━━━━━━━━━━━━━━━━━━━━━━━━━━━━━━━┳━━━━━━━━━━━┳━━━━━━━━━━┓\n",
       "┃\u001b[1;35m \u001b[0m\u001b[1;35magent                                     \u001b[0m\u001b[1;35m \u001b[0m┃\u001b[1;35m \u001b[0m\u001b[1;35magent                                      \u001b[0m\u001b[1;35m \u001b[0m┃\u001b[1;35m \u001b[0m\u001b[1;35manswer   \u001b[0m\u001b[1;35m \u001b[0m┃\u001b[1;35m \u001b[0m\u001b[1;35manswer  \u001b[0m\u001b[1;35m \u001b[0m┃\n",
       "┃\u001b[1;35m \u001b[0m\u001b[1;35m.age                                      \u001b[0m\u001b[1;35m \u001b[0m┃\u001b[1;35m \u001b[0m\u001b[1;35m.context                                   \u001b[0m\u001b[1;35m \u001b[0m┃\u001b[1;35m \u001b[0m\u001b[1;35m.exercise\u001b[0m\u001b[1;35m \u001b[0m┃\u001b[1;35m \u001b[0m\u001b[1;35m.dessert\u001b[0m\u001b[1;35m \u001b[0m┃\n",
       "┡━━━━━━━━━━━━━━━━━━━━━━━━━━━━━━━━━━━━━━━━━━━━╇━━━━━━━━━━━━━━━━━━━━━━━━━━━━━━━━━━━━━━━━━━━━━╇━━━━━━━━━━━╇━━━━━━━━━━┩\n",
       "│\u001b[2m \u001b[0m\u001b[2mYou are a teenager (13-19 years old).     \u001b[0m\u001b[2m \u001b[0m│\u001b[2m \u001b[0m\u001b[2m                                           \u001b[0m\u001b[2m \u001b[0m│\u001b[2m \u001b[0m\u001b[2m4        \u001b[0m\u001b[2m \u001b[0m│\u001b[2m \u001b[0m\u001b[2m3       \u001b[0m\u001b[2m \u001b[0m│\n",
       "├────────────────────────────────────────────┼─────────────────────────────────────────────┼───────────┼──────────┤\n",
       "│\u001b[2m \u001b[0m\u001b[2mYou are a teenager (13-19 years old).     \u001b[0m\u001b[2m \u001b[0m│\u001b[2m \u001b[0m\u001b[2mYou are answering an online survey.        \u001b[0m\u001b[2m \u001b[0m│\u001b[2m \u001b[0m\u001b[2m3        \u001b[0m\u001b[2m \u001b[0m│\u001b[2m \u001b[0m\u001b[2m3       \u001b[0m\u001b[2m \u001b[0m│\n",
       "├────────────────────────────────────────────┼─────────────────────────────────────────────┼───────────┼──────────┤\n",
       "│\u001b[2m \u001b[0m\u001b[2mYou are a teenager (13-19 years old).     \u001b[0m\u001b[2m \u001b[0m│\u001b[2m \u001b[0m\u001b[2mYou are being interviewed by a researcher. \u001b[0m\u001b[2m \u001b[0m│\u001b[2m \u001b[0m\u001b[2m3        \u001b[0m\u001b[2m \u001b[0m│\u001b[2m \u001b[0m\u001b[2m3       \u001b[0m\u001b[2m \u001b[0m│\n",
       "├────────────────────────────────────────────┼─────────────────────────────────────────────┼───────────┼──────────┤\n",
       "│\u001b[2m \u001b[0m\u001b[2mYou are a teenager (13-19 years old).     \u001b[0m\u001b[2m \u001b[0m│\u001b[2m \u001b[0m\u001b[2mYou are participating in a focus group of  \u001b[0m\u001b[2m \u001b[0m│\u001b[2m \u001b[0m\u001b[2m4        \u001b[0m\u001b[2m \u001b[0m│\u001b[2m \u001b[0m\u001b[2m3       \u001b[0m\u001b[2m \u001b[0m│\n",
       "│\u001b[2m                                            \u001b[0m│\u001b[2m \u001b[0m\u001b[2mpeers.                                     \u001b[0m\u001b[2m \u001b[0m│\u001b[2m           \u001b[0m│\u001b[2m          \u001b[0m│\n",
       "├────────────────────────────────────────────┼─────────────────────────────────────────────┼───────────┼──────────┤\n",
       "│\u001b[2m \u001b[0m\u001b[2mYou are a teenager (13-19 years old).     \u001b[0m\u001b[2m \u001b[0m│\u001b[2m \u001b[0m\u001b[2mYou are participating in a focus group of  \u001b[0m\u001b[2m \u001b[0m│\u001b[2m \u001b[0m\u001b[2m3        \u001b[0m\u001b[2m \u001b[0m│\u001b[2m \u001b[0m\u001b[2m3       \u001b[0m\u001b[2m \u001b[0m│\n",
       "│\u001b[2m                                            \u001b[0m│\u001b[2m \u001b[0m\u001b[2mpeople of all ages and backgrounds.        \u001b[0m\u001b[2m \u001b[0m│\u001b[2m           \u001b[0m│\u001b[2m          \u001b[0m│\n",
       "├────────────────────────────────────────────┼─────────────────────────────────────────────┼───────────┼──────────┤\n",
       "│\u001b[2m \u001b[0m\u001b[2mYou are college age (20-24 years old).    \u001b[0m\u001b[2m \u001b[0m│\u001b[2m \u001b[0m\u001b[2m                                           \u001b[0m\u001b[2m \u001b[0m│\u001b[2m \u001b[0m\u001b[2m3        \u001b[0m\u001b[2m \u001b[0m│\u001b[2m \u001b[0m\u001b[2m2       \u001b[0m\u001b[2m \u001b[0m│\n",
       "├────────────────────────────────────────────┼─────────────────────────────────────────────┼───────────┼──────────┤\n",
       "│\u001b[2m \u001b[0m\u001b[2mYou are college age (20-24 years old).    \u001b[0m\u001b[2m \u001b[0m│\u001b[2m \u001b[0m\u001b[2mYou are answering an online survey.        \u001b[0m\u001b[2m \u001b[0m│\u001b[2m \u001b[0m\u001b[2m3        \u001b[0m\u001b[2m \u001b[0m│\u001b[2m \u001b[0m\u001b[2m3       \u001b[0m\u001b[2m \u001b[0m│\n",
       "├────────────────────────────────────────────┼─────────────────────────────────────────────┼───────────┼──────────┤\n",
       "│\u001b[2m \u001b[0m\u001b[2mYou are college age (20-24 years old).    \u001b[0m\u001b[2m \u001b[0m│\u001b[2m \u001b[0m\u001b[2mYou are being interviewed by a researcher. \u001b[0m\u001b[2m \u001b[0m│\u001b[2m \u001b[0m\u001b[2m3        \u001b[0m\u001b[2m \u001b[0m│\u001b[2m \u001b[0m\u001b[2m2       \u001b[0m\u001b[2m \u001b[0m│\n",
       "├────────────────────────────────────────────┼─────────────────────────────────────────────┼───────────┼──────────┤\n",
       "│\u001b[2m \u001b[0m\u001b[2mYou are college age (20-24 years old).    \u001b[0m\u001b[2m \u001b[0m│\u001b[2m \u001b[0m\u001b[2mYou are participating in a focus group of  \u001b[0m\u001b[2m \u001b[0m│\u001b[2m \u001b[0m\u001b[2m3        \u001b[0m\u001b[2m \u001b[0m│\u001b[2m \u001b[0m\u001b[2m3       \u001b[0m\u001b[2m \u001b[0m│\n",
       "│\u001b[2m                                            \u001b[0m│\u001b[2m \u001b[0m\u001b[2mpeers.                                     \u001b[0m\u001b[2m \u001b[0m│\u001b[2m           \u001b[0m│\u001b[2m          \u001b[0m│\n",
       "├────────────────────────────────────────────┼─────────────────────────────────────────────┼───────────┼──────────┤\n",
       "│\u001b[2m \u001b[0m\u001b[2mYou are college age (20-24 years old).    \u001b[0m\u001b[2m \u001b[0m│\u001b[2m \u001b[0m\u001b[2mYou are participating in a focus group of  \u001b[0m\u001b[2m \u001b[0m│\u001b[2m \u001b[0m\u001b[2m3        \u001b[0m\u001b[2m \u001b[0m│\u001b[2m \u001b[0m\u001b[2m2       \u001b[0m\u001b[2m \u001b[0m│\n",
       "│\u001b[2m                                            \u001b[0m│\u001b[2m \u001b[0m\u001b[2mpeople of all ages and backgrounds.        \u001b[0m\u001b[2m \u001b[0m│\u001b[2m           \u001b[0m│\u001b[2m          \u001b[0m│\n",
       "├────────────────────────────────────────────┼─────────────────────────────────────────────┼───────────┼──────────┤\n",
       "│\u001b[2m \u001b[0m\u001b[2mYou are a young adult (25-39 years old).  \u001b[0m\u001b[2m \u001b[0m│\u001b[2m \u001b[0m\u001b[2m                                           \u001b[0m\u001b[2m \u001b[0m│\u001b[2m \u001b[0m\u001b[2m3        \u001b[0m\u001b[2m \u001b[0m│\u001b[2m \u001b[0m\u001b[2m2       \u001b[0m\u001b[2m \u001b[0m│\n",
       "├────────────────────────────────────────────┼─────────────────────────────────────────────┼───────────┼──────────┤\n",
       "│\u001b[2m \u001b[0m\u001b[2mYou are a young adult (25-39 years old).  \u001b[0m\u001b[2m \u001b[0m│\u001b[2m \u001b[0m\u001b[2mYou are answering an online survey.        \u001b[0m\u001b[2m \u001b[0m│\u001b[2m \u001b[0m\u001b[2m3        \u001b[0m\u001b[2m \u001b[0m│\u001b[2m \u001b[0m\u001b[2m2       \u001b[0m\u001b[2m \u001b[0m│\n",
       "├────────────────────────────────────────────┼─────────────────────────────────────────────┼───────────┼──────────┤\n",
       "│\u001b[2m \u001b[0m\u001b[2mYou are a young adult (25-39 years old).  \u001b[0m\u001b[2m \u001b[0m│\u001b[2m \u001b[0m\u001b[2mYou are being interviewed by a researcher. \u001b[0m\u001b[2m \u001b[0m│\u001b[2m \u001b[0m\u001b[2m4        \u001b[0m\u001b[2m \u001b[0m│\u001b[2m \u001b[0m\u001b[2m2       \u001b[0m\u001b[2m \u001b[0m│\n",
       "├────────────────────────────────────────────┼─────────────────────────────────────────────┼───────────┼──────────┤\n",
       "│\u001b[2m \u001b[0m\u001b[2mYou are a young adult (25-39 years old).  \u001b[0m\u001b[2m \u001b[0m│\u001b[2m \u001b[0m\u001b[2mYou are participating in a focus group of  \u001b[0m\u001b[2m \u001b[0m│\u001b[2m \u001b[0m\u001b[2m3        \u001b[0m\u001b[2m \u001b[0m│\u001b[2m \u001b[0m\u001b[2m2       \u001b[0m\u001b[2m \u001b[0m│\n",
       "│\u001b[2m                                            \u001b[0m│\u001b[2m \u001b[0m\u001b[2mpeers.                                     \u001b[0m\u001b[2m \u001b[0m│\u001b[2m           \u001b[0m│\u001b[2m          \u001b[0m│\n",
       "├────────────────────────────────────────────┼─────────────────────────────────────────────┼───────────┼──────────┤\n",
       "│\u001b[2m \u001b[0m\u001b[2mYou are a young adult (25-39 years old).  \u001b[0m\u001b[2m \u001b[0m│\u001b[2m \u001b[0m\u001b[2mYou are participating in a focus group of  \u001b[0m\u001b[2m \u001b[0m│\u001b[2m \u001b[0m\u001b[2m3        \u001b[0m\u001b[2m \u001b[0m│\u001b[2m \u001b[0m\u001b[2m2       \u001b[0m\u001b[2m \u001b[0m│\n",
       "│\u001b[2m                                            \u001b[0m│\u001b[2m \u001b[0m\u001b[2mpeople of all ages and backgrounds.        \u001b[0m\u001b[2m \u001b[0m│\u001b[2m           \u001b[0m│\u001b[2m          \u001b[0m│\n",
       "├────────────────────────────────────────────┼─────────────────────────────────────────────┼───────────┼──────────┤\n",
       "│\u001b[2m \u001b[0m\u001b[2mYou are middle-aged (40-59 years old).    \u001b[0m\u001b[2m \u001b[0m│\u001b[2m \u001b[0m\u001b[2m                                           \u001b[0m\u001b[2m \u001b[0m│\u001b[2m \u001b[0m\u001b[2m3        \u001b[0m\u001b[2m \u001b[0m│\u001b[2m \u001b[0m\u001b[2m2       \u001b[0m\u001b[2m \u001b[0m│\n",
       "├────────────────────────────────────────────┼─────────────────────────────────────────────┼───────────┼──────────┤\n",
       "│\u001b[2m \u001b[0m\u001b[2mYou are middle-aged (40-59 years old).    \u001b[0m\u001b[2m \u001b[0m│\u001b[2m \u001b[0m\u001b[2mYou are answering an online survey.        \u001b[0m\u001b[2m \u001b[0m│\u001b[2m \u001b[0m\u001b[2m3        \u001b[0m\u001b[2m \u001b[0m│\u001b[2m \u001b[0m\u001b[2m2       \u001b[0m\u001b[2m \u001b[0m│\n",
       "├────────────────────────────────────────────┼─────────────────────────────────────────────┼───────────┼──────────┤\n",
       "│\u001b[2m \u001b[0m\u001b[2mYou are middle-aged (40-59 years old).    \u001b[0m\u001b[2m \u001b[0m│\u001b[2m \u001b[0m\u001b[2mYou are being interviewed by a researcher. \u001b[0m\u001b[2m \u001b[0m│\u001b[2m \u001b[0m\u001b[2m3        \u001b[0m\u001b[2m \u001b[0m│\u001b[2m \u001b[0m\u001b[2m2       \u001b[0m\u001b[2m \u001b[0m│\n",
       "├────────────────────────────────────────────┼─────────────────────────────────────────────┼───────────┼──────────┤\n",
       "│\u001b[2m \u001b[0m\u001b[2mYou are middle-aged (40-59 years old).    \u001b[0m\u001b[2m \u001b[0m│\u001b[2m \u001b[0m\u001b[2mYou are participating in a focus group of  \u001b[0m\u001b[2m \u001b[0m│\u001b[2m \u001b[0m\u001b[2m3        \u001b[0m\u001b[2m \u001b[0m│\u001b[2m \u001b[0m\u001b[2m2       \u001b[0m\u001b[2m \u001b[0m│\n",
       "│\u001b[2m                                            \u001b[0m│\u001b[2m \u001b[0m\u001b[2mpeers.                                     \u001b[0m\u001b[2m \u001b[0m│\u001b[2m           \u001b[0m│\u001b[2m          \u001b[0m│\n",
       "├────────────────────────────────────────────┼─────────────────────────────────────────────┼───────────┼──────────┤\n",
       "│\u001b[2m \u001b[0m\u001b[2mYou are middle-aged (40-59 years old).    \u001b[0m\u001b[2m \u001b[0m│\u001b[2m \u001b[0m\u001b[2mYou are participating in a focus group of  \u001b[0m\u001b[2m \u001b[0m│\u001b[2m \u001b[0m\u001b[2m3        \u001b[0m\u001b[2m \u001b[0m│\u001b[2m \u001b[0m\u001b[2m3       \u001b[0m\u001b[2m \u001b[0m│\n",
       "│\u001b[2m                                            \u001b[0m│\u001b[2m \u001b[0m\u001b[2mpeople of all ages and backgrounds.        \u001b[0m\u001b[2m \u001b[0m│\u001b[2m           \u001b[0m│\u001b[2m          \u001b[0m│\n",
       "├────────────────────────────────────────────┼─────────────────────────────────────────────┼───────────┼──────────┤\n",
       "│\u001b[2m \u001b[0m\u001b[2mYou are a senior citizen (60 or more years\u001b[0m\u001b[2m \u001b[0m│\u001b[2m \u001b[0m\u001b[2m                                           \u001b[0m\u001b[2m \u001b[0m│\u001b[2m \u001b[0m\u001b[2m3        \u001b[0m\u001b[2m \u001b[0m│\u001b[2m \u001b[0m\u001b[2m2       \u001b[0m\u001b[2m \u001b[0m│\n",
       "│\u001b[2m \u001b[0m\u001b[2mold).                                     \u001b[0m\u001b[2m \u001b[0m│\u001b[2m                                             \u001b[0m│\u001b[2m           \u001b[0m│\u001b[2m          \u001b[0m│\n",
       "├────────────────────────────────────────────┼─────────────────────────────────────────────┼───────────┼──────────┤\n",
       "│\u001b[2m \u001b[0m\u001b[2mYou are a senior citizen (60 or more years\u001b[0m\u001b[2m \u001b[0m│\u001b[2m \u001b[0m\u001b[2mYou are answering an online survey.        \u001b[0m\u001b[2m \u001b[0m│\u001b[2m \u001b[0m\u001b[2m3        \u001b[0m\u001b[2m \u001b[0m│\u001b[2m \u001b[0m\u001b[2m2       \u001b[0m\u001b[2m \u001b[0m│\n",
       "│\u001b[2m \u001b[0m\u001b[2mold).                                     \u001b[0m\u001b[2m \u001b[0m│\u001b[2m                                             \u001b[0m│\u001b[2m           \u001b[0m│\u001b[2m          \u001b[0m│\n",
       "├────────────────────────────────────────────┼─────────────────────────────────────────────┼───────────┼──────────┤\n",
       "│\u001b[2m \u001b[0m\u001b[2mYou are a senior citizen (60 or more years\u001b[0m\u001b[2m \u001b[0m│\u001b[2m \u001b[0m\u001b[2mYou are being interviewed by a researcher. \u001b[0m\u001b[2m \u001b[0m│\u001b[2m \u001b[0m\u001b[2m3        \u001b[0m\u001b[2m \u001b[0m│\u001b[2m \u001b[0m\u001b[2m2       \u001b[0m\u001b[2m \u001b[0m│\n",
       "│\u001b[2m \u001b[0m\u001b[2mold).                                     \u001b[0m\u001b[2m \u001b[0m│\u001b[2m                                             \u001b[0m│\u001b[2m           \u001b[0m│\u001b[2m          \u001b[0m│\n",
       "├────────────────────────────────────────────┼─────────────────────────────────────────────┼───────────┼──────────┤\n",
       "│\u001b[2m \u001b[0m\u001b[2mYou are a senior citizen (60 or more years\u001b[0m\u001b[2m \u001b[0m│\u001b[2m \u001b[0m\u001b[2mYou are participating in a focus group of  \u001b[0m\u001b[2m \u001b[0m│\u001b[2m \u001b[0m\u001b[2m3        \u001b[0m\u001b[2m \u001b[0m│\u001b[2m \u001b[0m\u001b[2m3       \u001b[0m\u001b[2m \u001b[0m│\n",
       "│\u001b[2m \u001b[0m\u001b[2mold).                                     \u001b[0m\u001b[2m \u001b[0m│\u001b[2m \u001b[0m\u001b[2mpeers.                                     \u001b[0m\u001b[2m \u001b[0m│\u001b[2m           \u001b[0m│\u001b[2m          \u001b[0m│\n",
       "├────────────────────────────────────────────┼─────────────────────────────────────────────┼───────────┼──────────┤\n",
       "│\u001b[2m \u001b[0m\u001b[2mYou are a senior citizen (60 or more years\u001b[0m\u001b[2m \u001b[0m│\u001b[2m \u001b[0m\u001b[2mYou are participating in a focus group of  \u001b[0m\u001b[2m \u001b[0m│\u001b[2m \u001b[0m\u001b[2m3        \u001b[0m\u001b[2m \u001b[0m│\u001b[2m \u001b[0m\u001b[2m2       \u001b[0m\u001b[2m \u001b[0m│\n",
       "│\u001b[2m \u001b[0m\u001b[2mold).                                     \u001b[0m\u001b[2m \u001b[0m│\u001b[2m \u001b[0m\u001b[2mpeople of all ages and backgrounds.        \u001b[0m\u001b[2m \u001b[0m│\u001b[2m           \u001b[0m│\u001b[2m          \u001b[0m│\n",
       "└────────────────────────────────────────────┴─────────────────────────────────────────────┴───────────┴──────────┘\n"
      ]
     },
     "metadata": {},
     "output_type": "display_data"
    }
   ],
   "source": [
    "results.select(\"age\", \"context\", \"exercise\", \"dessert\").print()"
   ]
  },
  {
   "cell_type": "markdown",
   "id": "87df7223-4c16-49b1-aa5f-ce904f9a58b7",
   "metadata": {},
   "source": [
    "<br>"
   ]
  },
  {
   "cell_type": "markdown",
   "id": "82b730ab-b54f-4003-86d5-3da91d34c47e",
   "metadata": {},
   "source": [
    "# Adding context to question texts and agent traits\n",
    "Here we use agent traits and specify context only in the question text:"
   ]
  },
  {
   "cell_type": "code",
   "execution_count": 11,
   "id": "794dbfd3-45bf-4bdd-b80d-4d29da70403a",
   "metadata": {},
   "outputs": [],
   "source": [
    "q_exercise = QuestionLinearScale(\n",
    "    question_name = \"exercise\",\n",
    "    question_text = \"How many times do you exercise each week? ({{context}})\",\n",
    "    question_options = [0,1,2,3,4,5,6,7]\n",
    ")\n",
    "\n",
    "q_dessert = QuestionLinearScale(\n",
    "    question_name = \"dessert\",\n",
    "    question_text = \"How many times do you eat dessert each week? ({{context}})\",\n",
    "    question_options = [0,1,2,3,4,5,6,7]\n",
    ")\n",
    "\n",
    "survey = Survey([q_exercise, q_dessert])"
   ]
  },
  {
   "cell_type": "code",
   "execution_count": 12,
   "id": "ed2313bf-c922-4f55-9dd4-0b3d43d67865",
   "metadata": {},
   "outputs": [],
   "source": [
    "scenarios = [Scenario({\"context\":c}) for c in contexts]"
   ]
  },
  {
   "cell_type": "code",
   "execution_count": 13,
   "id": "c7255fc2-4a18-4f35-9059-203853a88846",
   "metadata": {},
   "outputs": [],
   "source": [
    "agents = [Agent({\"age\":a}) for a in ages]"
   ]
  },
  {
   "cell_type": "code",
   "execution_count": 14,
   "id": "5903f07f-cf7d-4eb2-b446-eed07e023cc6",
   "metadata": {},
   "outputs": [
    {
     "name": "stderr",
     "output_type": "stream",
     "text": [
      "Running surveys: 100%|████████████████████████████| 25/25 [03:55<00:00,  9.40s/it]\n"
     ]
    }
   ],
   "source": [
    "results = survey.by(scenarios).by(agents).by(m4).run()"
   ]
  },
  {
   "cell_type": "code",
   "execution_count": 15,
   "id": "6ef42ce4-ffad-49d9-9747-50e87b29730a",
   "metadata": {},
   "outputs": [
    {
     "data": {
      "text/html": [
       "<pre style=\"white-space:pre;overflow-x:auto;line-height:normal;font-family:Menlo,'DejaVu Sans Mono',consolas,'Courier New',monospace\">┏━━━━━━━━━━━━━━━━━━━━━━━━━━━━━━━━━━━━━━━━━━━━┳━━━━━━━━━━━━━━━━━━━━━━━━━━━━━━━━━━━━━━━━━━━━━┳━━━━━━━━━━━┳━━━━━━━━━━┓\n",
       "┃<span style=\"color: #800080; text-decoration-color: #800080; font-weight: bold\"> agent                                      </span>┃<span style=\"color: #800080; text-decoration-color: #800080; font-weight: bold\"> scenario                                    </span>┃<span style=\"color: #800080; text-decoration-color: #800080; font-weight: bold\"> answer    </span>┃<span style=\"color: #800080; text-decoration-color: #800080; font-weight: bold\"> answer   </span>┃\n",
       "┃<span style=\"color: #800080; text-decoration-color: #800080; font-weight: bold\"> .age                                       </span>┃<span style=\"color: #800080; text-decoration-color: #800080; font-weight: bold\"> .context                                    </span>┃<span style=\"color: #800080; text-decoration-color: #800080; font-weight: bold\"> .exercise </span>┃<span style=\"color: #800080; text-decoration-color: #800080; font-weight: bold\"> .dessert </span>┃\n",
       "┡━━━━━━━━━━━━━━━━━━━━━━━━━━━━━━━━━━━━━━━━━━━━╇━━━━━━━━━━━━━━━━━━━━━━━━━━━━━━━━━━━━━━━━━━━━━╇━━━━━━━━━━━╇━━━━━━━━━━┩\n",
       "│<span style=\"color: #7f7f7f; text-decoration-color: #7f7f7f\"> You are a teenager (13-19 years old).      </span>│<span style=\"color: #7f7f7f; text-decoration-color: #7f7f7f\">                                             </span>│<span style=\"color: #7f7f7f; text-decoration-color: #7f7f7f\"> 4         </span>│<span style=\"color: #7f7f7f; text-decoration-color: #7f7f7f\"> 3        </span>│\n",
       "├────────────────────────────────────────────┼─────────────────────────────────────────────┼───────────┼──────────┤\n",
       "│<span style=\"color: #7f7f7f; text-decoration-color: #7f7f7f\"> You are a teenager (13-19 years old).      </span>│<span style=\"color: #7f7f7f; text-decoration-color: #7f7f7f\"> You are answering an online survey.         </span>│<span style=\"color: #7f7f7f; text-decoration-color: #7f7f7f\"> 3         </span>│<span style=\"color: #7f7f7f; text-decoration-color: #7f7f7f\"> 3        </span>│\n",
       "├────────────────────────────────────────────┼─────────────────────────────────────────────┼───────────┼──────────┤\n",
       "│<span style=\"color: #7f7f7f; text-decoration-color: #7f7f7f\"> You are a teenager (13-19 years old).      </span>│<span style=\"color: #7f7f7f; text-decoration-color: #7f7f7f\"> You are being interviewed by a researcher.  </span>│<span style=\"color: #7f7f7f; text-decoration-color: #7f7f7f\"> 3         </span>│<span style=\"color: #7f7f7f; text-decoration-color: #7f7f7f\"> 3        </span>│\n",
       "├────────────────────────────────────────────┼─────────────────────────────────────────────┼───────────┼──────────┤\n",
       "│<span style=\"color: #7f7f7f; text-decoration-color: #7f7f7f\"> You are a teenager (13-19 years old).      </span>│<span style=\"color: #7f7f7f; text-decoration-color: #7f7f7f\"> You are participating in a focus group of   </span>│<span style=\"color: #7f7f7f; text-decoration-color: #7f7f7f\"> 3         </span>│<span style=\"color: #7f7f7f; text-decoration-color: #7f7f7f\"> 3        </span>│\n",
       "│<span style=\"color: #7f7f7f; text-decoration-color: #7f7f7f\">                                            </span>│<span style=\"color: #7f7f7f; text-decoration-color: #7f7f7f\"> peers.                                      </span>│<span style=\"color: #7f7f7f; text-decoration-color: #7f7f7f\">           </span>│<span style=\"color: #7f7f7f; text-decoration-color: #7f7f7f\">          </span>│\n",
       "├────────────────────────────────────────────┼─────────────────────────────────────────────┼───────────┼──────────┤\n",
       "│<span style=\"color: #7f7f7f; text-decoration-color: #7f7f7f\"> You are a teenager (13-19 years old).      </span>│<span style=\"color: #7f7f7f; text-decoration-color: #7f7f7f\"> You are participating in a focus group of   </span>│<span style=\"color: #7f7f7f; text-decoration-color: #7f7f7f\"> 4         </span>│<span style=\"color: #7f7f7f; text-decoration-color: #7f7f7f\"> 3        </span>│\n",
       "│<span style=\"color: #7f7f7f; text-decoration-color: #7f7f7f\">                                            </span>│<span style=\"color: #7f7f7f; text-decoration-color: #7f7f7f\"> people of all ages and backgrounds.         </span>│<span style=\"color: #7f7f7f; text-decoration-color: #7f7f7f\">           </span>│<span style=\"color: #7f7f7f; text-decoration-color: #7f7f7f\">          </span>│\n",
       "├────────────────────────────────────────────┼─────────────────────────────────────────────┼───────────┼──────────┤\n",
       "│<span style=\"color: #7f7f7f; text-decoration-color: #7f7f7f\"> You are college age (20-24 years old).     </span>│<span style=\"color: #7f7f7f; text-decoration-color: #7f7f7f\">                                             </span>│<span style=\"color: #7f7f7f; text-decoration-color: #7f7f7f\"> 3         </span>│<span style=\"color: #7f7f7f; text-decoration-color: #7f7f7f\"> 3        </span>│\n",
       "├────────────────────────────────────────────┼─────────────────────────────────────────────┼───────────┼──────────┤\n",
       "│<span style=\"color: #7f7f7f; text-decoration-color: #7f7f7f\"> You are college age (20-24 years old).     </span>│<span style=\"color: #7f7f7f; text-decoration-color: #7f7f7f\"> You are answering an online survey.         </span>│<span style=\"color: #7f7f7f; text-decoration-color: #7f7f7f\"> 3         </span>│<span style=\"color: #7f7f7f; text-decoration-color: #7f7f7f\"> 2        </span>│\n",
       "├────────────────────────────────────────────┼─────────────────────────────────────────────┼───────────┼──────────┤\n",
       "│<span style=\"color: #7f7f7f; text-decoration-color: #7f7f7f\"> You are college age (20-24 years old).     </span>│<span style=\"color: #7f7f7f; text-decoration-color: #7f7f7f\"> You are being interviewed by a researcher.  </span>│<span style=\"color: #7f7f7f; text-decoration-color: #7f7f7f\"> 3         </span>│<span style=\"color: #7f7f7f; text-decoration-color: #7f7f7f\"> 3        </span>│\n",
       "├────────────────────────────────────────────┼─────────────────────────────────────────────┼───────────┼──────────┤\n",
       "│<span style=\"color: #7f7f7f; text-decoration-color: #7f7f7f\"> You are college age (20-24 years old).     </span>│<span style=\"color: #7f7f7f; text-decoration-color: #7f7f7f\"> You are participating in a focus group of   </span>│<span style=\"color: #7f7f7f; text-decoration-color: #7f7f7f\"> 3         </span>│<span style=\"color: #7f7f7f; text-decoration-color: #7f7f7f\"> 3        </span>│\n",
       "│<span style=\"color: #7f7f7f; text-decoration-color: #7f7f7f\">                                            </span>│<span style=\"color: #7f7f7f; text-decoration-color: #7f7f7f\"> peers.                                      </span>│<span style=\"color: #7f7f7f; text-decoration-color: #7f7f7f\">           </span>│<span style=\"color: #7f7f7f; text-decoration-color: #7f7f7f\">          </span>│\n",
       "├────────────────────────────────────────────┼─────────────────────────────────────────────┼───────────┼──────────┤\n",
       "│<span style=\"color: #7f7f7f; text-decoration-color: #7f7f7f\"> You are college age (20-24 years old).     </span>│<span style=\"color: #7f7f7f; text-decoration-color: #7f7f7f\"> You are participating in a focus group of   </span>│<span style=\"color: #7f7f7f; text-decoration-color: #7f7f7f\"> 3         </span>│<span style=\"color: #7f7f7f; text-decoration-color: #7f7f7f\"> 3        </span>│\n",
       "│<span style=\"color: #7f7f7f; text-decoration-color: #7f7f7f\">                                            </span>│<span style=\"color: #7f7f7f; text-decoration-color: #7f7f7f\"> people of all ages and backgrounds.         </span>│<span style=\"color: #7f7f7f; text-decoration-color: #7f7f7f\">           </span>│<span style=\"color: #7f7f7f; text-decoration-color: #7f7f7f\">          </span>│\n",
       "├────────────────────────────────────────────┼─────────────────────────────────────────────┼───────────┼──────────┤\n",
       "│<span style=\"color: #7f7f7f; text-decoration-color: #7f7f7f\"> You are a young adult (25-39 years old).   </span>│<span style=\"color: #7f7f7f; text-decoration-color: #7f7f7f\">                                             </span>│<span style=\"color: #7f7f7f; text-decoration-color: #7f7f7f\"> 4         </span>│<span style=\"color: #7f7f7f; text-decoration-color: #7f7f7f\"> 2        </span>│\n",
       "├────────────────────────────────────────────┼─────────────────────────────────────────────┼───────────┼──────────┤\n",
       "│<span style=\"color: #7f7f7f; text-decoration-color: #7f7f7f\"> You are a young adult (25-39 years old).   </span>│<span style=\"color: #7f7f7f; text-decoration-color: #7f7f7f\"> You are answering an online survey.         </span>│<span style=\"color: #7f7f7f; text-decoration-color: #7f7f7f\"> 3         </span>│<span style=\"color: #7f7f7f; text-decoration-color: #7f7f7f\"> 3        </span>│\n",
       "├────────────────────────────────────────────┼─────────────────────────────────────────────┼───────────┼──────────┤\n",
       "│<span style=\"color: #7f7f7f; text-decoration-color: #7f7f7f\"> You are a young adult (25-39 years old).   </span>│<span style=\"color: #7f7f7f; text-decoration-color: #7f7f7f\"> You are being interviewed by a researcher.  </span>│<span style=\"color: #7f7f7f; text-decoration-color: #7f7f7f\"> 3         </span>│<span style=\"color: #7f7f7f; text-decoration-color: #7f7f7f\"> 2        </span>│\n",
       "├────────────────────────────────────────────┼─────────────────────────────────────────────┼───────────┼──────────┤\n",
       "│<span style=\"color: #7f7f7f; text-decoration-color: #7f7f7f\"> You are a young adult (25-39 years old).   </span>│<span style=\"color: #7f7f7f; text-decoration-color: #7f7f7f\"> You are participating in a focus group of   </span>│<span style=\"color: #7f7f7f; text-decoration-color: #7f7f7f\"> 3         </span>│<span style=\"color: #7f7f7f; text-decoration-color: #7f7f7f\"> 2        </span>│\n",
       "│<span style=\"color: #7f7f7f; text-decoration-color: #7f7f7f\">                                            </span>│<span style=\"color: #7f7f7f; text-decoration-color: #7f7f7f\"> peers.                                      </span>│<span style=\"color: #7f7f7f; text-decoration-color: #7f7f7f\">           </span>│<span style=\"color: #7f7f7f; text-decoration-color: #7f7f7f\">          </span>│\n",
       "├────────────────────────────────────────────┼─────────────────────────────────────────────┼───────────┼──────────┤\n",
       "│<span style=\"color: #7f7f7f; text-decoration-color: #7f7f7f\"> You are a young adult (25-39 years old).   </span>│<span style=\"color: #7f7f7f; text-decoration-color: #7f7f7f\"> You are participating in a focus group of   </span>│<span style=\"color: #7f7f7f; text-decoration-color: #7f7f7f\"> 3         </span>│<span style=\"color: #7f7f7f; text-decoration-color: #7f7f7f\"> 2        </span>│\n",
       "│<span style=\"color: #7f7f7f; text-decoration-color: #7f7f7f\">                                            </span>│<span style=\"color: #7f7f7f; text-decoration-color: #7f7f7f\"> people of all ages and backgrounds.         </span>│<span style=\"color: #7f7f7f; text-decoration-color: #7f7f7f\">           </span>│<span style=\"color: #7f7f7f; text-decoration-color: #7f7f7f\">          </span>│\n",
       "├────────────────────────────────────────────┼─────────────────────────────────────────────┼───────────┼──────────┤\n",
       "│<span style=\"color: #7f7f7f; text-decoration-color: #7f7f7f\"> You are middle-aged (40-59 years old).     </span>│<span style=\"color: #7f7f7f; text-decoration-color: #7f7f7f\">                                             </span>│<span style=\"color: #7f7f7f; text-decoration-color: #7f7f7f\"> 3         </span>│<span style=\"color: #7f7f7f; text-decoration-color: #7f7f7f\"> 2        </span>│\n",
       "├────────────────────────────────────────────┼─────────────────────────────────────────────┼───────────┼──────────┤\n",
       "│<span style=\"color: #7f7f7f; text-decoration-color: #7f7f7f\"> You are middle-aged (40-59 years old).     </span>│<span style=\"color: #7f7f7f; text-decoration-color: #7f7f7f\"> You are answering an online survey.         </span>│<span style=\"color: #7f7f7f; text-decoration-color: #7f7f7f\"> 3         </span>│<span style=\"color: #7f7f7f; text-decoration-color: #7f7f7f\"> 2        </span>│\n",
       "├────────────────────────────────────────────┼─────────────────────────────────────────────┼───────────┼──────────┤\n",
       "│<span style=\"color: #7f7f7f; text-decoration-color: #7f7f7f\"> You are middle-aged (40-59 years old).     </span>│<span style=\"color: #7f7f7f; text-decoration-color: #7f7f7f\"> You are being interviewed by a researcher.  </span>│<span style=\"color: #7f7f7f; text-decoration-color: #7f7f7f\"> 3         </span>│<span style=\"color: #7f7f7f; text-decoration-color: #7f7f7f\"> 2        </span>│\n",
       "├────────────────────────────────────────────┼─────────────────────────────────────────────┼───────────┼──────────┤\n",
       "│<span style=\"color: #7f7f7f; text-decoration-color: #7f7f7f\"> You are middle-aged (40-59 years old).     </span>│<span style=\"color: #7f7f7f; text-decoration-color: #7f7f7f\"> You are participating in a focus group of   </span>│<span style=\"color: #7f7f7f; text-decoration-color: #7f7f7f\"> 3         </span>│<span style=\"color: #7f7f7f; text-decoration-color: #7f7f7f\"> 2        </span>│\n",
       "│<span style=\"color: #7f7f7f; text-decoration-color: #7f7f7f\">                                            </span>│<span style=\"color: #7f7f7f; text-decoration-color: #7f7f7f\"> peers.                                      </span>│<span style=\"color: #7f7f7f; text-decoration-color: #7f7f7f\">           </span>│<span style=\"color: #7f7f7f; text-decoration-color: #7f7f7f\">          </span>│\n",
       "├────────────────────────────────────────────┼─────────────────────────────────────────────┼───────────┼──────────┤\n",
       "│<span style=\"color: #7f7f7f; text-decoration-color: #7f7f7f\"> You are middle-aged (40-59 years old).     </span>│<span style=\"color: #7f7f7f; text-decoration-color: #7f7f7f\"> You are participating in a focus group of   </span>│<span style=\"color: #7f7f7f; text-decoration-color: #7f7f7f\"> 3         </span>│<span style=\"color: #7f7f7f; text-decoration-color: #7f7f7f\"> 2        </span>│\n",
       "│<span style=\"color: #7f7f7f; text-decoration-color: #7f7f7f\">                                            </span>│<span style=\"color: #7f7f7f; text-decoration-color: #7f7f7f\"> people of all ages and backgrounds.         </span>│<span style=\"color: #7f7f7f; text-decoration-color: #7f7f7f\">           </span>│<span style=\"color: #7f7f7f; text-decoration-color: #7f7f7f\">          </span>│\n",
       "├────────────────────────────────────────────┼─────────────────────────────────────────────┼───────────┼──────────┤\n",
       "│<span style=\"color: #7f7f7f; text-decoration-color: #7f7f7f\"> You are a senior citizen (60 or more years </span>│<span style=\"color: #7f7f7f; text-decoration-color: #7f7f7f\">                                             </span>│<span style=\"color: #7f7f7f; text-decoration-color: #7f7f7f\"> 3         </span>│<span style=\"color: #7f7f7f; text-decoration-color: #7f7f7f\"> 1        </span>│\n",
       "│<span style=\"color: #7f7f7f; text-decoration-color: #7f7f7f\"> old).                                      </span>│<span style=\"color: #7f7f7f; text-decoration-color: #7f7f7f\">                                             </span>│<span style=\"color: #7f7f7f; text-decoration-color: #7f7f7f\">           </span>│<span style=\"color: #7f7f7f; text-decoration-color: #7f7f7f\">          </span>│\n",
       "├────────────────────────────────────────────┼─────────────────────────────────────────────┼───────────┼──────────┤\n",
       "│<span style=\"color: #7f7f7f; text-decoration-color: #7f7f7f\"> You are a senior citizen (60 or more years </span>│<span style=\"color: #7f7f7f; text-decoration-color: #7f7f7f\"> You are answering an online survey.         </span>│<span style=\"color: #7f7f7f; text-decoration-color: #7f7f7f\"> 3         </span>│<span style=\"color: #7f7f7f; text-decoration-color: #7f7f7f\"> 2        </span>│\n",
       "│<span style=\"color: #7f7f7f; text-decoration-color: #7f7f7f\"> old).                                      </span>│<span style=\"color: #7f7f7f; text-decoration-color: #7f7f7f\">                                             </span>│<span style=\"color: #7f7f7f; text-decoration-color: #7f7f7f\">           </span>│<span style=\"color: #7f7f7f; text-decoration-color: #7f7f7f\">          </span>│\n",
       "├────────────────────────────────────────────┼─────────────────────────────────────────────┼───────────┼──────────┤\n",
       "│<span style=\"color: #7f7f7f; text-decoration-color: #7f7f7f\"> You are a senior citizen (60 or more years </span>│<span style=\"color: #7f7f7f; text-decoration-color: #7f7f7f\"> You are being interviewed by a researcher.  </span>│<span style=\"color: #7f7f7f; text-decoration-color: #7f7f7f\"> 3         </span>│<span style=\"color: #7f7f7f; text-decoration-color: #7f7f7f\"> 2        </span>│\n",
       "│<span style=\"color: #7f7f7f; text-decoration-color: #7f7f7f\"> old).                                      </span>│<span style=\"color: #7f7f7f; text-decoration-color: #7f7f7f\">                                             </span>│<span style=\"color: #7f7f7f; text-decoration-color: #7f7f7f\">           </span>│<span style=\"color: #7f7f7f; text-decoration-color: #7f7f7f\">          </span>│\n",
       "├────────────────────────────────────────────┼─────────────────────────────────────────────┼───────────┼──────────┤\n",
       "│<span style=\"color: #7f7f7f; text-decoration-color: #7f7f7f\"> You are a senior citizen (60 or more years </span>│<span style=\"color: #7f7f7f; text-decoration-color: #7f7f7f\"> You are participating in a focus group of   </span>│<span style=\"color: #7f7f7f; text-decoration-color: #7f7f7f\"> 3         </span>│<span style=\"color: #7f7f7f; text-decoration-color: #7f7f7f\"> 2        </span>│\n",
       "│<span style=\"color: #7f7f7f; text-decoration-color: #7f7f7f\"> old).                                      </span>│<span style=\"color: #7f7f7f; text-decoration-color: #7f7f7f\"> peers.                                      </span>│<span style=\"color: #7f7f7f; text-decoration-color: #7f7f7f\">           </span>│<span style=\"color: #7f7f7f; text-decoration-color: #7f7f7f\">          </span>│\n",
       "├────────────────────────────────────────────┼─────────────────────────────────────────────┼───────────┼──────────┤\n",
       "│<span style=\"color: #7f7f7f; text-decoration-color: #7f7f7f\"> You are a senior citizen (60 or more years </span>│<span style=\"color: #7f7f7f; text-decoration-color: #7f7f7f\"> You are participating in a focus group of   </span>│<span style=\"color: #7f7f7f; text-decoration-color: #7f7f7f\"> 3         </span>│<span style=\"color: #7f7f7f; text-decoration-color: #7f7f7f\"> 3        </span>│\n",
       "│<span style=\"color: #7f7f7f; text-decoration-color: #7f7f7f\"> old).                                      </span>│<span style=\"color: #7f7f7f; text-decoration-color: #7f7f7f\"> people of all ages and backgrounds.         </span>│<span style=\"color: #7f7f7f; text-decoration-color: #7f7f7f\">           </span>│<span style=\"color: #7f7f7f; text-decoration-color: #7f7f7f\">          </span>│\n",
       "└────────────────────────────────────────────┴─────────────────────────────────────────────┴───────────┴──────────┘\n",
       "</pre>\n"
      ],
      "text/plain": [
       "┏━━━━━━━━━━━━━━━━━━━━━━━━━━━━━━━━━━━━━━━━━━━━┳━━━━━━━━━━━━━━━━━━━━━━━━━━━━━━━━━━━━━━━━━━━━━┳━━━━━━━━━━━┳━━━━━━━━━━┓\n",
       "┃\u001b[1;35m \u001b[0m\u001b[1;35magent                                     \u001b[0m\u001b[1;35m \u001b[0m┃\u001b[1;35m \u001b[0m\u001b[1;35mscenario                                   \u001b[0m\u001b[1;35m \u001b[0m┃\u001b[1;35m \u001b[0m\u001b[1;35manswer   \u001b[0m\u001b[1;35m \u001b[0m┃\u001b[1;35m \u001b[0m\u001b[1;35manswer  \u001b[0m\u001b[1;35m \u001b[0m┃\n",
       "┃\u001b[1;35m \u001b[0m\u001b[1;35m.age                                      \u001b[0m\u001b[1;35m \u001b[0m┃\u001b[1;35m \u001b[0m\u001b[1;35m.context                                   \u001b[0m\u001b[1;35m \u001b[0m┃\u001b[1;35m \u001b[0m\u001b[1;35m.exercise\u001b[0m\u001b[1;35m \u001b[0m┃\u001b[1;35m \u001b[0m\u001b[1;35m.dessert\u001b[0m\u001b[1;35m \u001b[0m┃\n",
       "┡━━━━━━━━━━━━━━━━━━━━━━━━━━━━━━━━━━━━━━━━━━━━╇━━━━━━━━━━━━━━━━━━━━━━━━━━━━━━━━━━━━━━━━━━━━━╇━━━━━━━━━━━╇━━━━━━━━━━┩\n",
       "│\u001b[2m \u001b[0m\u001b[2mYou are a teenager (13-19 years old).     \u001b[0m\u001b[2m \u001b[0m│\u001b[2m \u001b[0m\u001b[2m                                           \u001b[0m\u001b[2m \u001b[0m│\u001b[2m \u001b[0m\u001b[2m4        \u001b[0m\u001b[2m \u001b[0m│\u001b[2m \u001b[0m\u001b[2m3       \u001b[0m\u001b[2m \u001b[0m│\n",
       "├────────────────────────────────────────────┼─────────────────────────────────────────────┼───────────┼──────────┤\n",
       "│\u001b[2m \u001b[0m\u001b[2mYou are a teenager (13-19 years old).     \u001b[0m\u001b[2m \u001b[0m│\u001b[2m \u001b[0m\u001b[2mYou are answering an online survey.        \u001b[0m\u001b[2m \u001b[0m│\u001b[2m \u001b[0m\u001b[2m3        \u001b[0m\u001b[2m \u001b[0m│\u001b[2m \u001b[0m\u001b[2m3       \u001b[0m\u001b[2m \u001b[0m│\n",
       "├────────────────────────────────────────────┼─────────────────────────────────────────────┼───────────┼──────────┤\n",
       "│\u001b[2m \u001b[0m\u001b[2mYou are a teenager (13-19 years old).     \u001b[0m\u001b[2m \u001b[0m│\u001b[2m \u001b[0m\u001b[2mYou are being interviewed by a researcher. \u001b[0m\u001b[2m \u001b[0m│\u001b[2m \u001b[0m\u001b[2m3        \u001b[0m\u001b[2m \u001b[0m│\u001b[2m \u001b[0m\u001b[2m3       \u001b[0m\u001b[2m \u001b[0m│\n",
       "├────────────────────────────────────────────┼─────────────────────────────────────────────┼───────────┼──────────┤\n",
       "│\u001b[2m \u001b[0m\u001b[2mYou are a teenager (13-19 years old).     \u001b[0m\u001b[2m \u001b[0m│\u001b[2m \u001b[0m\u001b[2mYou are participating in a focus group of  \u001b[0m\u001b[2m \u001b[0m│\u001b[2m \u001b[0m\u001b[2m3        \u001b[0m\u001b[2m \u001b[0m│\u001b[2m \u001b[0m\u001b[2m3       \u001b[0m\u001b[2m \u001b[0m│\n",
       "│\u001b[2m                                            \u001b[0m│\u001b[2m \u001b[0m\u001b[2mpeers.                                     \u001b[0m\u001b[2m \u001b[0m│\u001b[2m           \u001b[0m│\u001b[2m          \u001b[0m│\n",
       "├────────────────────────────────────────────┼─────────────────────────────────────────────┼───────────┼──────────┤\n",
       "│\u001b[2m \u001b[0m\u001b[2mYou are a teenager (13-19 years old).     \u001b[0m\u001b[2m \u001b[0m│\u001b[2m \u001b[0m\u001b[2mYou are participating in a focus group of  \u001b[0m\u001b[2m \u001b[0m│\u001b[2m \u001b[0m\u001b[2m4        \u001b[0m\u001b[2m \u001b[0m│\u001b[2m \u001b[0m\u001b[2m3       \u001b[0m\u001b[2m \u001b[0m│\n",
       "│\u001b[2m                                            \u001b[0m│\u001b[2m \u001b[0m\u001b[2mpeople of all ages and backgrounds.        \u001b[0m\u001b[2m \u001b[0m│\u001b[2m           \u001b[0m│\u001b[2m          \u001b[0m│\n",
       "├────────────────────────────────────────────┼─────────────────────────────────────────────┼───────────┼──────────┤\n",
       "│\u001b[2m \u001b[0m\u001b[2mYou are college age (20-24 years old).    \u001b[0m\u001b[2m \u001b[0m│\u001b[2m \u001b[0m\u001b[2m                                           \u001b[0m\u001b[2m \u001b[0m│\u001b[2m \u001b[0m\u001b[2m3        \u001b[0m\u001b[2m \u001b[0m│\u001b[2m \u001b[0m\u001b[2m3       \u001b[0m\u001b[2m \u001b[0m│\n",
       "├────────────────────────────────────────────┼─────────────────────────────────────────────┼───────────┼──────────┤\n",
       "│\u001b[2m \u001b[0m\u001b[2mYou are college age (20-24 years old).    \u001b[0m\u001b[2m \u001b[0m│\u001b[2m \u001b[0m\u001b[2mYou are answering an online survey.        \u001b[0m\u001b[2m \u001b[0m│\u001b[2m \u001b[0m\u001b[2m3        \u001b[0m\u001b[2m \u001b[0m│\u001b[2m \u001b[0m\u001b[2m2       \u001b[0m\u001b[2m \u001b[0m│\n",
       "├────────────────────────────────────────────┼─────────────────────────────────────────────┼───────────┼──────────┤\n",
       "│\u001b[2m \u001b[0m\u001b[2mYou are college age (20-24 years old).    \u001b[0m\u001b[2m \u001b[0m│\u001b[2m \u001b[0m\u001b[2mYou are being interviewed by a researcher. \u001b[0m\u001b[2m \u001b[0m│\u001b[2m \u001b[0m\u001b[2m3        \u001b[0m\u001b[2m \u001b[0m│\u001b[2m \u001b[0m\u001b[2m3       \u001b[0m\u001b[2m \u001b[0m│\n",
       "├────────────────────────────────────────────┼─────────────────────────────────────────────┼───────────┼──────────┤\n",
       "│\u001b[2m \u001b[0m\u001b[2mYou are college age (20-24 years old).    \u001b[0m\u001b[2m \u001b[0m│\u001b[2m \u001b[0m\u001b[2mYou are participating in a focus group of  \u001b[0m\u001b[2m \u001b[0m│\u001b[2m \u001b[0m\u001b[2m3        \u001b[0m\u001b[2m \u001b[0m│\u001b[2m \u001b[0m\u001b[2m3       \u001b[0m\u001b[2m \u001b[0m│\n",
       "│\u001b[2m                                            \u001b[0m│\u001b[2m \u001b[0m\u001b[2mpeers.                                     \u001b[0m\u001b[2m \u001b[0m│\u001b[2m           \u001b[0m│\u001b[2m          \u001b[0m│\n",
       "├────────────────────────────────────────────┼─────────────────────────────────────────────┼───────────┼──────────┤\n",
       "│\u001b[2m \u001b[0m\u001b[2mYou are college age (20-24 years old).    \u001b[0m\u001b[2m \u001b[0m│\u001b[2m \u001b[0m\u001b[2mYou are participating in a focus group of  \u001b[0m\u001b[2m \u001b[0m│\u001b[2m \u001b[0m\u001b[2m3        \u001b[0m\u001b[2m \u001b[0m│\u001b[2m \u001b[0m\u001b[2m3       \u001b[0m\u001b[2m \u001b[0m│\n",
       "│\u001b[2m                                            \u001b[0m│\u001b[2m \u001b[0m\u001b[2mpeople of all ages and backgrounds.        \u001b[0m\u001b[2m \u001b[0m│\u001b[2m           \u001b[0m│\u001b[2m          \u001b[0m│\n",
       "├────────────────────────────────────────────┼─────────────────────────────────────────────┼───────────┼──────────┤\n",
       "│\u001b[2m \u001b[0m\u001b[2mYou are a young adult (25-39 years old).  \u001b[0m\u001b[2m \u001b[0m│\u001b[2m \u001b[0m\u001b[2m                                           \u001b[0m\u001b[2m \u001b[0m│\u001b[2m \u001b[0m\u001b[2m4        \u001b[0m\u001b[2m \u001b[0m│\u001b[2m \u001b[0m\u001b[2m2       \u001b[0m\u001b[2m \u001b[0m│\n",
       "├────────────────────────────────────────────┼─────────────────────────────────────────────┼───────────┼──────────┤\n",
       "│\u001b[2m \u001b[0m\u001b[2mYou are a young adult (25-39 years old).  \u001b[0m\u001b[2m \u001b[0m│\u001b[2m \u001b[0m\u001b[2mYou are answering an online survey.        \u001b[0m\u001b[2m \u001b[0m│\u001b[2m \u001b[0m\u001b[2m3        \u001b[0m\u001b[2m \u001b[0m│\u001b[2m \u001b[0m\u001b[2m3       \u001b[0m\u001b[2m \u001b[0m│\n",
       "├────────────────────────────────────────────┼─────────────────────────────────────────────┼───────────┼──────────┤\n",
       "│\u001b[2m \u001b[0m\u001b[2mYou are a young adult (25-39 years old).  \u001b[0m\u001b[2m \u001b[0m│\u001b[2m \u001b[0m\u001b[2mYou are being interviewed by a researcher. \u001b[0m\u001b[2m \u001b[0m│\u001b[2m \u001b[0m\u001b[2m3        \u001b[0m\u001b[2m \u001b[0m│\u001b[2m \u001b[0m\u001b[2m2       \u001b[0m\u001b[2m \u001b[0m│\n",
       "├────────────────────────────────────────────┼─────────────────────────────────────────────┼───────────┼──────────┤\n",
       "│\u001b[2m \u001b[0m\u001b[2mYou are a young adult (25-39 years old).  \u001b[0m\u001b[2m \u001b[0m│\u001b[2m \u001b[0m\u001b[2mYou are participating in a focus group of  \u001b[0m\u001b[2m \u001b[0m│\u001b[2m \u001b[0m\u001b[2m3        \u001b[0m\u001b[2m \u001b[0m│\u001b[2m \u001b[0m\u001b[2m2       \u001b[0m\u001b[2m \u001b[0m│\n",
       "│\u001b[2m                                            \u001b[0m│\u001b[2m \u001b[0m\u001b[2mpeers.                                     \u001b[0m\u001b[2m \u001b[0m│\u001b[2m           \u001b[0m│\u001b[2m          \u001b[0m│\n",
       "├────────────────────────────────────────────┼─────────────────────────────────────────────┼───────────┼──────────┤\n",
       "│\u001b[2m \u001b[0m\u001b[2mYou are a young adult (25-39 years old).  \u001b[0m\u001b[2m \u001b[0m│\u001b[2m \u001b[0m\u001b[2mYou are participating in a focus group of  \u001b[0m\u001b[2m \u001b[0m│\u001b[2m \u001b[0m\u001b[2m3        \u001b[0m\u001b[2m \u001b[0m│\u001b[2m \u001b[0m\u001b[2m2       \u001b[0m\u001b[2m \u001b[0m│\n",
       "│\u001b[2m                                            \u001b[0m│\u001b[2m \u001b[0m\u001b[2mpeople of all ages and backgrounds.        \u001b[0m\u001b[2m \u001b[0m│\u001b[2m           \u001b[0m│\u001b[2m          \u001b[0m│\n",
       "├────────────────────────────────────────────┼─────────────────────────────────────────────┼───────────┼──────────┤\n",
       "│\u001b[2m \u001b[0m\u001b[2mYou are middle-aged (40-59 years old).    \u001b[0m\u001b[2m \u001b[0m│\u001b[2m \u001b[0m\u001b[2m                                           \u001b[0m\u001b[2m \u001b[0m│\u001b[2m \u001b[0m\u001b[2m3        \u001b[0m\u001b[2m \u001b[0m│\u001b[2m \u001b[0m\u001b[2m2       \u001b[0m\u001b[2m \u001b[0m│\n",
       "├────────────────────────────────────────────┼─────────────────────────────────────────────┼───────────┼──────────┤\n",
       "│\u001b[2m \u001b[0m\u001b[2mYou are middle-aged (40-59 years old).    \u001b[0m\u001b[2m \u001b[0m│\u001b[2m \u001b[0m\u001b[2mYou are answering an online survey.        \u001b[0m\u001b[2m \u001b[0m│\u001b[2m \u001b[0m\u001b[2m3        \u001b[0m\u001b[2m \u001b[0m│\u001b[2m \u001b[0m\u001b[2m2       \u001b[0m\u001b[2m \u001b[0m│\n",
       "├────────────────────────────────────────────┼─────────────────────────────────────────────┼───────────┼──────────┤\n",
       "│\u001b[2m \u001b[0m\u001b[2mYou are middle-aged (40-59 years old).    \u001b[0m\u001b[2m \u001b[0m│\u001b[2m \u001b[0m\u001b[2mYou are being interviewed by a researcher. \u001b[0m\u001b[2m \u001b[0m│\u001b[2m \u001b[0m\u001b[2m3        \u001b[0m\u001b[2m \u001b[0m│\u001b[2m \u001b[0m\u001b[2m2       \u001b[0m\u001b[2m \u001b[0m│\n",
       "├────────────────────────────────────────────┼─────────────────────────────────────────────┼───────────┼──────────┤\n",
       "│\u001b[2m \u001b[0m\u001b[2mYou are middle-aged (40-59 years old).    \u001b[0m\u001b[2m \u001b[0m│\u001b[2m \u001b[0m\u001b[2mYou are participating in a focus group of  \u001b[0m\u001b[2m \u001b[0m│\u001b[2m \u001b[0m\u001b[2m3        \u001b[0m\u001b[2m \u001b[0m│\u001b[2m \u001b[0m\u001b[2m2       \u001b[0m\u001b[2m \u001b[0m│\n",
       "│\u001b[2m                                            \u001b[0m│\u001b[2m \u001b[0m\u001b[2mpeers.                                     \u001b[0m\u001b[2m \u001b[0m│\u001b[2m           \u001b[0m│\u001b[2m          \u001b[0m│\n",
       "├────────────────────────────────────────────┼─────────────────────────────────────────────┼───────────┼──────────┤\n",
       "│\u001b[2m \u001b[0m\u001b[2mYou are middle-aged (40-59 years old).    \u001b[0m\u001b[2m \u001b[0m│\u001b[2m \u001b[0m\u001b[2mYou are participating in a focus group of  \u001b[0m\u001b[2m \u001b[0m│\u001b[2m \u001b[0m\u001b[2m3        \u001b[0m\u001b[2m \u001b[0m│\u001b[2m \u001b[0m\u001b[2m2       \u001b[0m\u001b[2m \u001b[0m│\n",
       "│\u001b[2m                                            \u001b[0m│\u001b[2m \u001b[0m\u001b[2mpeople of all ages and backgrounds.        \u001b[0m\u001b[2m \u001b[0m│\u001b[2m           \u001b[0m│\u001b[2m          \u001b[0m│\n",
       "├────────────────────────────────────────────┼─────────────────────────────────────────────┼───────────┼──────────┤\n",
       "│\u001b[2m \u001b[0m\u001b[2mYou are a senior citizen (60 or more years\u001b[0m\u001b[2m \u001b[0m│\u001b[2m \u001b[0m\u001b[2m                                           \u001b[0m\u001b[2m \u001b[0m│\u001b[2m \u001b[0m\u001b[2m3        \u001b[0m\u001b[2m \u001b[0m│\u001b[2m \u001b[0m\u001b[2m1       \u001b[0m\u001b[2m \u001b[0m│\n",
       "│\u001b[2m \u001b[0m\u001b[2mold).                                     \u001b[0m\u001b[2m \u001b[0m│\u001b[2m                                             \u001b[0m│\u001b[2m           \u001b[0m│\u001b[2m          \u001b[0m│\n",
       "├────────────────────────────────────────────┼─────────────────────────────────────────────┼───────────┼──────────┤\n",
       "│\u001b[2m \u001b[0m\u001b[2mYou are a senior citizen (60 or more years\u001b[0m\u001b[2m \u001b[0m│\u001b[2m \u001b[0m\u001b[2mYou are answering an online survey.        \u001b[0m\u001b[2m \u001b[0m│\u001b[2m \u001b[0m\u001b[2m3        \u001b[0m\u001b[2m \u001b[0m│\u001b[2m \u001b[0m\u001b[2m2       \u001b[0m\u001b[2m \u001b[0m│\n",
       "│\u001b[2m \u001b[0m\u001b[2mold).                                     \u001b[0m\u001b[2m \u001b[0m│\u001b[2m                                             \u001b[0m│\u001b[2m           \u001b[0m│\u001b[2m          \u001b[0m│\n",
       "├────────────────────────────────────────────┼─────────────────────────────────────────────┼───────────┼──────────┤\n",
       "│\u001b[2m \u001b[0m\u001b[2mYou are a senior citizen (60 or more years\u001b[0m\u001b[2m \u001b[0m│\u001b[2m \u001b[0m\u001b[2mYou are being interviewed by a researcher. \u001b[0m\u001b[2m \u001b[0m│\u001b[2m \u001b[0m\u001b[2m3        \u001b[0m\u001b[2m \u001b[0m│\u001b[2m \u001b[0m\u001b[2m2       \u001b[0m\u001b[2m \u001b[0m│\n",
       "│\u001b[2m \u001b[0m\u001b[2mold).                                     \u001b[0m\u001b[2m \u001b[0m│\u001b[2m                                             \u001b[0m│\u001b[2m           \u001b[0m│\u001b[2m          \u001b[0m│\n",
       "├────────────────────────────────────────────┼─────────────────────────────────────────────┼───────────┼──────────┤\n",
       "│\u001b[2m \u001b[0m\u001b[2mYou are a senior citizen (60 or more years\u001b[0m\u001b[2m \u001b[0m│\u001b[2m \u001b[0m\u001b[2mYou are participating in a focus group of  \u001b[0m\u001b[2m \u001b[0m│\u001b[2m \u001b[0m\u001b[2m3        \u001b[0m\u001b[2m \u001b[0m│\u001b[2m \u001b[0m\u001b[2m2       \u001b[0m\u001b[2m \u001b[0m│\n",
       "│\u001b[2m \u001b[0m\u001b[2mold).                                     \u001b[0m\u001b[2m \u001b[0m│\u001b[2m \u001b[0m\u001b[2mpeers.                                     \u001b[0m\u001b[2m \u001b[0m│\u001b[2m           \u001b[0m│\u001b[2m          \u001b[0m│\n",
       "├────────────────────────────────────────────┼─────────────────────────────────────────────┼───────────┼──────────┤\n",
       "│\u001b[2m \u001b[0m\u001b[2mYou are a senior citizen (60 or more years\u001b[0m\u001b[2m \u001b[0m│\u001b[2m \u001b[0m\u001b[2mYou are participating in a focus group of  \u001b[0m\u001b[2m \u001b[0m│\u001b[2m \u001b[0m\u001b[2m3        \u001b[0m\u001b[2m \u001b[0m│\u001b[2m \u001b[0m\u001b[2m3       \u001b[0m\u001b[2m \u001b[0m│\n",
       "│\u001b[2m \u001b[0m\u001b[2mold).                                     \u001b[0m\u001b[2m \u001b[0m│\u001b[2m \u001b[0m\u001b[2mpeople of all ages and backgrounds.        \u001b[0m\u001b[2m \u001b[0m│\u001b[2m           \u001b[0m│\u001b[2m          \u001b[0m│\n",
       "└────────────────────────────────────────────┴─────────────────────────────────────────────┴───────────┴──────────┘\n"
      ]
     },
     "metadata": {},
     "output_type": "display_data"
    }
   ],
   "source": [
    "results.select(\"age\", \"context\", \"exercise\", \"dessert\").print()"
   ]
  },
  {
   "cell_type": "markdown",
   "id": "3ead120f-ac33-4eb6-8ce9-4ad9ac4dbe12",
   "metadata": {},
   "source": [
    "<br>"
   ]
  },
  {
   "cell_type": "markdown",
   "id": "94b5a13c-d82e-40fe-9e8a-a759d2b675df",
   "metadata": {},
   "source": [
    "# Compare prompts\n",
    "We can compare the prompts that we used which are accessible via the database that is created."
   ]
  },
  {
   "cell_type": "code",
   "execution_count": 16,
   "id": "9934e382-eaf0-4700-8c9f-0d42e0b2e184",
   "metadata": {},
   "outputs": [],
   "source": [
    "# from edsl import CONFIG\n",
    "# CONFIG.EDSL_DATABASE_PATH\n",
    "# \n",
    "# $ sqlite database.db\n",
    "# > select system_prompt, prompt from responses;"
   ]
  },
  {
   "cell_type": "markdown",
   "id": "65a345f7-f33b-460f-a7cd-bf6ac24a5179",
   "metadata": {},
   "source": [
    "<br>"
   ]
  },
  {
   "cell_type": "markdown",
   "id": "7afad0a9-0fb1-46ad-bc6a-e9e0be1dced2",
   "metadata": {},
   "source": [
    "The prompt where we put both agent traits and survey context in the question texts:"
   ]
  },
  {
   "cell_type": "markdown",
   "id": "cfce2b40-b525-46a3-bf55-3488acda2b88",
   "metadata": {},
   "source": [
    "<blockquote>\n",
    "You are answering questions as if you were a human. Do not break character. \n",
    "<b>Your traits are: {}.<br><br>\n",
    "You are being asked the following question: How many times do you eat dessert each week? (You are a young adult (25-39 years old). You are participating in a focus group of peers.)</b>\n",
    "The options are \n",
    "0: 0\n",
    "1: 1\n",
    "2: 2\n",
    "3: 3\n",
    "4: 4\n",
    "5: 5\n",
    "6: 6\n",
    "7: 7               \n",
    "Return a valid JSON formatted like this, selecting only the number of the option: \n",
    "{\"answer\": <put answer code here>, \"comment\": \"<put explanation here>\"}\n",
    "</blockquote>"
   ]
  },
  {
   "cell_type": "markdown",
   "id": "68801cd6-e3ec-4dea-a6ec-0c560730dc2d",
   "metadata": {},
   "source": [
    "<br>"
   ]
  },
  {
   "cell_type": "markdown",
   "id": "22655a93-7cca-4926-8119-e2c607f5f020",
   "metadata": {},
   "source": [
    "The prompt where we put context in the agent traits:"
   ]
  },
  {
   "cell_type": "markdown",
   "id": "09fc2b9c-7dc1-4646-bf09-0d7385a36d81",
   "metadata": {},
   "source": [
    "<blockquote>\n",
    "You are answering questions as if you were a human. Do not break character. \n",
    "<b>Your traits are: {'age': 'You are a young adult (25-39 years old).', 'survey_type': 'You are participating in a focus group of peers.'}.<br><br>\n",
    "You are being asked the following question:  How many times do you eat dessert each week?</b>\n",
    "The options are \n",
    "0: 0\n",
    "1: 1\n",
    "2: 2\n",
    "3: 3\n",
    "4: 4\n",
    "5: 5\n",
    "6: 6\n",
    "7: 7            \n",
    "Return a valid JSON formatted like this, selecting only the number of the option: \n",
    "{\"answer\": <put answer code here>, \"comment\": \"<put explanation here>\"}\n",
    "</blockquote>"
   ]
  },
  {
   "cell_type": "markdown",
   "id": "985d4550-d8ca-458f-8c3a-5324f41db304",
   "metadata": {},
   "source": [
    "<br>"
   ]
  },
  {
   "cell_type": "markdown",
   "id": "6cd57144-220c-4ef9-800a-99def52118b3",
   "metadata": {},
   "source": [
    "The prompt where we used agent traits and put context only in the question texts:"
   ]
  },
  {
   "cell_type": "markdown",
   "id": "c4f0bf02-e72b-41fa-9058-32c0b500e5cc",
   "metadata": {},
   "source": [
    "<blockquote>\n",
    "You are answering questions as if you were a human. Do not break character. \n",
    "<b>Your traits are: {'age': 'You are a young adult (25-39 years old).'}.<br><br>\n",
    "You are being asked the following question:  How many times do you eat dessert each week? (You are participating in a focus group of peers.)</b>\n",
    "The options are \n",
    "0: 0\n",
    "1: 1\n",
    "2: 2\n",
    "3: 3\n",
    "4: 4\n",
    "5: 5\n",
    "6: 6\n",
    "7: 7            \n",
    "Return a valid JSON formatted like this, selecting only the number of the option: \n",
    "{\"answer\": <put answer code here>, \"comment\": \"<put explanation here>\"}\n",
    "</blockquote>"
   ]
  },
  {
   "cell_type": "markdown",
   "id": "75e2fb2b-2e8a-453a-9372-93e2754e7650",
   "metadata": {},
   "source": [
    "<br>"
   ]
  },
  {
   "cell_type": "markdown",
   "id": "7dffc56d-41e6-4d11-a086-3f84ff732f04",
   "metadata": {},
   "source": [
    "# Ideas for further investigation\n",
    "Consider\n",
    "<blockquote>\n",
    "    Seeding questions with prior reponses (see <a href=\"https://examples.goemeritus.com/example_survey/#Seeding-questions\">example</a>)<br>\n",
    "    Exploring answer comments with free text questions and more in-depth contexts and personas (see <a href=\"https://examples.goemeritus.com/example_agent/#Personas-&-traits\">examples</a>)<br>\n",
    "</blockquote>"
   ]
  },
  {
   "cell_type": "markdown",
   "id": "6e216a4b-c096-43a1-8805-7356343338ab",
   "metadata": {},
   "source": [
    "<br>"
   ]
  },
  {
   "cell_type": "markdown",
   "id": "c868b007-39c4-473f-931f-5ea0ad5a5450",
   "metadata": {},
   "source": [
    "---\n",
    "<h1 style=\"font-size: 14px;\">Copyright © 2023 Go Emeritus, Inc. All rights reserved.   <a href=\"www.goemeritus.com\" style=\"color:#130061\">www.goemeritus.com</a></h1>"
   ]
  }
 ],
 "metadata": {
  "kernelspec": {
   "display_name": "Python 3 (ipykernel)",
   "language": "python",
   "name": "python3"
  },
  "language_info": {
   "codemirror_mode": {
    "name": "ipython",
    "version": 3
   },
   "file_extension": ".py",
   "mimetype": "text/x-python",
   "name": "python",
   "nbconvert_exporter": "python",
   "pygments_lexer": "ipython3",
   "version": "3.11.7"
  }
 },
 "nbformat": 4,
 "nbformat_minor": 5
}
