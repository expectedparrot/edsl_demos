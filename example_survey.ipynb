{
 "cells": [
  {
   "cell_type": "markdown",
   "id": "a616b8e6-5f6e-4441-a16a-92e2340755ea",
   "metadata": {},
   "source": [
    "<link rel=\"stylesheet\" type=\"text/css\" href=\"custom.css\">"
   ]
  },
  {
   "cell_type": "markdown",
   "id": "c4c85dd4-d3a8-4177-88b3-a5141befd3d9",
   "metadata": {},
   "source": [
    "<!-- ![Emeritus](logo.png) -->\n",
    "<a href=\"www.goemeritus.com\"><img src=\"emeritus_ai.png\" alt=\"Emeritus\" style=\"height: 50px; \"></a>\n",
    "<br>"
   ]
  },
  {
   "cell_type": "markdown",
   "id": "c5735f9b-23b1-4c0a-a151-525210f3c74b",
   "metadata": {},
   "source": [
    "<br>"
   ]
  },
  {
   "cell_type": "markdown",
   "id": "083361c0-09fc-4e7e-bcc9-4226c1a9b536",
   "metadata": {},
   "source": [
    "# Example surveys\n",
    "This notebook contains code for creating variations of questions and combining them into surveys in `edsl`.\n",
    "\n",
    "<blockquote>\n",
    "<a href=\"#Question-scenarios\" style=\"color:#4e4089\">Question scenarios</a><br>\n",
    "<a href=\"#Combining-questions\" style=\"color:#4e4089\">Combining questions</a><br>\n",
    "<a href=\"#Seeding-questions\" style=\"color:#4e4089\">Seeding questions</a><br>\n",
    "<a href=\"#Survey-rules\" style=\"color:#4e4089\">Survey rules</a><br>\n",
    "<a href=\"#Show-prompts\" style=\"color:#4e4089\">Show prompts</a><br>\n",
    "<a href=\"#Survey-contexts-and-administration\" style=\"color:#4e4089\">Survey contexts and administration</a><br>\n",
    "</blockquote>\n",
    "\n",
    "<br>\n",
    "<button style=\"padding: 10px 20px; font-size: 18px; font-weight:bold; spacing: 5px; color: white; border: 3px solid white; background-color:#4e4089; cursor: pointer;\"><a href=\"https://www.goemeritus.com/getting-started\" target=\"_blank\" style=\"color: white; text-decoration:none\">Back to examples</a></button>\n",
    "<button style=\"padding: 10px 20px; font-size: 18px; font-weight:bold; spacing: 5px; color: white; border: 3px solid white; background-color:#bbb; cursor: pointer;\"><a href=\"https://forms.gle/mge8M7TNadWpcJ2VA\" target=\"_blank\" style=\"color: white; text-decoration:none\">Send feedback</a></button>"
   ]
  },
  {
   "cell_type": "markdown",
   "id": "e4e3e4d0-2f49-48d0-a766-85b42e8c2dd9",
   "metadata": {},
   "source": [
    "<br>"
   ]
  },
  {
   "cell_type": "code",
   "execution_count": 1,
   "id": "e5740518",
   "metadata": {},
   "outputs": [],
   "source": [
    "from edsl.questions import QuestionLinearScale, QuestionCheckBox, QuestionYesNo, QuestionMultipleChoice\n",
    "from edsl.surveys import Survey\n",
    "from edsl.scenarios import Scenario\n",
    "from edsl.questions import QuestionFunctional\n",
    "from edsl.questions.compose_questions import compose_questions"
   ]
  },
  {
   "cell_type": "markdown",
   "id": "f4dd2565-9f7d-4d87-a15b-cce3e3023847",
   "metadata": {},
   "source": [
    "# Question scenarios\n",
    "Many times we want to re-administer a question with a different parameter or input. We can do this by creating \"scenarios\" of a question:"
   ]
  },
  {
   "cell_type": "code",
   "execution_count": 2,
   "id": "68081c3a-c8e9-462b-ba8d-53b7cde5c277",
   "metadata": {},
   "outputs": [],
   "source": [
    "items = [\"groceries\", \"clothes\", \"shoes\", \"electronics\", \"home furnishings\", \"books\", \"sporting equipment\", \"wellness items\"]\n",
    "\n",
    "q_shopping = QuestionLinearScale(\n",
    "    question_name = \"q_shopping\",\n",
    "    question_text = \"On a scale of 0-10, how much do you typically enjoy shopping for {{item}}? (0 = Not at all, 10 = Very much)\",\n",
    "    question_options = [0,1,2,3,4,5,6,7,8,9,10]\n",
    ")\n",
    "\n",
    "scenarios = [Scenario({\"item\":item} )for item in items]"
   ]
  },
  {
   "cell_type": "code",
   "execution_count": 3,
   "id": "1a070660-187c-41b0-8616-e344f2fe3740",
   "metadata": {},
   "outputs": [
    {
     "data": {
      "text/plain": [
       "[{'item': 'groceries'},\n",
       " {'item': 'clothes'},\n",
       " {'item': 'shoes'},\n",
       " {'item': 'electronics'},\n",
       " {'item': 'home furnishings'},\n",
       " {'item': 'books'},\n",
       " {'item': 'sporting equipment'},\n",
       " {'item': 'wellness items'}]"
      ]
     },
     "execution_count": 3,
     "metadata": {},
     "output_type": "execute_result"
    }
   ],
   "source": [
    "scenarios"
   ]
  },
  {
   "cell_type": "markdown",
   "id": "cdd8913c-9298-4f70-8258-006dd458057b",
   "metadata": {},
   "source": [
    "<br>"
   ]
  },
  {
   "cell_type": "markdown",
   "id": "a093d88d-eda1-4f03-894c-7d4f38b1277f",
   "metadata": {},
   "source": [
    "We can use the `by()` method to create an instance of our question for each scenario parameter:"
   ]
  },
  {
   "cell_type": "code",
   "execution_count": 4,
   "id": "297cb7fe-2405-4ea0-993e-0a9ecc7fe5d9",
   "metadata": {},
   "outputs": [
    {
     "data": {
      "text/plain": [
       "Jobs(survey=Survey(questions=[QuestionLinearScale(question_name = 'q_shopping', short_names_dict = {}, question_text = 'On a scale of 0-10, how much do you typically enjoy shopping for {{item}}? (0 = Not at all, 10 = Very much)', question_options = [0, 1, 2, 3, 4, 5, 6, 7, 8, 9, 10], option_labels = None)], question_names=['q_shopping'], name = None), agents=None, models=None, scenarios=[{'item': 'groceries'}, {'item': 'clothes'}, {'item': 'shoes'}, {'item': 'electronics'}, {'item': 'home furnishings'}, {'item': 'books'}, {'item': 'sporting equipment'}, {'item': 'wellness items'}])"
      ]
     },
     "execution_count": 4,
     "metadata": {},
     "output_type": "execute_result"
    },
    {
     "data": {
      "text/plain": [
       "<Figure size 640x480 with 0 Axes>"
      ]
     },
     "metadata": {},
     "output_type": "display_data"
    }
   ],
   "source": [
    "q_shopping.by(scenarios)"
   ]
  },
  {
   "cell_type": "markdown",
   "id": "87f7fc6c-6a6f-45d5-b784-96f9fee3fa65",
   "metadata": {},
   "source": [
    "<br>"
   ]
  },
  {
   "cell_type": "markdown",
   "id": "10bde5c3-c70c-4840-9e7d-1e7101b44884",
   "metadata": {},
   "source": [
    "# Combining questions\n",
    "We can combine questions to administer them at once with the `add_question()` method:"
   ]
  },
  {
   "cell_type": "code",
   "execution_count": 5,
   "id": "791edcfe-2a2a-472b-b65b-efcf43d284b8",
   "metadata": {},
   "outputs": [
    {
     "data": {
      "text/html": [
       "<p><b>fit</b> (yes_no): Do you find it difficult to shop for clothes that fit you?</p>\n",
       "<ul>\n",
       "<li>Yes</li>\n",
       "<li>No</li>\n",
       "</ul>\n",
       "<p><b>online</b> (multiple_choice): How often do you shop for clothes online?</p>\n",
       "<ul>\n",
       "<li>Never</li>\n",
       "<li>Rarely</li>\n",
       "<li>Occasionally</li>\n",
       "<li>Often</li>\n",
       "</ul>"
      ],
      "text/plain": [
       "Survey(questions=[QuestionYesNo(question_name = 'fit', short_names_dict = {}, question_text = 'Do you find it difficult to shop for clothes that fit you?', question_options = ['Yes', 'No']), QuestionMultipleChoice(question_name = 'online', short_names_dict = {}, question_text = 'How often do you shop for clothes online?', question_options = ['Never', 'Rarely', 'Occasionally', 'Often'])], question_names=['fit', 'online'], name = None)"
      ]
     },
     "execution_count": 5,
     "metadata": {},
     "output_type": "execute_result"
    }
   ],
   "source": [
    "q1 = QuestionYesNo(\n",
    "    question_name = \"fit\",\n",
    "    question_text = \"Do you find it difficult to shop for clothes that fit you?\"\n",
    ") \n",
    "\n",
    "q2 = QuestionMultipleChoice(\n",
    "    question_name = \"online\",\n",
    "    question_text = \"How often do you shop for clothes online?\",\n",
    "    question_options = [\"Never\", \"Rarely\", \"Occasionally\", \"Often\"]\n",
    ")\n",
    "\n",
    "q1.add_question(q2)"
   ]
  },
  {
   "cell_type": "code",
   "execution_count": 6,
   "id": "668e19ce-a00e-4965-94a9-fd5361d857d7",
   "metadata": {},
   "outputs": [
    {
     "name": "stderr",
     "output_type": "stream",
     "text": [
      "Running surveys: 100%|███████████████████████████████████████████████████████| 1/1 [00:00<00:00, 44.31it/s]\n"
     ]
    }
   ],
   "source": [
    "result = q1.add_question(q2).run()"
   ]
  },
  {
   "cell_type": "code",
   "execution_count": 7,
   "id": "b5ab23a3-8d77-4184-9f5c-397f4b7a5789",
   "metadata": {},
   "outputs": [
    {
     "data": {
      "text/html": [
       "<pre style=\"white-space:pre;overflow-x:auto;line-height:normal;font-family:Menlo,'DejaVu Sans Mono',consolas,'Courier New',monospace\">┏━━━━━━━━┳━━━━━━━━━━━━━━┓\n",
       "┃<span style=\"color: #800080; text-decoration-color: #800080; font-weight: bold\"> answer </span>┃<span style=\"color: #800080; text-decoration-color: #800080; font-weight: bold\"> answer       </span>┃\n",
       "┃<span style=\"color: #800080; text-decoration-color: #800080; font-weight: bold\"> .fit   </span>┃<span style=\"color: #800080; text-decoration-color: #800080; font-weight: bold\"> .online      </span>┃\n",
       "┡━━━━━━━━╇━━━━━━━━━━━━━━┩\n",
       "│<span style=\"color: #7f7f7f; text-decoration-color: #7f7f7f\"> Yes    </span>│<span style=\"color: #7f7f7f; text-decoration-color: #7f7f7f\"> Occasionally </span>│\n",
       "└────────┴──────────────┘\n",
       "</pre>\n"
      ],
      "text/plain": [
       "┏━━━━━━━━┳━━━━━━━━━━━━━━┓\n",
       "┃\u001b[1;35m \u001b[0m\u001b[1;35manswer\u001b[0m\u001b[1;35m \u001b[0m┃\u001b[1;35m \u001b[0m\u001b[1;35manswer      \u001b[0m\u001b[1;35m \u001b[0m┃\n",
       "┃\u001b[1;35m \u001b[0m\u001b[1;35m.fit  \u001b[0m\u001b[1;35m \u001b[0m┃\u001b[1;35m \u001b[0m\u001b[1;35m.online     \u001b[0m\u001b[1;35m \u001b[0m┃\n",
       "┡━━━━━━━━╇━━━━━━━━━━━━━━┩\n",
       "│\u001b[2m \u001b[0m\u001b[2mYes   \u001b[0m\u001b[2m \u001b[0m│\u001b[2m \u001b[0m\u001b[2mOccasionally\u001b[0m\u001b[2m \u001b[0m│\n",
       "└────────┴──────────────┘\n"
      ]
     },
     "metadata": {},
     "output_type": "display_data"
    }
   ],
   "source": [
    "result.select(\"fit\",\"online\").print()"
   ]
  },
  {
   "cell_type": "markdown",
   "id": "f541ba43-8d1a-4fe6-a524-c9df2e23489d",
   "metadata": {},
   "source": [
    "<br>"
   ]
  },
  {
   "cell_type": "markdown",
   "id": "f089e1b4-9d50-43db-a3e2-601ca3dd7e57",
   "metadata": {},
   "source": [
    "We can also combine any-sized sets of questions in surveys:"
   ]
  },
  {
   "cell_type": "code",
   "execution_count": 8,
   "id": "00ad8828-18bf-47db-a585-af43f89c93f8",
   "metadata": {},
   "outputs": [],
   "source": [
    "q_factors = QuestionCheckBox(\n",
    "    question_name = \"q_factors\",\n",
    "    question_text = \"Which of the following factors are important to you in making decisions about clothes shopping? Select all that apply.\",\n",
    "    question_options = [\n",
    "        \"Price\",\n",
    "        \"Quality\",\n",
    "        \"Brand Reputation\",\n",
    "        \"Style and Design\",\n",
    "        \"Fit and Comfort\",\n",
    "        \"Customer Reviews and Recommendations\",\n",
    "        \"Ethical and Sustainable Practices\",\n",
    "        \"Return Policy\",\n",
    "        \"Convenience\",\n",
    "        \"Other\"\n",
    "    ]\n",
    ")\n",
    "\n",
    "survey = Survey(\n",
    "    questions = [\n",
    "        q_shopping,\n",
    "        q_factors\n",
    "    ]\n",
    ")"
   ]
  },
  {
   "cell_type": "code",
   "execution_count": 9,
   "id": "41a1a73e-059d-4508-bd7c-95bd81a3e0b0",
   "metadata": {},
   "outputs": [
    {
     "data": {
      "text/plain": [
       "Jobs(survey=Survey(questions=[QuestionLinearScale(question_name = 'q_shopping', short_names_dict = {}, question_text = 'On a scale of 0-10, how much do you typically enjoy shopping for {{item}}? (0 = Not at all, 10 = Very much)', question_options = [0, 1, 2, 3, 4, 5, 6, 7, 8, 9, 10], option_labels = None), QuestionCheckBox(question_name = 'q_factors', short_names_dict = {}, question_text = 'Which of the following factors are important to you in making decisions about clothes shopping? Select all that apply.', question_options = ['Price', 'Quality', 'Brand Reputation', 'Style and Design', 'Fit and Comfort', 'Customer Reviews and Recommendations', 'Ethical and Sustainable Practices', 'Return Policy', 'Convenience', 'Other'], min_selections = None, max_selections = None)], question_names=['q_shopping', 'q_factors'], name = None), agents=None, models=None, scenarios=[{'item': 'groceries'}, {'item': 'clothes'}, {'item': 'shoes'}, {'item': 'electronics'}, {'item': 'home furnishings'}, {'item': 'books'}, {'item': 'sporting equipment'}, {'item': 'wellness items'}])"
      ]
     },
     "execution_count": 9,
     "metadata": {},
     "output_type": "execute_result"
    }
   ],
   "source": [
    "survey.by(scenarios)"
   ]
  },
  {
   "cell_type": "code",
   "execution_count": 10,
   "id": "0ce450a8-c7f2-488b-862a-7b08323ff390",
   "metadata": {},
   "outputs": [
    {
     "name": "stderr",
     "output_type": "stream",
     "text": [
      "Running surveys: 100%|██████████████████████████████████████████████████████| 8/8 [00:00<00:00, 169.85it/s]\n"
     ]
    }
   ],
   "source": [
    "result = survey.by(scenarios).run()"
   ]
  },
  {
   "cell_type": "code",
   "execution_count": 11,
   "id": "b7f00c55-be96-427a-8058-81d16cdb62d6",
   "metadata": {},
   "outputs": [
    {
     "data": {
      "text/html": [
       "<pre style=\"white-space:pre;overflow-x:auto;line-height:normal;font-family:Menlo,'DejaVu Sans Mono',consolas,'Courier New',monospace\">┏━━━━━━━━━━━━━━━━━━━━┳━━━━━━━━━━━━━┳━━━━━━━━━━━━━━━━━━━━━━━━━━━━━━━━━━━━━━━━━━━━━━━━━━━━━━━━━━━━━━━━━━━━━━━━━━━━━━┓\n",
       "┃<span style=\"color: #800080; text-decoration-color: #800080; font-weight: bold\"> scenario           </span>┃<span style=\"color: #800080; text-decoration-color: #800080; font-weight: bold\"> answer      </span>┃<span style=\"color: #800080; text-decoration-color: #800080; font-weight: bold\"> answer                                                                       </span>┃\n",
       "┃<span style=\"color: #800080; text-decoration-color: #800080; font-weight: bold\"> .item              </span>┃<span style=\"color: #800080; text-decoration-color: #800080; font-weight: bold\"> .q_shopping </span>┃<span style=\"color: #800080; text-decoration-color: #800080; font-weight: bold\"> .q_factors                                                                   </span>┃\n",
       "┡━━━━━━━━━━━━━━━━━━━━╇━━━━━━━━━━━━━╇━━━━━━━━━━━━━━━━━━━━━━━━━━━━━━━━━━━━━━━━━━━━━━━━━━━━━━━━━━━━━━━━━━━━━━━━━━━━━━┩\n",
       "│<span style=\"color: #7f7f7f; text-decoration-color: #7f7f7f\"> groceries          </span>│<span style=\"color: #7f7f7f; text-decoration-color: #7f7f7f\"> 5           </span>│<span style=\"color: #7f7f7f; text-decoration-color: #7f7f7f\"> ['Price', 'Quality', 'Style and Design', 'Fit and Comfort', 'Customer        </span>│\n",
       "│<span style=\"color: #7f7f7f; text-decoration-color: #7f7f7f\">                    </span>│<span style=\"color: #7f7f7f; text-decoration-color: #7f7f7f\">             </span>│<span style=\"color: #7f7f7f; text-decoration-color: #7f7f7f\"> Reviews and Recommendations', 'Ethical and Sustainable Practices', 'Return   </span>│\n",
       "│<span style=\"color: #7f7f7f; text-decoration-color: #7f7f7f\">                    </span>│<span style=\"color: #7f7f7f; text-decoration-color: #7f7f7f\">             </span>│<span style=\"color: #7f7f7f; text-decoration-color: #7f7f7f\"> Policy', 'Convenience']                                                      </span>│\n",
       "├────────────────────┼─────────────┼──────────────────────────────────────────────────────────────────────────────┤\n",
       "│<span style=\"color: #7f7f7f; text-decoration-color: #7f7f7f\"> clothes            </span>│<span style=\"color: #7f7f7f; text-decoration-color: #7f7f7f\"> 7           </span>│<span style=\"color: #7f7f7f; text-decoration-color: #7f7f7f\"> ['Price', 'Quality', 'Style and Design', 'Fit and Comfort', 'Customer        </span>│\n",
       "│<span style=\"color: #7f7f7f; text-decoration-color: #7f7f7f\">                    </span>│<span style=\"color: #7f7f7f; text-decoration-color: #7f7f7f\">             </span>│<span style=\"color: #7f7f7f; text-decoration-color: #7f7f7f\"> Reviews and Recommendations', 'Ethical and Sustainable Practices', 'Return   </span>│\n",
       "│<span style=\"color: #7f7f7f; text-decoration-color: #7f7f7f\">                    </span>│<span style=\"color: #7f7f7f; text-decoration-color: #7f7f7f\">             </span>│<span style=\"color: #7f7f7f; text-decoration-color: #7f7f7f\"> Policy', 'Convenience']                                                      </span>│\n",
       "├────────────────────┼─────────────┼──────────────────────────────────────────────────────────────────────────────┤\n",
       "│<span style=\"color: #7f7f7f; text-decoration-color: #7f7f7f\"> shoes              </span>│<span style=\"color: #7f7f7f; text-decoration-color: #7f7f7f\"> 7           </span>│<span style=\"color: #7f7f7f; text-decoration-color: #7f7f7f\"> ['Price', 'Quality', 'Style and Design', 'Fit and Comfort', 'Customer        </span>│\n",
       "│<span style=\"color: #7f7f7f; text-decoration-color: #7f7f7f\">                    </span>│<span style=\"color: #7f7f7f; text-decoration-color: #7f7f7f\">             </span>│<span style=\"color: #7f7f7f; text-decoration-color: #7f7f7f\"> Reviews and Recommendations', 'Ethical and Sustainable Practices', 'Return   </span>│\n",
       "│<span style=\"color: #7f7f7f; text-decoration-color: #7f7f7f\">                    </span>│<span style=\"color: #7f7f7f; text-decoration-color: #7f7f7f\">             </span>│<span style=\"color: #7f7f7f; text-decoration-color: #7f7f7f\"> Policy', 'Convenience']                                                      </span>│\n",
       "├────────────────────┼─────────────┼──────────────────────────────────────────────────────────────────────────────┤\n",
       "│<span style=\"color: #7f7f7f; text-decoration-color: #7f7f7f\"> electronics        </span>│<span style=\"color: #7f7f7f; text-decoration-color: #7f7f7f\"> 7           </span>│<span style=\"color: #7f7f7f; text-decoration-color: #7f7f7f\"> ['Price', 'Quality', 'Style and Design', 'Fit and Comfort', 'Customer        </span>│\n",
       "│<span style=\"color: #7f7f7f; text-decoration-color: #7f7f7f\">                    </span>│<span style=\"color: #7f7f7f; text-decoration-color: #7f7f7f\">             </span>│<span style=\"color: #7f7f7f; text-decoration-color: #7f7f7f\"> Reviews and Recommendations', 'Ethical and Sustainable Practices', 'Return   </span>│\n",
       "│<span style=\"color: #7f7f7f; text-decoration-color: #7f7f7f\">                    </span>│<span style=\"color: #7f7f7f; text-decoration-color: #7f7f7f\">             </span>│<span style=\"color: #7f7f7f; text-decoration-color: #7f7f7f\"> Policy', 'Convenience']                                                      </span>│\n",
       "├────────────────────┼─────────────┼──────────────────────────────────────────────────────────────────────────────┤\n",
       "│<span style=\"color: #7f7f7f; text-decoration-color: #7f7f7f\"> home furnishings   </span>│<span style=\"color: #7f7f7f; text-decoration-color: #7f7f7f\"> 7           </span>│<span style=\"color: #7f7f7f; text-decoration-color: #7f7f7f\"> ['Price', 'Quality', 'Style and Design', 'Fit and Comfort', 'Customer        </span>│\n",
       "│<span style=\"color: #7f7f7f; text-decoration-color: #7f7f7f\">                    </span>│<span style=\"color: #7f7f7f; text-decoration-color: #7f7f7f\">             </span>│<span style=\"color: #7f7f7f; text-decoration-color: #7f7f7f\"> Reviews and Recommendations', 'Ethical and Sustainable Practices', 'Return   </span>│\n",
       "│<span style=\"color: #7f7f7f; text-decoration-color: #7f7f7f\">                    </span>│<span style=\"color: #7f7f7f; text-decoration-color: #7f7f7f\">             </span>│<span style=\"color: #7f7f7f; text-decoration-color: #7f7f7f\"> Policy', 'Convenience']                                                      </span>│\n",
       "├────────────────────┼─────────────┼──────────────────────────────────────────────────────────────────────────────┤\n",
       "│<span style=\"color: #7f7f7f; text-decoration-color: #7f7f7f\"> books              </span>│<span style=\"color: #7f7f7f; text-decoration-color: #7f7f7f\"> 8           </span>│<span style=\"color: #7f7f7f; text-decoration-color: #7f7f7f\"> ['Price', 'Quality', 'Style and Design', 'Fit and Comfort', 'Customer        </span>│\n",
       "│<span style=\"color: #7f7f7f; text-decoration-color: #7f7f7f\">                    </span>│<span style=\"color: #7f7f7f; text-decoration-color: #7f7f7f\">             </span>│<span style=\"color: #7f7f7f; text-decoration-color: #7f7f7f\"> Reviews and Recommendations', 'Ethical and Sustainable Practices', 'Return   </span>│\n",
       "│<span style=\"color: #7f7f7f; text-decoration-color: #7f7f7f\">                    </span>│<span style=\"color: #7f7f7f; text-decoration-color: #7f7f7f\">             </span>│<span style=\"color: #7f7f7f; text-decoration-color: #7f7f7f\"> Policy', 'Convenience']                                                      </span>│\n",
       "├────────────────────┼─────────────┼──────────────────────────────────────────────────────────────────────────────┤\n",
       "│<span style=\"color: #7f7f7f; text-decoration-color: #7f7f7f\"> sporting equipment </span>│<span style=\"color: #7f7f7f; text-decoration-color: #7f7f7f\"> 7           </span>│<span style=\"color: #7f7f7f; text-decoration-color: #7f7f7f\"> ['Price', 'Quality', 'Style and Design', 'Fit and Comfort', 'Customer        </span>│\n",
       "│<span style=\"color: #7f7f7f; text-decoration-color: #7f7f7f\">                    </span>│<span style=\"color: #7f7f7f; text-decoration-color: #7f7f7f\">             </span>│<span style=\"color: #7f7f7f; text-decoration-color: #7f7f7f\"> Reviews and Recommendations', 'Ethical and Sustainable Practices', 'Return   </span>│\n",
       "│<span style=\"color: #7f7f7f; text-decoration-color: #7f7f7f\">                    </span>│<span style=\"color: #7f7f7f; text-decoration-color: #7f7f7f\">             </span>│<span style=\"color: #7f7f7f; text-decoration-color: #7f7f7f\"> Policy', 'Convenience']                                                      </span>│\n",
       "├────────────────────┼─────────────┼──────────────────────────────────────────────────────────────────────────────┤\n",
       "│<span style=\"color: #7f7f7f; text-decoration-color: #7f7f7f\"> wellness items     </span>│<span style=\"color: #7f7f7f; text-decoration-color: #7f7f7f\"> 7           </span>│<span style=\"color: #7f7f7f; text-decoration-color: #7f7f7f\"> ['Price', 'Quality', 'Style and Design', 'Fit and Comfort', 'Customer        </span>│\n",
       "│<span style=\"color: #7f7f7f; text-decoration-color: #7f7f7f\">                    </span>│<span style=\"color: #7f7f7f; text-decoration-color: #7f7f7f\">             </span>│<span style=\"color: #7f7f7f; text-decoration-color: #7f7f7f\"> Reviews and Recommendations', 'Ethical and Sustainable Practices', 'Return   </span>│\n",
       "│<span style=\"color: #7f7f7f; text-decoration-color: #7f7f7f\">                    </span>│<span style=\"color: #7f7f7f; text-decoration-color: #7f7f7f\">             </span>│<span style=\"color: #7f7f7f; text-decoration-color: #7f7f7f\"> Policy', 'Convenience']                                                      </span>│\n",
       "└────────────────────┴─────────────┴──────────────────────────────────────────────────────────────────────────────┘\n",
       "</pre>\n"
      ],
      "text/plain": [
       "┏━━━━━━━━━━━━━━━━━━━━┳━━━━━━━━━━━━━┳━━━━━━━━━━━━━━━━━━━━━━━━━━━━━━━━━━━━━━━━━━━━━━━━━━━━━━━━━━━━━━━━━━━━━━━━━━━━━━┓\n",
       "┃\u001b[1;35m \u001b[0m\u001b[1;35mscenario          \u001b[0m\u001b[1;35m \u001b[0m┃\u001b[1;35m \u001b[0m\u001b[1;35manswer     \u001b[0m\u001b[1;35m \u001b[0m┃\u001b[1;35m \u001b[0m\u001b[1;35manswer                                                                      \u001b[0m\u001b[1;35m \u001b[0m┃\n",
       "┃\u001b[1;35m \u001b[0m\u001b[1;35m.item             \u001b[0m\u001b[1;35m \u001b[0m┃\u001b[1;35m \u001b[0m\u001b[1;35m.q_shopping\u001b[0m\u001b[1;35m \u001b[0m┃\u001b[1;35m \u001b[0m\u001b[1;35m.q_factors                                                                  \u001b[0m\u001b[1;35m \u001b[0m┃\n",
       "┡━━━━━━━━━━━━━━━━━━━━╇━━━━━━━━━━━━━╇━━━━━━━━━━━━━━━━━━━━━━━━━━━━━━━━━━━━━━━━━━━━━━━━━━━━━━━━━━━━━━━━━━━━━━━━━━━━━━┩\n",
       "│\u001b[2m \u001b[0m\u001b[2mgroceries         \u001b[0m\u001b[2m \u001b[0m│\u001b[2m \u001b[0m\u001b[2m5          \u001b[0m\u001b[2m \u001b[0m│\u001b[2m \u001b[0m\u001b[2m['Price', 'Quality', 'Style and Design', 'Fit and Comfort', 'Customer       \u001b[0m\u001b[2m \u001b[0m│\n",
       "│\u001b[2m                    \u001b[0m│\u001b[2m             \u001b[0m│\u001b[2m \u001b[0m\u001b[2mReviews and Recommendations', 'Ethical and Sustainable Practices', 'Return  \u001b[0m\u001b[2m \u001b[0m│\n",
       "│\u001b[2m                    \u001b[0m│\u001b[2m             \u001b[0m│\u001b[2m \u001b[0m\u001b[2mPolicy', 'Convenience']                                                     \u001b[0m\u001b[2m \u001b[0m│\n",
       "├────────────────────┼─────────────┼──────────────────────────────────────────────────────────────────────────────┤\n",
       "│\u001b[2m \u001b[0m\u001b[2mclothes           \u001b[0m\u001b[2m \u001b[0m│\u001b[2m \u001b[0m\u001b[2m7          \u001b[0m\u001b[2m \u001b[0m│\u001b[2m \u001b[0m\u001b[2m['Price', 'Quality', 'Style and Design', 'Fit and Comfort', 'Customer       \u001b[0m\u001b[2m \u001b[0m│\n",
       "│\u001b[2m                    \u001b[0m│\u001b[2m             \u001b[0m│\u001b[2m \u001b[0m\u001b[2mReviews and Recommendations', 'Ethical and Sustainable Practices', 'Return  \u001b[0m\u001b[2m \u001b[0m│\n",
       "│\u001b[2m                    \u001b[0m│\u001b[2m             \u001b[0m│\u001b[2m \u001b[0m\u001b[2mPolicy', 'Convenience']                                                     \u001b[0m\u001b[2m \u001b[0m│\n",
       "├────────────────────┼─────────────┼──────────────────────────────────────────────────────────────────────────────┤\n",
       "│\u001b[2m \u001b[0m\u001b[2mshoes             \u001b[0m\u001b[2m \u001b[0m│\u001b[2m \u001b[0m\u001b[2m7          \u001b[0m\u001b[2m \u001b[0m│\u001b[2m \u001b[0m\u001b[2m['Price', 'Quality', 'Style and Design', 'Fit and Comfort', 'Customer       \u001b[0m\u001b[2m \u001b[0m│\n",
       "│\u001b[2m                    \u001b[0m│\u001b[2m             \u001b[0m│\u001b[2m \u001b[0m\u001b[2mReviews and Recommendations', 'Ethical and Sustainable Practices', 'Return  \u001b[0m\u001b[2m \u001b[0m│\n",
       "│\u001b[2m                    \u001b[0m│\u001b[2m             \u001b[0m│\u001b[2m \u001b[0m\u001b[2mPolicy', 'Convenience']                                                     \u001b[0m\u001b[2m \u001b[0m│\n",
       "├────────────────────┼─────────────┼──────────────────────────────────────────────────────────────────────────────┤\n",
       "│\u001b[2m \u001b[0m\u001b[2melectronics       \u001b[0m\u001b[2m \u001b[0m│\u001b[2m \u001b[0m\u001b[2m7          \u001b[0m\u001b[2m \u001b[0m│\u001b[2m \u001b[0m\u001b[2m['Price', 'Quality', 'Style and Design', 'Fit and Comfort', 'Customer       \u001b[0m\u001b[2m \u001b[0m│\n",
       "│\u001b[2m                    \u001b[0m│\u001b[2m             \u001b[0m│\u001b[2m \u001b[0m\u001b[2mReviews and Recommendations', 'Ethical and Sustainable Practices', 'Return  \u001b[0m\u001b[2m \u001b[0m│\n",
       "│\u001b[2m                    \u001b[0m│\u001b[2m             \u001b[0m│\u001b[2m \u001b[0m\u001b[2mPolicy', 'Convenience']                                                     \u001b[0m\u001b[2m \u001b[0m│\n",
       "├────────────────────┼─────────────┼──────────────────────────────────────────────────────────────────────────────┤\n",
       "│\u001b[2m \u001b[0m\u001b[2mhome furnishings  \u001b[0m\u001b[2m \u001b[0m│\u001b[2m \u001b[0m\u001b[2m7          \u001b[0m\u001b[2m \u001b[0m│\u001b[2m \u001b[0m\u001b[2m['Price', 'Quality', 'Style and Design', 'Fit and Comfort', 'Customer       \u001b[0m\u001b[2m \u001b[0m│\n",
       "│\u001b[2m                    \u001b[0m│\u001b[2m             \u001b[0m│\u001b[2m \u001b[0m\u001b[2mReviews and Recommendations', 'Ethical and Sustainable Practices', 'Return  \u001b[0m\u001b[2m \u001b[0m│\n",
       "│\u001b[2m                    \u001b[0m│\u001b[2m             \u001b[0m│\u001b[2m \u001b[0m\u001b[2mPolicy', 'Convenience']                                                     \u001b[0m\u001b[2m \u001b[0m│\n",
       "├────────────────────┼─────────────┼──────────────────────────────────────────────────────────────────────────────┤\n",
       "│\u001b[2m \u001b[0m\u001b[2mbooks             \u001b[0m\u001b[2m \u001b[0m│\u001b[2m \u001b[0m\u001b[2m8          \u001b[0m\u001b[2m \u001b[0m│\u001b[2m \u001b[0m\u001b[2m['Price', 'Quality', 'Style and Design', 'Fit and Comfort', 'Customer       \u001b[0m\u001b[2m \u001b[0m│\n",
       "│\u001b[2m                    \u001b[0m│\u001b[2m             \u001b[0m│\u001b[2m \u001b[0m\u001b[2mReviews and Recommendations', 'Ethical and Sustainable Practices', 'Return  \u001b[0m\u001b[2m \u001b[0m│\n",
       "│\u001b[2m                    \u001b[0m│\u001b[2m             \u001b[0m│\u001b[2m \u001b[0m\u001b[2mPolicy', 'Convenience']                                                     \u001b[0m\u001b[2m \u001b[0m│\n",
       "├────────────────────┼─────────────┼──────────────────────────────────────────────────────────────────────────────┤\n",
       "│\u001b[2m \u001b[0m\u001b[2msporting equipment\u001b[0m\u001b[2m \u001b[0m│\u001b[2m \u001b[0m\u001b[2m7          \u001b[0m\u001b[2m \u001b[0m│\u001b[2m \u001b[0m\u001b[2m['Price', 'Quality', 'Style and Design', 'Fit and Comfort', 'Customer       \u001b[0m\u001b[2m \u001b[0m│\n",
       "│\u001b[2m                    \u001b[0m│\u001b[2m             \u001b[0m│\u001b[2m \u001b[0m\u001b[2mReviews and Recommendations', 'Ethical and Sustainable Practices', 'Return  \u001b[0m\u001b[2m \u001b[0m│\n",
       "│\u001b[2m                    \u001b[0m│\u001b[2m             \u001b[0m│\u001b[2m \u001b[0m\u001b[2mPolicy', 'Convenience']                                                     \u001b[0m\u001b[2m \u001b[0m│\n",
       "├────────────────────┼─────────────┼──────────────────────────────────────────────────────────────────────────────┤\n",
       "│\u001b[2m \u001b[0m\u001b[2mwellness items    \u001b[0m\u001b[2m \u001b[0m│\u001b[2m \u001b[0m\u001b[2m7          \u001b[0m\u001b[2m \u001b[0m│\u001b[2m \u001b[0m\u001b[2m['Price', 'Quality', 'Style and Design', 'Fit and Comfort', 'Customer       \u001b[0m\u001b[2m \u001b[0m│\n",
       "│\u001b[2m                    \u001b[0m│\u001b[2m             \u001b[0m│\u001b[2m \u001b[0m\u001b[2mReviews and Recommendations', 'Ethical and Sustainable Practices', 'Return  \u001b[0m\u001b[2m \u001b[0m│\n",
       "│\u001b[2m                    \u001b[0m│\u001b[2m             \u001b[0m│\u001b[2m \u001b[0m\u001b[2mPolicy', 'Convenience']                                                     \u001b[0m\u001b[2m \u001b[0m│\n",
       "└────────────────────┴─────────────┴──────────────────────────────────────────────────────────────────────────────┘\n"
      ]
     },
     "metadata": {},
     "output_type": "display_data"
    }
   ],
   "source": [
    "result.select(\"scenario.*\",\"q_shopping\",\"q_factors\").print()"
   ]
  },
  {
   "cell_type": "markdown",
   "id": "5bdf4981-a577-410c-9ba8-e9b338bd8358",
   "metadata": {},
   "source": [
    "<br>"
   ]
  },
  {
   "cell_type": "markdown",
   "id": "281d36e5-db36-473f-9610-c439c4cd35a2",
   "metadata": {},
   "source": [
    "# Seeding questions\n",
    "If we want an agent to refer to a prior response in answering a new question, we can seed the new question with a response to a prior question:"
   ]
  },
  {
   "cell_type": "code",
   "execution_count": 12,
   "id": "8d68440f-3f39-4ab2-9ea7-b2626a2a074a",
   "metadata": {},
   "outputs": [],
   "source": [
    "q_green_eggs_ham = QuestionYesNo(\n",
    "    question_name = \"green_eggs_ham\",\n",
    "    question_text = \"Do you like {{food}}?\"\n",
    ")\n",
    "\n",
    "q_sam = QuestionYesNo(\n",
    "    question_name = \"sam\",\n",
    "    question_text = \"You were previously asked: '\" + q_green_eggs_ham.question_text \n",
    "        + \"' You responded: '{{green_eggs_ham}}'. Are you Sam I Am?\"\n",
    ")\n",
    "\n",
    "q_ham_sam = compose_questions(q_green_eggs_ham, q_sam).by(Scenario({\"food\":\"green eggs and ham\"}))"
   ]
  },
  {
   "cell_type": "code",
   "execution_count": 13,
   "id": "214b4841-561c-4117-ba93-454715940fb9",
   "metadata": {},
   "outputs": [
    {
     "data": {
      "text/plain": [
       "Jobs(survey=Survey(questions=[QuestionFunctional(question_name = 'green_eggs_ham_sam', short_names_dict = {}, question_text = 'functional', func = <function compose_questions.<locals>.combo at 0x17a926660>)], question_names=['green_eggs_ham_sam'], name = None), agents=None, models=None, scenarios=({'food': 'green eggs and ham'},))"
      ]
     },
     "execution_count": 13,
     "metadata": {},
     "output_type": "execute_result"
    }
   ],
   "source": [
    "q_ham_sam"
   ]
  },
  {
   "cell_type": "markdown",
   "id": "d27d0f6f-6644-44f5-af45-4013c57dcc82",
   "metadata": {},
   "source": [
    "<br>"
   ]
  },
  {
   "cell_type": "markdown",
   "id": "1b397a90-c551-4985-b610-3e304d4d7c82",
   "metadata": {},
   "source": [
    "# Survey rules\n",
    "We can add rules to a survey, such as skip logic and stop logic. Here we at a stop rule to end the survey at the first question if the response is \"No\":"
   ]
  },
  {
   "cell_type": "code",
   "execution_count": 14,
   "id": "f24a39b1-7747-4aec-9005-5026be54f402",
   "metadata": {},
   "outputs": [],
   "source": [
    "q_ham_sam = (q_green_eggs_ham\n",
    "             .add_question(q_sam)\n",
    "             .add_stop_rule(\"green_eggs_ham\", \"green_eggs_ham == 'no'\")\n",
    "            )"
   ]
  },
  {
   "cell_type": "code",
   "execution_count": 15,
   "id": "5a7d8ab3-570f-4c69-be1b-886c38d38427",
   "metadata": {},
   "outputs": [
    {
     "data": {
      "text/html": [
       "<p><b>green_eggs_ham</b> (yes_no): Do you like {{food}}?</p>\n",
       "<ul>\n",
       "<li>Yes</li>\n",
       "<li>No</li>\n",
       "</ul>\n",
       "<p><b>sam</b> (yes_no): You were previously asked: 'Do you like {{food}}?' You responded: '{{green_eggs_ham}}'. Are you Sam I Am?</p>\n",
       "<ul>\n",
       "<li>Yes</li>\n",
       "<li>No</li>\n",
       "</ul>"
      ],
      "text/plain": [
       "Survey(questions=[QuestionYesNo(question_name = 'green_eggs_ham', short_names_dict = {}, question_text = 'Do you like {{food}}?', question_options = ['Yes', 'No']), QuestionYesNo(question_name = 'sam', short_names_dict = {}, question_text = 'You were previously asked: 'Do you like {{food}}?' You responded: '{{green_eggs_ham}}'. Are you Sam I Am?', question_options = ['Yes', 'No'])], question_names=['green_eggs_ham', 'sam'], name = None)"
      ]
     },
     "execution_count": 15,
     "metadata": {},
     "output_type": "execute_result"
    }
   ],
   "source": [
    "q_ham_sam"
   ]
  },
  {
   "cell_type": "markdown",
   "id": "2fed8d28-dbef-4bc9-9b2b-546cd749c26d",
   "metadata": {},
   "source": [
    "<br>"
   ]
  },
  {
   "cell_type": "markdown",
   "id": "6a393bcc-e279-4252-b014-f150d16d54dd",
   "metadata": {},
   "source": [
    "# Show prompts\n",
    "Especially when using scenarios or other parameters, it can be helpful to review the prompts that will be sent to the LLM in advance. This can be done as by creating a simple method to print the texts of the question prompts with the parameters:"
   ]
  },
  {
   "cell_type": "code",
   "execution_count": 16,
   "id": "c6394a9c-e5e5-4771-9e21-f8e977107c7f",
   "metadata": {},
   "outputs": [],
   "source": [
    "def print_full_prompt(question, agent, scenario=None):\n",
    "    \"\"\"Prints the full prompt and system prompt for the given question and agent.\"\"\"\n",
    "    if scenarios:\n",
    "        scenario = scenario or Scenario()\n",
    "        system_prompt = agent.construct_system_prompt(question)\n",
    "        case_prompt = question.get_prompt(scenario=scenario)\n",
    "\n",
    "        print(f\"Prompt for Scenario: {scenario}\")\n",
    "        print(f\"System Prompt: {system_prompt}\")\n",
    "        print(f\"Scenario Prompt: {case_prompt}\\n\")\n",
    "    else:\n",
    "        system_prompt = agent.construct_system_prompt(question)\n",
    "        prompt = question.get_prompt()\n",
    "\n",
    "        print(f\"Prompt: {prompt}\")\n",
    "        print(f\"System Prompt: {system_prompt}\")"
   ]
  },
  {
   "cell_type": "markdown",
   "id": "5f107e92-38d2-44d4-95c9-73b8f2469f95",
   "metadata": {},
   "source": [
    "Here we test it with an example:"
   ]
  },
  {
   "cell_type": "code",
   "execution_count": 17,
   "id": "7818bd42-0e67-4e15-a9fc-92aaa6a72133",
   "metadata": {},
   "outputs": [
    {
     "name": "stdout",
     "output_type": "stream",
     "text": [
      "Prompt for Scenario: {'activity': 'drafting surveys'}\n",
      "System Prompt: You are answering questions as if you were a human. Do not break character. Your traits are: {'age': 44, 'gender': 'female'}.\n",
      "Scenario Prompt: You are being asked the following question: Do you enjoy drafting surveys?\n",
      "The options are \n",
      "\n",
      "0: Yes\n",
      "\n",
      "1: No\n",
      "                       \n",
      "Return a valid JSON formatted like this, selecting only the number of the option: \n",
      "{\"answer\": <put answer code here>, \"comment\": \"<put explanation here>\"}\n",
      "Only 1 option may be selected.\n",
      "\n",
      "Prompt for Scenario: {'activity': 'taking surveys'}\n",
      "System Prompt: You are answering questions as if you were a human. Do not break character. Your traits are: {'age': 44, 'gender': 'female'}.\n",
      "Scenario Prompt: You are being asked the following question: Do you enjoy taking surveys?\n",
      "The options are \n",
      "\n",
      "0: Yes\n",
      "\n",
      "1: No\n",
      "                       \n",
      "Return a valid JSON formatted like this, selecting only the number of the option: \n",
      "{\"answer\": <put answer code here>, \"comment\": \"<put explanation here>\"}\n",
      "Only 1 option may be selected.\n",
      "\n",
      "Prompt for Scenario: {'activity': 'thinking about survey software'}\n",
      "System Prompt: You are answering questions as if you were a human. Do not break character. Your traits are: {'age': 44, 'gender': 'female'}.\n",
      "Scenario Prompt: You are being asked the following question: Do you enjoy thinking about survey software?\n",
      "The options are \n",
      "\n",
      "0: Yes\n",
      "\n",
      "1: No\n",
      "                       \n",
      "Return a valid JSON formatted like this, selecting only the number of the option: \n",
      "{\"answer\": <put answer code here>, \"comment\": \"<put explanation here>\"}\n",
      "Only 1 option may be selected.\n",
      "\n"
     ]
    }
   ],
   "source": [
    "from edsl.agents import Agent\n",
    "from edsl.questions import QuestionMultipleChoice\n",
    "from edsl.scenarios import Scenario\n",
    "\n",
    "agent = Agent(traits={\"age\": 44, \"gender\": \"female\"})\n",
    "\n",
    "question = QuestionMultipleChoice(\n",
    "    question_text=\"Do you enjoy {{activity}}?\",\n",
    "    question_options=[\"Yes\", \"No\"],\n",
    "    question_name=\"activities\",\n",
    ")\n",
    "\n",
    "activities = [\"drafting surveys\", \"taking surveys\", \"thinking about survey software\"]\n",
    "scenarios = [Scenario({\"activity\": a}) for a in activities]\n",
    "\n",
    "for scenario in scenarios:\n",
    "    print_full_prompt(question, agent, scenario)"
   ]
  },
  {
   "cell_type": "markdown",
   "id": "0fe45886-8f61-48ff-a4c9-5921f74b335c",
   "metadata": {},
   "source": [
    "<br>"
   ]
  },
  {
   "cell_type": "markdown",
   "id": "afbc9043-4df2-4c27-bd85-1d78053ff43e",
   "metadata": {},
   "source": [
    "# Survey contexts and administration\n",
    "We can explore relationships between survey responses and the contexts or conditions under which a survey was \"administered\". For example, do responses vary depending on whether the questions asked in an anonymous paper or online survey, by a researcher or in a focus group composed of diverse or similar individuals?\n",
    "\n",
    "This can be explored in `edsl` by adding context about the survey administration to the question text and/or agent traits:\n",
    "\n",
    "<blockquote>\n",
    "    <i>Do you exercise every day? (You are being asked this question in a focus group of peers.)</i>\n",
    "</blockquote>\n",
    "\n",
    "See an <a href=\"https://examples.goemeritus.com/survey_admin/\">example notebook here</a>."
   ]
  },
  {
   "cell_type": "code",
   "execution_count": null,
   "id": "f7759323-7bf7-4f7e-9836-f953d6400374",
   "metadata": {},
   "outputs": [],
   "source": []
  },
  {
   "cell_type": "markdown",
   "id": "6e216a4b-c096-43a1-8805-7356343338ab",
   "metadata": {},
   "source": [
    "<br>"
   ]
  },
  {
   "cell_type": "markdown",
   "id": "c868b007-39c4-473f-931f-5ea0ad5a5450",
   "metadata": {},
   "source": [
    "---\n",
    "<h1 style=\"font-size: 14px;\">Copyright © 2023 Go Emeritus, Inc. All rights reserved.   <a href=\"www.goemeritus.com\" style=\"color:#130061\">www.goemeritus.com</a></h1>"
   ]
  }
 ],
 "metadata": {
  "kernelspec": {
   "display_name": "Python 3 (ipykernel)",
   "language": "python",
   "name": "python3"
  },
  "language_info": {
   "codemirror_mode": {
    "name": "ipython",
    "version": 3
   },
   "file_extension": ".py",
   "mimetype": "text/x-python",
   "name": "python",
   "nbconvert_exporter": "python",
   "pygments_lexer": "ipython3",
   "version": "3.11.7"
  }
 },
 "nbformat": 4,
 "nbformat_minor": 5
}
